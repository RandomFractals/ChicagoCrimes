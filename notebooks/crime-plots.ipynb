{
 "cells": [
  {
   "cell_type": "code",
   "execution_count": 1,
   "metadata": {
    "collapsed": true
   },
   "outputs": [],
   "source": [
    "import dask.dataframe as dd\n",
    "import numpy as np \n",
    "import pandas as pd \n",
    "import matplotlib.pyplot as plt\n",
    "%matplotlib inline\n",
    "plt.style.use('seaborn')"
   ]
  },
  {
   "cell_type": "code",
   "execution_count": 2,
   "metadata": {
    "collapsed": true
   },
   "outputs": [],
   "source": [
    "# load crimes parquet data into dask df\n",
    "data_file_name = '../data/crimes-2017-7-4.parq'\n",
    "crimes = dd.read_parquet(data_file_name,\n",
    "                        index='Date')"
   ]
  },
  {
   "cell_type": "code",
   "execution_count": 3,
   "metadata": {
    "collapsed": false
   },
   "outputs": [
    {
     "name": "stdout",
     "output_type": "stream",
     "text": [
      "129,956 total records in 1 partitions\n",
      "DataFrame size: 1,039,648\n",
      "Wall time: 2.6 s\n"
     ]
    }
   ],
   "source": [
    "%%time\n",
    "# log records count and load data partitions\n",
    "print(\"{:,} total records in {} partitions\".format(len(crimes), crimes.npartitions))\n",
    "print(\"DataFrame size: {:,}\".format(crimes.size.compute()))"
   ]
  },
  {
   "cell_type": "code",
   "execution_count": 4,
   "metadata": {
    "collapsed": false
   },
   "outputs": [
    {
     "data": {
      "text/html": [
       "<div><strong>Dask DataFrame Structure:</strong></div>\n",
       "<div>\n",
       "<style>\n",
       "    .dataframe thead tr:only-child th {\n",
       "        text-align: right;\n",
       "    }\n",
       "\n",
       "    .dataframe thead th {\n",
       "        text-align: left;\n",
       "    }\n",
       "\n",
       "    .dataframe tbody tr th {\n",
       "        vertical-align: top;\n",
       "    }\n",
       "</style>\n",
       "<table border=\"1\" class=\"dataframe\">\n",
       "  <thead>\n",
       "    <tr style=\"text-align: right;\">\n",
       "      <th></th>\n",
       "      <th>Block</th>\n",
       "      <th>PrimaryType</th>\n",
       "      <th>Description</th>\n",
       "      <th>LocationDescription</th>\n",
       "      <th>Arrest</th>\n",
       "      <th>Domestic</th>\n",
       "      <th>Latitude</th>\n",
       "      <th>Longitude</th>\n",
       "    </tr>\n",
       "    <tr>\n",
       "      <th>npartitions=1</th>\n",
       "      <th></th>\n",
       "      <th></th>\n",
       "      <th></th>\n",
       "      <th></th>\n",
       "      <th></th>\n",
       "      <th></th>\n",
       "      <th></th>\n",
       "      <th></th>\n",
       "    </tr>\n",
       "  </thead>\n",
       "  <tbody>\n",
       "    <tr>\n",
       "      <th>2017-01-01 00:00:00</th>\n",
       "      <td>object</td>\n",
       "      <td>object</td>\n",
       "      <td>object</td>\n",
       "      <td>object</td>\n",
       "      <td>bool</td>\n",
       "      <td>bool</td>\n",
       "      <td>float64</td>\n",
       "      <td>float64</td>\n",
       "    </tr>\n",
       "    <tr>\n",
       "      <th>2017-07-04 23:50:00</th>\n",
       "      <td>...</td>\n",
       "      <td>...</td>\n",
       "      <td>...</td>\n",
       "      <td>...</td>\n",
       "      <td>...</td>\n",
       "      <td>...</td>\n",
       "      <td>...</td>\n",
       "      <td>...</td>\n",
       "    </tr>\n",
       "  </tbody>\n",
       "</table>\n",
       "</div>\n",
       "<div>Dask Name: read-parquet, 1 tasks</div>"
      ],
      "text/plain": [
       "Dask DataFrame Structure:\n",
       "                      Block PrimaryType Description LocationDescription Arrest Domestic Latitude Longitude\n",
       "npartitions=1                                                                                             \n",
       "2017-01-01 00:00:00  object      object      object              object   bool     bool  float64   float64\n",
       "2017-07-04 23:50:00     ...         ...         ...                 ...    ...      ...      ...       ...\n",
       "Dask Name: read-parquet, 1 tasks"
      ]
     },
     "execution_count": 4,
     "metadata": {},
     "output_type": "execute_result"
    }
   ],
   "source": [
    "# check data frame structure\n",
    "crimes"
   ]
  },
  {
   "cell_type": "code",
   "execution_count": 5,
   "metadata": {
    "collapsed": false
   },
   "outputs": [
    {
     "data": {
      "text/html": [
       "<div>\n",
       "<style>\n",
       "    .dataframe thead tr:only-child th {\n",
       "        text-align: right;\n",
       "    }\n",
       "\n",
       "    .dataframe thead th {\n",
       "        text-align: left;\n",
       "    }\n",
       "\n",
       "    .dataframe tbody tr th {\n",
       "        vertical-align: top;\n",
       "    }\n",
       "</style>\n",
       "<table border=\"1\" class=\"dataframe\">\n",
       "  <thead>\n",
       "    <tr style=\"text-align: right;\">\n",
       "      <th></th>\n",
       "      <th>Block</th>\n",
       "      <th>PrimaryType</th>\n",
       "      <th>Description</th>\n",
       "      <th>LocationDescription</th>\n",
       "      <th>Arrest</th>\n",
       "      <th>Domestic</th>\n",
       "      <th>Latitude</th>\n",
       "      <th>Longitude</th>\n",
       "    </tr>\n",
       "    <tr>\n",
       "      <th>Date</th>\n",
       "      <th></th>\n",
       "      <th></th>\n",
       "      <th></th>\n",
       "      <th></th>\n",
       "      <th></th>\n",
       "      <th></th>\n",
       "      <th></th>\n",
       "      <th></th>\n",
       "    </tr>\n",
       "  </thead>\n",
       "  <tbody>\n",
       "    <tr>\n",
       "      <th>2017-07-04 18:39:00</th>\n",
       "      <td>002XX E 132ND ST</td>\n",
       "      <td>HOMICIDE</td>\n",
       "      <td>FIRST DEGREE MURDER</td>\n",
       "      <td>AUTO</td>\n",
       "      <td>False</td>\n",
       "      <td>False</td>\n",
       "      <td>41.655619</td>\n",
       "      <td>-87.616339</td>\n",
       "    </tr>\n",
       "    <tr>\n",
       "      <th>2017-04-11 14:00:00</th>\n",
       "      <td>038XX N LINCOLN AVE</td>\n",
       "      <td>THEFT</td>\n",
       "      <td>OVER $500</td>\n",
       "      <td>RESTAURANT</td>\n",
       "      <td>False</td>\n",
       "      <td>False</td>\n",
       "      <td>NaN</td>\n",
       "      <td>NaN</td>\n",
       "    </tr>\n",
       "    <tr>\n",
       "      <th>2017-05-20 14:00:00</th>\n",
       "      <td>008XX N HAMLIN AVE</td>\n",
       "      <td>OTHER OFFENSE</td>\n",
       "      <td>TELEPHONE THREAT</td>\n",
       "      <td>APARTMENT</td>\n",
       "      <td>False</td>\n",
       "      <td>False</td>\n",
       "      <td>NaN</td>\n",
       "      <td>NaN</td>\n",
       "    </tr>\n",
       "    <tr>\n",
       "      <th>2017-07-04 08:00:00</th>\n",
       "      <td>043XX N CICERO AVE</td>\n",
       "      <td>DECEPTIVE PRACTICE</td>\n",
       "      <td>THEFT BY LESSEE,MOTOR VEH</td>\n",
       "      <td>OTHER</td>\n",
       "      <td>False</td>\n",
       "      <td>False</td>\n",
       "      <td>NaN</td>\n",
       "      <td>NaN</td>\n",
       "    </tr>\n",
       "    <tr>\n",
       "      <th>2017-07-04 07:14:00</th>\n",
       "      <td>014XX W 79TH ST</td>\n",
       "      <td>CRIMINAL DAMAGE</td>\n",
       "      <td>TO PROPERTY</td>\n",
       "      <td>STREET</td>\n",
       "      <td>False</td>\n",
       "      <td>False</td>\n",
       "      <td>NaN</td>\n",
       "      <td>NaN</td>\n",
       "    </tr>\n",
       "  </tbody>\n",
       "</table>\n",
       "</div>"
      ],
      "text/plain": [
       "                                   Block         PrimaryType  \\\n",
       "Date                                                           \n",
       "2017-07-04 18:39:00     002XX E 132ND ST            HOMICIDE   \n",
       "2017-04-11 14:00:00  038XX N LINCOLN AVE               THEFT   \n",
       "2017-05-20 14:00:00   008XX N HAMLIN AVE       OTHER OFFENSE   \n",
       "2017-07-04 08:00:00   043XX N CICERO AVE  DECEPTIVE PRACTICE   \n",
       "2017-07-04 07:14:00      014XX W 79TH ST     CRIMINAL DAMAGE   \n",
       "\n",
       "                                   Description LocationDescription  Arrest  \\\n",
       "Date                                                                         \n",
       "2017-07-04 18:39:00        FIRST DEGREE MURDER                AUTO   False   \n",
       "2017-04-11 14:00:00                  OVER $500          RESTAURANT   False   \n",
       "2017-05-20 14:00:00           TELEPHONE THREAT           APARTMENT   False   \n",
       "2017-07-04 08:00:00  THEFT BY LESSEE,MOTOR VEH               OTHER   False   \n",
       "2017-07-04 07:14:00                TO PROPERTY              STREET   False   \n",
       "\n",
       "                     Domestic   Latitude  Longitude  \n",
       "Date                                                 \n",
       "2017-07-04 18:39:00     False  41.655619 -87.616339  \n",
       "2017-04-11 14:00:00     False        NaN        NaN  \n",
       "2017-05-20 14:00:00     False        NaN        NaN  \n",
       "2017-07-04 08:00:00     False        NaN        NaN  \n",
       "2017-07-04 07:14:00     False        NaN        NaN  "
      ]
     },
     "execution_count": 5,
     "metadata": {},
     "output_type": "execute_result"
    }
   ],
   "source": [
    "# preview crimes data with Date index\n",
    "crimes.head()"
   ]
  },
  {
   "cell_type": "code",
   "execution_count": 6,
   "metadata": {
    "collapsed": false
   },
   "outputs": [],
   "source": [
    "# get crime types\n",
    "crime_types = crimes[['PrimaryType']]"
   ]
  },
  {
   "cell_type": "code",
   "execution_count": 7,
   "metadata": {
    "collapsed": false
   },
   "outputs": [
    {
     "data": {
      "text/html": [
       "<div>\n",
       "<style>\n",
       "    .dataframe thead tr:only-child th {\n",
       "        text-align: right;\n",
       "    }\n",
       "\n",
       "    .dataframe thead th {\n",
       "        text-align: left;\n",
       "    }\n",
       "\n",
       "    .dataframe tbody tr th {\n",
       "        vertical-align: top;\n",
       "    }\n",
       "</style>\n",
       "<table border=\"1\" class=\"dataframe\">\n",
       "  <thead>\n",
       "    <tr style=\"text-align: right;\">\n",
       "      <th></th>\n",
       "      <th>PrimaryType</th>\n",
       "    </tr>\n",
       "    <tr>\n",
       "      <th>Date</th>\n",
       "      <th></th>\n",
       "    </tr>\n",
       "  </thead>\n",
       "  <tbody>\n",
       "    <tr>\n",
       "      <th>2017-07-04 18:39:00</th>\n",
       "      <td>HOMICIDE</td>\n",
       "    </tr>\n",
       "    <tr>\n",
       "      <th>2017-04-11 14:00:00</th>\n",
       "      <td>THEFT</td>\n",
       "    </tr>\n",
       "    <tr>\n",
       "      <th>2017-05-20 14:00:00</th>\n",
       "      <td>OTHER OFFENSE</td>\n",
       "    </tr>\n",
       "    <tr>\n",
       "      <th>2017-07-04 08:00:00</th>\n",
       "      <td>DECEPTIVE PRACTICE</td>\n",
       "    </tr>\n",
       "    <tr>\n",
       "      <th>2017-07-04 07:14:00</th>\n",
       "      <td>CRIMINAL DAMAGE</td>\n",
       "    </tr>\n",
       "  </tbody>\n",
       "</table>\n",
       "</div>"
      ],
      "text/plain": [
       "                            PrimaryType\n",
       "Date                                   \n",
       "2017-07-04 18:39:00            HOMICIDE\n",
       "2017-04-11 14:00:00               THEFT\n",
       "2017-05-20 14:00:00       OTHER OFFENSE\n",
       "2017-07-04 08:00:00  DECEPTIVE PRACTICE\n",
       "2017-07-04 07:14:00     CRIMINAL DAMAGE"
      ]
     },
     "execution_count": 7,
     "metadata": {},
     "output_type": "execute_result"
    }
   ],
   "source": [
    "crime_types.head()"
   ]
  },
  {
   "cell_type": "code",
   "execution_count": 8,
   "metadata": {
    "collapsed": false
   },
   "outputs": [
    {
     "name": "stdout",
     "output_type": "stream",
     "text": [
      "PrimaryType\n",
      "ARSON                                  233\n",
      "ASSAULT                               9695\n",
      "BATTERY                              24708\n",
      "BURGLARY                              6361\n",
      "CONCEALED CARRY LICENSE VIOLATION       29\n",
      "CRIM SEXUAL ASSAULT                    716\n",
      "CRIMINAL DAMAGE                      14525\n",
      "CRIMINAL TRESPASS                     3518\n",
      "DECEPTIVE PRACTICE                    8360\n",
      "GAMBLING                                90\n",
      "HOMICIDE                               329\n",
      "HUMAN TRAFFICKING                        5\n",
      "INTERFERENCE WITH PUBLIC OFFICER       568\n",
      "INTIMIDATION                            71\n",
      "KIDNAPPING                              93\n",
      "LIQUOR LAW VIOLATION                   109\n",
      "MOTOR VEHICLE THEFT                   5669\n",
      "NARCOTICS                             5198\n",
      "NON-CRIMINAL                            18\n",
      "NON-CRIMINAL (SUBJECT SPECIFIED)         2\n",
      "OBSCENITY                               33\n",
      "OFFENSE INVOLVING CHILDREN            1085\n",
      "OTHER NARCOTIC VIOLATION                 1\n",
      "OTHER OFFENSE                         9036\n",
      "PROSTITUTION                           446\n",
      "PUBLIC INDECENCY                         6\n",
      "PUBLIC PEACE VIOLATION                 779\n",
      "ROBBERY                               5522\n",
      "SEX OFFENSE                            447\n",
      "STALKING                                99\n",
      "THEFT                                29924\n",
      "WEAPONS VIOLATION                     2281\n",
      "dtype: int64\n"
     ]
    }
   ],
   "source": [
    "# get crime counts by primary type\n",
    "crime_type_total = crime_types.groupby('PrimaryType').size().compute()\n",
    "print(crime_type_total)"
   ]
  },
  {
   "cell_type": "code",
   "execution_count": 9,
   "metadata": {
    "collapsed": false
   },
   "outputs": [
    {
     "name": "stdout",
     "output_type": "stream",
     "text": [
      "                                   Arrest  Domestic\n",
      "PrimaryType                                        \n",
      "ARSON                                14.0       8.0\n",
      "ASSAULT                            1700.0    2493.0\n",
      "BATTERY                            4945.0   12020.0\n",
      "BURGLARY                            219.0      86.0\n",
      "CONCEALED CARRY LICENSE VIOLATION    28.0       0.0\n",
      "CRIM SEXUAL ASSAULT                  24.0     108.0\n",
      "CRIMINAL DAMAGE                     857.0    1682.0\n",
      "CRIMINAL TRESPASS                  2163.0     161.0\n",
      "DECEPTIVE PRACTICE                  307.0      77.0\n",
      "GAMBLING                             90.0       0.0\n",
      "HOMICIDE                             47.0      16.0\n",
      "HUMAN TRAFFICKING                     0.0       2.0\n",
      "INTERFERENCE WITH PUBLIC OFFICER    538.0       3.0\n",
      "INTIMIDATION                          4.0       6.0\n",
      "KIDNAPPING                            8.0      31.0\n",
      "LIQUOR LAW VIOLATION                109.0       1.0\n",
      "MOTOR VEHICLE THEFT                 461.0      51.0\n",
      "NARCOTICS                          5194.0       5.0\n",
      "NON-CRIMINAL                          1.0       0.0\n",
      "NON-CRIMINAL (SUBJECT SPECIFIED)      1.0       2.0\n",
      "OBSCENITY                            27.0       9.0\n",
      "OFFENSE INVOLVING CHILDREN          131.0     547.0\n",
      "OTHER NARCOTIC VIOLATION              0.0       0.0\n",
      "OTHER OFFENSE                      2024.0    2785.0\n",
      "PROSTITUTION                        446.0       0.0\n",
      "PUBLIC INDECENCY                      6.0       0.0\n",
      "PUBLIC PEACE VIOLATION              531.0      25.0\n",
      "ROBBERY                             326.0      98.0\n",
      "SEX OFFENSE                          54.0      38.0\n",
      "STALKING                              7.0      57.0\n",
      "THEFT                              3085.0    1120.0\n",
      "WEAPONS VIOLATION                  1815.0       8.0\n"
     ]
    }
   ],
   "source": [
    "# get arrests and domestic counts for each primary crime type\n",
    "crime_type_counts = crimes[['PrimaryType', 'Arrest', 'Domestic']].groupby('PrimaryType').sum().compute()\n",
    "print(crime_type_counts)"
   ]
  },
  {
   "cell_type": "code",
   "execution_count": 10,
   "metadata": {
    "collapsed": false
   },
   "outputs": [],
   "source": [
    "# add crime type totals column\n",
    "crime_type_counts['Total'] = crime_type_total"
   ]
  },
  {
   "cell_type": "code",
   "execution_count": 11,
   "metadata": {
    "collapsed": false
   },
   "outputs": [
    {
     "name": "stdout",
     "output_type": "stream",
     "text": [
      "                                   Arrest  Domestic  Total\n",
      "PrimaryType                                               \n",
      "ARSON                                14.0       8.0    233\n",
      "ASSAULT                            1700.0    2493.0   9695\n",
      "BATTERY                            4945.0   12020.0  24708\n",
      "BURGLARY                            219.0      86.0   6361\n",
      "CONCEALED CARRY LICENSE VIOLATION    28.0       0.0     29\n",
      "CRIM SEXUAL ASSAULT                  24.0     108.0    716\n",
      "CRIMINAL DAMAGE                     857.0    1682.0  14525\n",
      "CRIMINAL TRESPASS                  2163.0     161.0   3518\n",
      "DECEPTIVE PRACTICE                  307.0      77.0   8360\n",
      "GAMBLING                             90.0       0.0     90\n",
      "HOMICIDE                             47.0      16.0    329\n",
      "HUMAN TRAFFICKING                     0.0       2.0      5\n",
      "INTERFERENCE WITH PUBLIC OFFICER    538.0       3.0    568\n",
      "INTIMIDATION                          4.0       6.0     71\n",
      "KIDNAPPING                            8.0      31.0     93\n",
      "LIQUOR LAW VIOLATION                109.0       1.0    109\n",
      "MOTOR VEHICLE THEFT                 461.0      51.0   5669\n",
      "NARCOTICS                          5194.0       5.0   5198\n",
      "NON-CRIMINAL                          1.0       0.0     18\n",
      "NON-CRIMINAL (SUBJECT SPECIFIED)      1.0       2.0      2\n",
      "OBSCENITY                            27.0       9.0     33\n",
      "OFFENSE INVOLVING CHILDREN          131.0     547.0   1085\n",
      "OTHER NARCOTIC VIOLATION              0.0       0.0      1\n",
      "OTHER OFFENSE                      2024.0    2785.0   9036\n",
      "PROSTITUTION                        446.0       0.0    446\n",
      "PUBLIC INDECENCY                      6.0       0.0      6\n",
      "PUBLIC PEACE VIOLATION              531.0      25.0    779\n",
      "ROBBERY                             326.0      98.0   5522\n",
      "SEX OFFENSE                          54.0      38.0    447\n",
      "STALKING                              7.0      57.0     99\n",
      "THEFT                              3085.0    1120.0  29924\n",
      "WEAPONS VIOLATION                  1815.0       8.0   2281\n"
     ]
    }
   ],
   "source": [
    "print(crime_type_counts)"
   ]
  },
  {
   "cell_type": "code",
   "execution_count": 12,
   "metadata": {
    "collapsed": false
   },
   "outputs": [
    {
     "data": {
      "text/plain": [
       "<matplotlib.figure.Figure at 0xf182cc0>"
      ]
     },
     "metadata": {},
     "output_type": "display_data"
    },
    {
     "data": {
      "image/png": "[encoded data removed]",
      "text/plain": [
       "<matplotlib.figure.Figure at 0x15e1ebe0>"
      ]
     },
     "metadata": {},
     "output_type": "display_data"
    }
   ],
   "source": [
    "plt.figure(figsize=(8,10))\n",
    "crime_type_counts.sort_values(by='Total', ascending=True).plot(kind='barh')\n",
    "plt.title('Number of Crimes by Type')\n",
    "plt.ylabel('Crime Type')\n",
    "plt.xlabel('Number of Crimes')\n",
    "plt.show()"
   ]
  },
  {
   "cell_type": "code",
   "execution_count": null,
   "metadata": {
    "collapsed": true
   },
   "outputs": [],
   "source": []
  },
  {
   "cell_type": "code",
   "execution_count": null,
   "metadata": {
    "collapsed": true
   },
   "outputs": [],
   "source": []
  }
 ],
 "metadata": {
  "anaconda-cloud": {},
  "kernelspec": {
   "display_name": "Python [conda root]",
   "language": "python",
   "name": "conda-root-py"
  },
  "language_info": {
   "codemirror_mode": {
    "name": "ipython",
    "version": 3
   },
   "file_extension": ".py",
   "mimetype": "text/x-python",
   "name": "python",
   "nbconvert_exporter": "python",
   "pygments_lexer": "ipython3",
   "version": "3.5.2"
  }
 },
 "nbformat": 4,
 "nbformat_minor": 1
}
