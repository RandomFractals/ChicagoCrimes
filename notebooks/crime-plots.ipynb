{
 "cells": [
  {
   "cell_type": "code",
   "execution_count": 1,
   "metadata": {
    "collapsed": false
   },
   "outputs": [],
   "source": [
    "import calendar \n",
    "from datetime import datetime\n",
    "import dask.dataframe as dd\n",
    "import numpy as np \n",
    "import pandas as pd \n",
    "import matplotlib.pyplot as plt\n",
    "import seaborn as sns\n",
    "\n",
    "%matplotlib inline\n",
    "plt.style.use('seaborn')\n",
    "sns.set_style('whitegrid')"
   ]
  },
  {
   "cell_type": "code",
   "execution_count": null,
   "metadata": {
    "collapsed": true
   },
   "outputs": [],
   "source": [
    "# load crimes parquet data into dask df\n",
    "data_file_name = '../data/crimes-2017-7-4.parq'\n",
    "crimes = dd.read_parquet(data_file_name, index='Date')"
   ]
  },
  {
   "cell_type": "code",
   "execution_count": null,
   "metadata": {
    "collapsed": false
   },
   "outputs": [],
   "source": [
    "%%time\n",
    "# log records count and load data partitions\n",
    "print(\"{:,} total records in {} partitions\".format(len(crimes), crimes.npartitions))\n",
    "print(\"DataFrame size: {:,}\".format(crimes.size.compute()))"
   ]
  },
  {
   "cell_type": "code",
   "execution_count": null,
   "metadata": {
    "collapsed": false
   },
   "outputs": [],
   "source": [
    "# check data frame structure\n",
    "crimes"
   ]
  },
  {
   "cell_type": "code",
   "execution_count": null,
   "metadata": {
    "collapsed": false
   },
   "outputs": [],
   "source": [
    "# preview crimes data with Date index\n",
    "crimes.head()"
   ]
  },
  {
   "cell_type": "code",
   "execution_count": null,
   "metadata": {
    "collapsed": false
   },
   "outputs": [],
   "source": [
    "# get crime types\n",
    "crime_types = crimes[['PrimaryType']]"
   ]
  },
  {
   "cell_type": "code",
   "execution_count": null,
   "metadata": {
    "collapsed": false
   },
   "outputs": [],
   "source": [
    "crime_types.head()"
   ]
  },
  {
   "cell_type": "code",
   "execution_count": null,
   "metadata": {
    "collapsed": false
   },
   "outputs": [],
   "source": [
    "# get crime counts by primary type\n",
    "crime_type_total = crime_types.groupby('PrimaryType').size().compute()\n",
    "print(crime_type_total)"
   ]
  },
  {
   "cell_type": "code",
   "execution_count": null,
   "metadata": {
    "collapsed": false
   },
   "outputs": [],
   "source": [
    "# get arrests and domestic counts for each primary crime type\n",
    "crime_type_counts = crimes[['PrimaryType', 'Arrest', 'Domestic']].groupby('PrimaryType').sum().compute()\n",
    "print(crime_type_counts)"
   ]
  },
  {
   "cell_type": "code",
   "execution_count": null,
   "metadata": {
    "collapsed": false
   },
   "outputs": [],
   "source": [
    "# add crime type totals column\n",
    "crime_type_counts['Total'] = crime_type_total"
   ]
  },
  {
   "cell_type": "code",
   "execution_count": null,
   "metadata": {
    "collapsed": false
   },
   "outputs": [],
   "source": [
    "print(crime_type_counts)"
   ]
  },
  {
   "cell_type": "code",
   "execution_count": null,
   "metadata": {
    "collapsed": false
   },
   "outputs": [],
   "source": [
    "# plot crimes by primary type total ascending\n",
    "plt.figure(figsize=(8,10))\n",
    "crime_type_counts.sort_values(by='Total', ascending=True).plot(kind='barh')\n",
    "plt.title('Number of Crimes by Type')\n",
    "plt.ylabel('Crime Type')\n",
    "plt.xlabel('Number of Crimes')\n",
    "plt.tight_layout()\n",
    "plt.show()"
   ]
  },
  {
   "cell_type": "code",
   "execution_count": null,
   "metadata": {
    "collapsed": false
   },
   "outputs": [],
   "source": [
    "# plot crimes by arrests ascending\n",
    "crime_type_counts.sort_values(by='Arrest', ascending=True).plot(kind='barh')\n",
    "plt.title('Arrests')\n",
    "plt.ylabel('Crime Type')\n",
    "plt.xlabel('Number of Crimes')\n",
    "plt.tight_layout()\n",
    "plt.show()"
   ]
  },
  {
   "cell_type": "code",
   "execution_count": null,
   "metadata": {
    "collapsed": false
   },
   "outputs": [],
   "source": [
    "# plot crimes by domestic incident reports ascending\n",
    "crime_type_counts.sort_values(by='Domestic', ascending=True).plot(kind='barh')\n",
    "plt.title('Domestic')\n",
    "plt.ylabel('Crime Type')\n",
    "plt.xlabel('Number of Crimes')\n",
    "plt.tight_layout()\n",
    "plt.show()"
   ]
  },
  {
   "cell_type": "code",
   "execution_count": null,
   "metadata": {
    "collapsed": false
   },
   "outputs": [],
   "source": [
    "# top crimes\n",
    "crime_type_counts[crime_type_counts['Total'] >= 1000].sort_values(by='Total', ascending=True)\\\n",
    ".plot(kind='barh')\n",
    "plt.title('Top Crimes (> 1,000 reports)')"
   ]
  },
  {
   "cell_type": "code",
   "execution_count": null,
   "metadata": {
    "collapsed": false
   },
   "outputs": [],
   "source": [
    "# less than 1000 crime reports\n",
    "crime_type_counts[crime_type_counts['Total'] < 1000].sort_values(by='Total', ascending=True)\\\n",
    ".plot(kind='barh')\n",
    "plt.title('Less than 1,000 Crime reports')"
   ]
  },
  {
   "cell_type": "code",
   "execution_count": null,
   "metadata": {
    "collapsed": false
   },
   "outputs": [],
   "source": [
    "# less than 100 crime reports\n",
    "crime_type_counts[crime_type_counts['Total'] < 100].sort_values(by='Total', ascending=True)\\\n",
    ".plot(kind='barh')\n",
    "plt.title('Less than 100 Crime reports')"
   ]
  },
  {
   "cell_type": "code",
   "execution_count": null,
   "metadata": {
    "collapsed": false
   },
   "outputs": [],
   "source": [
    "# get crime location counts\n",
    "crime_locations = crimes.groupby('LocationDescription').size().compute()\n",
    "crime_locations = crime_locations.sort_values(ascending=False).rename('Total') #.reset_index()\n",
    "crime_locations.head()"
   ]
  },
  {
   "cell_type": "code",
   "execution_count": null,
   "metadata": {
    "collapsed": false
   },
   "outputs": [],
   "source": [
    "# plot top 30 locations\n",
    "crime_locations[:30].sort_values(ascending=True).plot(kind='barh')\n",
    "plt.title('Top 30 Locations')"
   ]
  },
  {
   "cell_type": "code",
   "execution_count": null,
   "metadata": {
    "collapsed": false
   },
   "outputs": [],
   "source": [
    "# get arrests and domestic counts for each primary crime type\n",
    "crime_location_counts = crimes[['LocationDescription', 'Arrest', 'Domestic']]\\\n",
    ".groupby('LocationDescription').sum().compute()\n",
    "# add crime type totals column\n",
    "crime_location_counts['Total'] = crime_locations\n",
    "crime_location_counts.head()"
   ]
  },
  {
   "cell_type": "code",
   "execution_count": null,
   "metadata": {
    "collapsed": false
   },
   "outputs": [],
   "source": [
    "# plot top crime locations\n",
    "crime_location_counts[crime_location_counts['Total'] >= 2500]\\\n",
    ".sort_values(by='Total', ascending=True).plot(kind='barh')\n",
    "plt.title('Top Crime Locations (>2,500 Crime Reports)')"
   ]
  },
  {
   "cell_type": "code",
   "execution_count": null,
   "metadata": {
    "collapsed": false
   },
   "outputs": [],
   "source": [
    "# plot next 20 top crime locations\n",
    "crime_location_counts = crime_location_counts[crime_location_counts['Total'] <= 3000]\\\n",
    ".sort_values(by='Total', ascending=False)\n",
    "crime_location_counts[:20].sort_values(by='Total', ascending=True).plot(kind='barh')\n",
    "plt.title('Next Top 20 Crime Locations (<3,000 Crime Reports)')"
   ]
  },
  {
   "cell_type": "code",
   "execution_count": null,
   "metadata": {
    "collapsed": false
   },
   "outputs": [],
   "source": [
    "crimes.index"
   ]
  },
  {
   "cell_type": "code",
   "execution_count": null,
   "metadata": {
    "collapsed": false
   },
   "outputs": [],
   "source": [
    "# get arrests\n",
    "arrests = crimes[crimes['Arrest'] == True]['Arrest']\n",
    "arrests.head()"
   ]
  },
  {
   "cell_type": "code",
   "execution_count": null,
   "metadata": {
    "collapsed": false
   },
   "outputs": [],
   "source": [
    "# plot monthly arrests\n",
    "monthly_arrests = arrests.resample('M').sum().compute()\n",
    "monthly_arrests.plot()\n",
    "plt.title('Monthly Arrests')\n",
    "plt.show()"
   ]
  },
  {
   "cell_type": "code",
   "execution_count": null,
   "metadata": {
    "collapsed": false
   },
   "outputs": [],
   "source": [
    "# plot weekly arrests\n",
    "weekly_arrests = arrests.resample('W').sum().compute()\n",
    "weekly_arrests.plot()\n",
    "plt.title('Weekly Arrests')\n",
    "plt.show()"
   ]
  },
  {
   "cell_type": "code",
   "execution_count": null,
   "metadata": {
    "collapsed": false
   },
   "outputs": [],
   "source": [
    "# plot daily arrests\n",
    "daily_arrests = arrests.resample('D').sum().compute()\n",
    "daily_arrests.plot()\n",
    "plt.title('Daily Arrests')\n",
    "plt.show()"
   ]
  },
  {
   "cell_type": "code",
   "execution_count": null,
   "metadata": {
    "collapsed": false
   },
   "outputs": [],
   "source": [
    "# get domestic crimes\n",
    "domestic = crimes[crimes['Domestic'] == True]['Domestic']\n",
    "domestic.head()"
   ]
  },
  {
   "cell_type": "code",
   "execution_count": null,
   "metadata": {
    "collapsed": false
   },
   "outputs": [],
   "source": [
    "# plot daily domestic\n",
    "daily_domestic = domestic.resample('D').sum().compute()\n",
    "daily_domestic.plot()\n",
    "plt.title('Daily Domestic')\n",
    "plt.show()"
   ]
  },
  {
   "cell_type": "code",
   "execution_count": null,
   "metadata": {
    "collapsed": true
   },
   "outputs": [],
   "source": []
  }
 ],
 "metadata": {
  "anaconda-cloud": {},
  "kernelspec": {
   "display_name": "Python [conda root]",
   "language": "python",
   "name": "conda-root-py"
  },
  "language_info": {
   "codemirror_mode": {
    "name": "ipython",
    "version": 3
   },
   "file_extension": ".py",
   "mimetype": "text/x-python",
   "name": "python",
   "nbconvert_exporter": "python",
   "pygments_lexer": "ipython3",
   "version": "3.5.2"
  }
 },
 "nbformat": 4,
 "nbformat_minor": 1
}
