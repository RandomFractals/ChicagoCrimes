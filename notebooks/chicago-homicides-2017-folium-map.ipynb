{
 "cells": [
  {
   "cell_type": "code",
   "execution_count": 1,
   "metadata": {
    "collapsed": true
   },
   "outputs": [],
   "source": [
    "import calendar \n",
    "import datetime\n",
    "import dask.dataframe as dd\n",
    "import numpy as np \n",
    "import pandas as pd "
   ]
  },
  {
   "cell_type": "code",
   "execution_count": 2,
   "metadata": {
    "collapsed": false
   },
   "outputs": [
    {
     "name": "stdout",
     "output_type": "stream",
     "text": [
      "Loading crime data from: ../data/crimes-2017.snappy.parq\n",
      "Crime data loaded into memory.\n",
      "Wall time: 3.03 s\n"
     ]
    }
   ],
   "source": [
    "%%time\n",
    "# set data file path\n",
    "parquet_data_folder = '../data/crimes-2017.snappy.parq'\n",
    "print('Loading crime data from: {}'.format(parquet_data_folder))\n",
    "\n",
    "# load crimes parquet data into dask df\n",
    "crimes = dd.read_parquet(parquet_data_folder, index='Date')\n",
    "\n",
    "# load all data into memory\n",
    "crimes = crimes.persist()\n",
    "print('Crime data loaded into memory.')"
   ]
  },
  {
   "cell_type": "code",
   "execution_count": 3,
   "metadata": {
    "collapsed": false
   },
   "outputs": [
    {
     "name": "stdout",
     "output_type": "stream",
     "text": [
      "Crime data stats:\n",
      "---------------------------------------\n",
      "172,030 total records in 1 partitions\n",
      "DataFrame size: 2,408,420\n",
      "Wall time: 0 ns\n"
     ]
    }
   ],
   "source": [
    "%%time\n",
    "# log records count and data partitions\n",
    "print('Crime data stats:')\n",
    "print('---------------------------------------')\n",
    "print('{:,} total records in {} partitions'.format(len(crimes), crimes.npartitions))\n",
    "print('DataFrame size: {:,}'.format(crimes.size.compute()))"
   ]
  },
  {
   "cell_type": "code",
   "execution_count": 4,
   "metadata": {
    "collapsed": false
   },
   "outputs": [
    {
     "name": "stdout",
     "output_type": "stream",
     "text": [
      "                    PrimaryType                 Block          Description  \\\n",
      "Date                                                                         \n",
      "2017-01-01 05:19:00    HOMICIDE      046XX N BROADWAY  FIRST DEGREE MURDER   \n",
      "2017-01-01 06:18:00    HOMICIDE     046XX W MONROE ST  FIRST DEGREE MURDER   \n",
      "2017-01-02 09:14:00    HOMICIDE    025XX N LOWELL AVE  FIRST DEGREE MURDER   \n",
      "2017-01-03 12:20:00    HOMICIDE   034XX W FULTON BLVD  FIRST DEGREE MURDER   \n",
      "2017-01-03 23:52:00    HOMICIDE  032XX W LEXINGTON ST  FIRST DEGREE MURDER   \n",
      "\n",
      "                    LocationDescription CommunityArea  Arrest  Domestic  \\\n",
      "Date                                                                      \n",
      "2017-01-01 05:19:00              TAVERN           3.0    True     False   \n",
      "2017-01-01 06:18:00              STREET          25.0   False     False   \n",
      "2017-01-02 09:14:00              STREET          20.0    True     False   \n",
      "2017-01-03 12:20:00              STREET          27.0   False     False   \n",
      "2017-01-03 23:52:00               ALLEY          27.0   False     False   \n",
      "\n",
      "                      Latitude  Longitude  \n",
      "Date                                       \n",
      "2017-01-01 05:19:00  41.966082 -87.657908  \n",
      "2017-01-01 06:18:00  41.879291 -87.741599  \n",
      "2017-01-02 09:14:00  41.926841 -87.735416  \n",
      "2017-01-03 12:20:00  41.886341 -87.712000  \n",
      "2017-01-03 23:52:00  41.871868 -87.706610  \n",
      "...\n",
      "Total 2017 homicides: 441\n"
     ]
    }
   ],
   "source": [
    "# get crime geo data for mapping homicides\n",
    "crime_geo = crimes[['PrimaryType',\n",
    "                    'Block',\n",
    "                    'Description',\n",
    "                    'LocationDescription',\n",
    "                    'CommunityArea',\n",
    "                    'Arrest',\n",
    "                    'Domestic',\n",
    "                    'Latitude', \n",
    "                    'Longitude']].dropna()\n",
    "\n",
    "# get homicides\n",
    "homicides = crime_geo[(crime_geo['PrimaryType']=='HOMICIDE')].compute()\n",
    "print(homicides.head())\n",
    "print('...')\n",
    "print('Total 2017 homicides:', len(homicides))"
   ]
  },
  {
   "cell_type": "code",
   "execution_count": null,
   "metadata": {
    "collapsed": true
   },
   "outputs": [],
   "source": []
  }
 ],
 "metadata": {
  "anaconda-cloud": {},
  "kernelspec": {
   "display_name": "Python [default]",
   "language": "python",
   "name": "python3"
  },
  "language_info": {
   "codemirror_mode": {
    "name": "ipython",
    "version": 3
   },
   "file_extension": ".py",
   "mimetype": "text/x-python",
   "name": "python",
   "nbconvert_exporter": "python",
   "pygments_lexer": "ipython3",
   "version": "3.5.2"
  }
 },
 "nbformat": 4,
 "nbformat_minor": 1
}
