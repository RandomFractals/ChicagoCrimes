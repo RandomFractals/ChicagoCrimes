{
 "cells": [
  {
   "cell_type": "code",
   "execution_count": 1,
   "metadata": {
    "collapsed": true
   },
   "outputs": [],
   "source": [
    "import numpy as np \n",
    "import pandas as pd \n",
    "import matplotlib.pyplot as plt\n",
    "%matplotlib inline\n",
    "plt.style.use('seaborn')"
   ]
  },
  {
   "cell_type": "code",
   "execution_count": 3,
   "metadata": {
    "collapsed": false
   },
   "outputs": [
    {
     "name": "stdout",
     "output_type": "stream",
     "text": [
      "Loading crime data from: ../raw_data/Crimes_-_2001_to_present.csv\n",
      "Crime data loaded into memory.\n",
      "Wall time: 2min 13s\n"
     ]
    }
   ],
   "source": [
    "%%time\n",
    "\n",
    "# Note: this is strictly for comparison of how slow it is \n",
    "# to load all Chicago crimes data with pandas\n",
    "# see notebooks/all-chicago-crime-charts.ipynb notebook \n",
    "# for loading same data with dask in a compressed snappy parquet format\n",
    "\n",
    "# set csv data file path\n",
    "csv_data_file = '../raw_data/Crimes_-_2001_to_present.csv'\n",
    "print('Loading crime data from: {}'.format(csv_data_file))\n",
    "print('...')\n",
    "\n",
    "# load crimes csv data into pandas dataframe\n",
    "crimes = pd.read_csv(csv_data_file, error_bad_lines=False)\n",
    "\n",
    "print('Crime data loaded into memory.')"
   ]
  },
  {
   "cell_type": "code",
   "execution_count": null,
   "metadata": {
    "collapsed": true
   },
   "outputs": [],
   "source": []
  }
 ],
 "metadata": {
  "anaconda-cloud": {},
  "kernelspec": {
   "display_name": "Python [conda root]",
   "language": "python",
   "name": "conda-root-py"
  },
  "language_info": {
   "codemirror_mode": {
    "name": "ipython",
    "version": 3
   },
   "file_extension": ".py",
   "mimetype": "text/x-python",
   "name": "python",
   "nbconvert_exporter": "python",
   "pygments_lexer": "ipython3",
   "version": "3.5.2"
  }
 },
 "nbformat": 4,
 "nbformat_minor": 1
}
