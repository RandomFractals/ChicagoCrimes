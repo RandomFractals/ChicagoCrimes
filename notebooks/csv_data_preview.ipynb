{
 "cells": [
  {
   "cell_type": "code",
   "execution_count": 1,
   "metadata": {
    "collapsed": true
   },
   "outputs": [],
   "source": [
    "import numpy as np\n",
    "import pandas as pd\n",
    "import dask.dataframe as dd"
   ]
  },
  {
   "cell_type": "code",
   "execution_count": 2,
   "metadata": {
    "collapsed": true
   },
   "outputs": [],
   "source": [
    "# load csv data into dask df\n",
    "file_name = '../raw_data/Crimes_-_2017.csv'\n",
    "df = dd.read_csv(file_name, \n",
    "                 error_bad_lines=False,\n",
    "                 assume_missing=True)"
   ]
  },
  {
   "cell_type": "code",
   "execution_count": 3,
   "metadata": {
    "collapsed": false
   },
   "outputs": [
    {
     "name": "stdout",
     "output_type": "stream",
     "text": [
      "157,802 total records in 1 partitions\n",
      "Wall time: 1.07 s\n"
     ]
    }
   ],
   "source": [
    "%%time\n",
    "# log records count and load data partitions\n",
    "print(\"{:,} total records in {} partitions\".format(len(df), df.npartitions))"
   ]
  },
  {
   "cell_type": "code",
   "execution_count": 4,
   "metadata": {
    "collapsed": false
   },
   "outputs": [
    {
     "name": "stdout",
     "output_type": "stream",
     "text": [
      "Wall time: 9.77 ms\n"
     ]
    },
    {
     "data": {
      "text/html": [
       "<div><strong>Dask DataFrame Structure:</strong></div>\n",
       "<div>\n",
       "<style>\n",
       "    .dataframe thead tr:only-child th {\n",
       "        text-align: right;\n",
       "    }\n",
       "\n",
       "    .dataframe thead th {\n",
       "        text-align: left;\n",
       "    }\n",
       "\n",
       "    .dataframe tbody tr th {\n",
       "        vertical-align: top;\n",
       "    }\n",
       "</style>\n",
       "<table border=\"1\" class=\"dataframe\">\n",
       "  <thead>\n",
       "    <tr style=\"text-align: right;\">\n",
       "      <th></th>\n",
       "      <th>ID</th>\n",
       "      <th>Case Number</th>\n",
       "      <th>Date</th>\n",
       "      <th>Block</th>\n",
       "      <th>IUCR</th>\n",
       "      <th>Primary Type</th>\n",
       "      <th>Description</th>\n",
       "      <th>Location Description</th>\n",
       "      <th>Arrest</th>\n",
       "      <th>Domestic</th>\n",
       "      <th>Beat</th>\n",
       "      <th>District</th>\n",
       "      <th>Ward</th>\n",
       "      <th>Community Area</th>\n",
       "      <th>FBI Code</th>\n",
       "      <th>X Coordinate</th>\n",
       "      <th>Y Coordinate</th>\n",
       "      <th>Year</th>\n",
       "      <th>Updated On</th>\n",
       "      <th>Latitude</th>\n",
       "      <th>Longitude</th>\n",
       "      <th>Location</th>\n",
       "    </tr>\n",
       "    <tr>\n",
       "      <th>npartitions=1</th>\n",
       "      <th></th>\n",
       "      <th></th>\n",
       "      <th></th>\n",
       "      <th></th>\n",
       "      <th></th>\n",
       "      <th></th>\n",
       "      <th></th>\n",
       "      <th></th>\n",
       "      <th></th>\n",
       "      <th></th>\n",
       "      <th></th>\n",
       "      <th></th>\n",
       "      <th></th>\n",
       "      <th></th>\n",
       "      <th></th>\n",
       "      <th></th>\n",
       "      <th></th>\n",
       "      <th></th>\n",
       "      <th></th>\n",
       "      <th></th>\n",
       "      <th></th>\n",
       "      <th></th>\n",
       "    </tr>\n",
       "  </thead>\n",
       "  <tbody>\n",
       "    <tr>\n",
       "      <th>None</th>\n",
       "      <td>float64</td>\n",
       "      <td>object</td>\n",
       "      <td>object</td>\n",
       "      <td>object</td>\n",
       "      <td>object</td>\n",
       "      <td>object</td>\n",
       "      <td>object</td>\n",
       "      <td>object</td>\n",
       "      <td>bool</td>\n",
       "      <td>bool</td>\n",
       "      <td>float64</td>\n",
       "      <td>float64</td>\n",
       "      <td>float64</td>\n",
       "      <td>float64</td>\n",
       "      <td>object</td>\n",
       "      <td>float64</td>\n",
       "      <td>float64</td>\n",
       "      <td>float64</td>\n",
       "      <td>object</td>\n",
       "      <td>float64</td>\n",
       "      <td>float64</td>\n",
       "      <td>object</td>\n",
       "    </tr>\n",
       "    <tr>\n",
       "      <th>None</th>\n",
       "      <td>...</td>\n",
       "      <td>...</td>\n",
       "      <td>...</td>\n",
       "      <td>...</td>\n",
       "      <td>...</td>\n",
       "      <td>...</td>\n",
       "      <td>...</td>\n",
       "      <td>...</td>\n",
       "      <td>...</td>\n",
       "      <td>...</td>\n",
       "      <td>...</td>\n",
       "      <td>...</td>\n",
       "      <td>...</td>\n",
       "      <td>...</td>\n",
       "      <td>...</td>\n",
       "      <td>...</td>\n",
       "      <td>...</td>\n",
       "      <td>...</td>\n",
       "      <td>...</td>\n",
       "      <td>...</td>\n",
       "      <td>...</td>\n",
       "      <td>...</td>\n",
       "    </tr>\n",
       "  </tbody>\n",
       "</table>\n",
       "</div>\n",
       "<div>Dask Name: drop-duplicates-agg, 5 tasks</div>"
      ],
      "text/plain": [
       "Dask DataFrame Structure:\n",
       "                    ID Case Number    Date   Block    IUCR Primary Type Description Location Description Arrest Domestic     Beat District     Ward Community Area FBI Code X Coordinate Y Coordinate     Year Updated On Latitude Longitude Location\n",
       "npartitions=1                                                                                                                                                                                                                                        \n",
       "None           float64      object  object  object  object       object      object               object   bool     bool  float64  float64  float64        float64   object      float64      float64  float64     object  float64   float64   object\n",
       "None               ...         ...     ...     ...     ...          ...         ...                  ...    ...      ...      ...      ...      ...            ...      ...          ...          ...      ...        ...      ...       ...      ...\n",
       "Dask Name: drop-duplicates-agg, 5 tasks"
      ]
     },
     "execution_count": 4,
     "metadata": {},
     "output_type": "execute_result"
    }
   ],
   "source": [
    "%%time\n",
    "# drop duplicates\n",
    "df.drop_duplicates(subset=['ID', 'Case Number'], inplace=True)"
   ]
  },
  {
   "cell_type": "code",
   "execution_count": 5,
   "metadata": {
    "collapsed": false
   },
   "outputs": [
    {
     "name": "stdout",
     "output_type": "stream",
     "text": [
      "Wall time: 1.07 s\n"
     ]
    }
   ],
   "source": [
    "%%time\n",
    "# persist in memory\n",
    "df = df.persist()\n",
    "df.size.compute()"
   ]
  },
  {
   "cell_type": "code",
   "execution_count": 6,
   "metadata": {
    "collapsed": false
   },
   "outputs": [
    {
     "name": "stdout",
     "output_type": "stream",
     "text": [
      "DataFrame size: 3,471,644\n",
      "Wall time: 17.6 ms\n"
     ]
    }
   ],
   "source": [
    "%%time\n",
    "print(\"DataFrame size: {:,}\".format(df.size.compute()))"
   ]
  },
  {
   "cell_type": "code",
   "execution_count": 7,
   "metadata": {
    "collapsed": false
   },
   "outputs": [
    {
     "data": {
      "text/html": [
       "<div>\n",
       "<style>\n",
       "    .dataframe thead tr:only-child th {\n",
       "        text-align: right;\n",
       "    }\n",
       "\n",
       "    .dataframe thead th {\n",
       "        text-align: left;\n",
       "    }\n",
       "\n",
       "    .dataframe tbody tr th {\n",
       "        vertical-align: top;\n",
       "    }\n",
       "</style>\n",
       "<table border=\"1\" class=\"dataframe\">\n",
       "  <thead>\n",
       "    <tr style=\"text-align: right;\">\n",
       "      <th></th>\n",
       "      <th>ID</th>\n",
       "      <th>Case Number</th>\n",
       "      <th>Date</th>\n",
       "      <th>Block</th>\n",
       "      <th>IUCR</th>\n",
       "      <th>Primary Type</th>\n",
       "      <th>Description</th>\n",
       "      <th>Location Description</th>\n",
       "      <th>Arrest</th>\n",
       "      <th>Domestic</th>\n",
       "      <th>...</th>\n",
       "      <th>Ward</th>\n",
       "      <th>Community Area</th>\n",
       "      <th>FBI Code</th>\n",
       "      <th>X Coordinate</th>\n",
       "      <th>Y Coordinate</th>\n",
       "      <th>Year</th>\n",
       "      <th>Updated On</th>\n",
       "      <th>Latitude</th>\n",
       "      <th>Longitude</th>\n",
       "      <th>Location</th>\n",
       "    </tr>\n",
       "  </thead>\n",
       "  <tbody>\n",
       "    <tr>\n",
       "      <th>0</th>\n",
       "      <td>11046781.0</td>\n",
       "      <td>JA381948</td>\n",
       "      <td>08/07/2017 12:00:00 PM</td>\n",
       "      <td>091XX S ESSEX AVE</td>\n",
       "      <td>0560</td>\n",
       "      <td>ASSAULT</td>\n",
       "      <td>SIMPLE</td>\n",
       "      <td>APARTMENT</td>\n",
       "      <td>False</td>\n",
       "      <td>True</td>\n",
       "      <td>...</td>\n",
       "      <td>7.0</td>\n",
       "      <td>48.0</td>\n",
       "      <td>08A</td>\n",
       "      <td>1194423.0</td>\n",
       "      <td>1844888.0</td>\n",
       "      <td>2017.0</td>\n",
       "      <td>08/14/2017 04:00:25 PM</td>\n",
       "      <td>41.729299</td>\n",
       "      <td>-87.563364</td>\n",
       "      <td>(41.729299431, -87.563363564)</td>\n",
       "    </tr>\n",
       "    <tr>\n",
       "      <th>1</th>\n",
       "      <td>11046780.0</td>\n",
       "      <td>JA381931</td>\n",
       "      <td>08/07/2017 09:30:00 PM</td>\n",
       "      <td>078XX S KINGSTON AVE</td>\n",
       "      <td>0486</td>\n",
       "      <td>BATTERY</td>\n",
       "      <td>DOMESTIC BATTERY SIMPLE</td>\n",
       "      <td>APARTMENT</td>\n",
       "      <td>False</td>\n",
       "      <td>True</td>\n",
       "      <td>...</td>\n",
       "      <td>7.0</td>\n",
       "      <td>43.0</td>\n",
       "      <td>08B</td>\n",
       "      <td>1194550.0</td>\n",
       "      <td>1853469.0</td>\n",
       "      <td>2017.0</td>\n",
       "      <td>08/14/2017 04:00:25 PM</td>\n",
       "      <td>41.752843</td>\n",
       "      <td>-87.562617</td>\n",
       "      <td>(41.752843296, -87.562616815)</td>\n",
       "    </tr>\n",
       "  </tbody>\n",
       "</table>\n",
       "<p>2 rows × 22 columns</p>\n",
       "</div>"
      ],
      "text/plain": [
       "           ID Case Number                    Date                 Block  IUCR  \\\n",
       "0  11046781.0    JA381948  08/07/2017 12:00:00 PM     091XX S ESSEX AVE  0560   \n",
       "1  11046780.0    JA381931  08/07/2017 09:30:00 PM  078XX S KINGSTON AVE  0486   \n",
       "\n",
       "  Primary Type              Description Location Description  Arrest  \\\n",
       "0      ASSAULT                   SIMPLE            APARTMENT   False   \n",
       "1      BATTERY  DOMESTIC BATTERY SIMPLE            APARTMENT   False   \n",
       "\n",
       "   Domestic              ...                Ward  Community Area  FBI Code  \\\n",
       "0      True              ...                 7.0            48.0       08A   \n",
       "1      True              ...                 7.0            43.0       08B   \n",
       "\n",
       "   X Coordinate Y Coordinate    Year              Updated On   Latitude  \\\n",
       "0     1194423.0    1844888.0  2017.0  08/14/2017 04:00:25 PM  41.729299   \n",
       "1     1194550.0    1853469.0  2017.0  08/14/2017 04:00:25 PM  41.752843   \n",
       "\n",
       "   Longitude                       Location  \n",
       "0 -87.563364  (41.729299431, -87.563363564)  \n",
       "1 -87.562617  (41.752843296, -87.562616815)  \n",
       "\n",
       "[2 rows x 22 columns]"
      ]
     },
     "execution_count": 7,
     "metadata": {},
     "output_type": "execute_result"
    }
   ],
   "source": [
    "# get top 2 records\n",
    "df.head(2)"
   ]
  },
  {
   "cell_type": "code",
   "execution_count": 8,
   "metadata": {
    "collapsed": false
   },
   "outputs": [
    {
     "data": {
      "text/html": [
       "<div>\n",
       "<style>\n",
       "    .dataframe thead tr:only-child th {\n",
       "        text-align: right;\n",
       "    }\n",
       "\n",
       "    .dataframe thead th {\n",
       "        text-align: left;\n",
       "    }\n",
       "\n",
       "    .dataframe tbody tr th {\n",
       "        vertical-align: top;\n",
       "    }\n",
       "</style>\n",
       "<table border=\"1\" class=\"dataframe\">\n",
       "  <thead>\n",
       "    <tr style=\"text-align: right;\">\n",
       "      <th></th>\n",
       "      <th>ID</th>\n",
       "      <th>Case Number</th>\n",
       "      <th>Date</th>\n",
       "      <th>Block</th>\n",
       "      <th>IUCR</th>\n",
       "      <th>Primary Type</th>\n",
       "      <th>Description</th>\n",
       "      <th>Location Description</th>\n",
       "      <th>Arrest</th>\n",
       "      <th>Domestic</th>\n",
       "      <th>...</th>\n",
       "      <th>Ward</th>\n",
       "      <th>Community Area</th>\n",
       "      <th>FBI Code</th>\n",
       "      <th>X Coordinate</th>\n",
       "      <th>Y Coordinate</th>\n",
       "      <th>Year</th>\n",
       "      <th>Updated On</th>\n",
       "      <th>Latitude</th>\n",
       "      <th>Longitude</th>\n",
       "      <th>Location</th>\n",
       "    </tr>\n",
       "  </thead>\n",
       "  <tbody>\n",
       "    <tr>\n",
       "      <th>157800</th>\n",
       "      <td>10802618.0</td>\n",
       "      <td>JA100607</td>\n",
       "      <td>01/01/2017 01:00:00 PM</td>\n",
       "      <td>003XX S HOYNE AVE</td>\n",
       "      <td>0820</td>\n",
       "      <td>THEFT</td>\n",
       "      <td>$500 AND UNDER</td>\n",
       "      <td>STREET</td>\n",
       "      <td>False</td>\n",
       "      <td>False</td>\n",
       "      <td>...</td>\n",
       "      <td>2.0</td>\n",
       "      <td>28.0</td>\n",
       "      <td>06</td>\n",
       "      <td>NaN</td>\n",
       "      <td>NaN</td>\n",
       "      <td>2017.0</td>\n",
       "      <td>01/08/2017 03:48:20 PM</td>\n",
       "      <td>NaN</td>\n",
       "      <td>NaN</td>\n",
       "      <td>NaN</td>\n",
       "    </tr>\n",
       "    <tr>\n",
       "      <th>157801</th>\n",
       "      <td>10802303.0</td>\n",
       "      <td>JA101463</td>\n",
       "      <td>01/01/2017 07:00:00 PM</td>\n",
       "      <td>011XX E BOWEN AVE</td>\n",
       "      <td>0910</td>\n",
       "      <td>MOTOR VEHICLE THEFT</td>\n",
       "      <td>AUTOMOBILE</td>\n",
       "      <td>STREET</td>\n",
       "      <td>False</td>\n",
       "      <td>False</td>\n",
       "      <td>...</td>\n",
       "      <td>4.0</td>\n",
       "      <td>36.0</td>\n",
       "      <td>07</td>\n",
       "      <td>NaN</td>\n",
       "      <td>NaN</td>\n",
       "      <td>2017.0</td>\n",
       "      <td>01/08/2017 03:48:20 PM</td>\n",
       "      <td>NaN</td>\n",
       "      <td>NaN</td>\n",
       "      <td>NaN</td>\n",
       "    </tr>\n",
       "  </tbody>\n",
       "</table>\n",
       "<p>2 rows × 22 columns</p>\n",
       "</div>"
      ],
      "text/plain": [
       "                ID Case Number                    Date              Block  \\\n",
       "157800  10802618.0    JA100607  01/01/2017 01:00:00 PM  003XX S HOYNE AVE   \n",
       "157801  10802303.0    JA101463  01/01/2017 07:00:00 PM  011XX E BOWEN AVE   \n",
       "\n",
       "        IUCR         Primary Type     Description Location Description  \\\n",
       "157800  0820                THEFT  $500 AND UNDER               STREET   \n",
       "157801  0910  MOTOR VEHICLE THEFT      AUTOMOBILE               STREET   \n",
       "\n",
       "        Arrest  Domestic    ...     Ward  Community Area  FBI Code  \\\n",
       "157800   False     False    ...      2.0            28.0        06   \n",
       "157801   False     False    ...      4.0            36.0        07   \n",
       "\n",
       "        X Coordinate Y Coordinate    Year              Updated On  Latitude  \\\n",
       "157800           NaN          NaN  2017.0  01/08/2017 03:48:20 PM       NaN   \n",
       "157801           NaN          NaN  2017.0  01/08/2017 03:48:20 PM       NaN   \n",
       "\n",
       "       Longitude  Location  \n",
       "157800       NaN       NaN  \n",
       "157801       NaN       NaN  \n",
       "\n",
       "[2 rows x 22 columns]"
      ]
     },
     "execution_count": 8,
     "metadata": {},
     "output_type": "execute_result"
    }
   ],
   "source": [
    "# get last 2 records\n",
    "df.tail(2)"
   ]
  },
  {
   "cell_type": "code",
   "execution_count": 9,
   "metadata": {
    "collapsed": false
   },
   "outputs": [
    {
     "data": {
      "text/html": [
       "<div>\n",
       "<style>\n",
       "    .dataframe thead tr:only-child th {\n",
       "        text-align: right;\n",
       "    }\n",
       "\n",
       "    .dataframe thead th {\n",
       "        text-align: left;\n",
       "    }\n",
       "\n",
       "    .dataframe tbody tr th {\n",
       "        vertical-align: top;\n",
       "    }\n",
       "</style>\n",
       "<table border=\"1\" class=\"dataframe\">\n",
       "  <thead>\n",
       "    <tr style=\"text-align: right;\">\n",
       "      <th></th>\n",
       "      <th>ID</th>\n",
       "      <th>CaseNumber</th>\n",
       "      <th>Date</th>\n",
       "      <th>Block</th>\n",
       "      <th>IUCR</th>\n",
       "      <th>PrimaryType</th>\n",
       "      <th>Description</th>\n",
       "      <th>LocationDescription</th>\n",
       "      <th>Arrest</th>\n",
       "      <th>Domestic</th>\n",
       "      <th>...</th>\n",
       "      <th>Ward</th>\n",
       "      <th>CommunityArea</th>\n",
       "      <th>FBICode</th>\n",
       "      <th>XCoordinate</th>\n",
       "      <th>YCoordinate</th>\n",
       "      <th>Year</th>\n",
       "      <th>UpdatedOn</th>\n",
       "      <th>Latitude</th>\n",
       "      <th>Longitude</th>\n",
       "      <th>Location</th>\n",
       "    </tr>\n",
       "  </thead>\n",
       "  <tbody>\n",
       "    <tr>\n",
       "      <th>0</th>\n",
       "      <td>11046781.0</td>\n",
       "      <td>JA381948</td>\n",
       "      <td>08/07/2017 12:00:00 PM</td>\n",
       "      <td>091XX S ESSEX AVE</td>\n",
       "      <td>0560</td>\n",
       "      <td>ASSAULT</td>\n",
       "      <td>SIMPLE</td>\n",
       "      <td>APARTMENT</td>\n",
       "      <td>False</td>\n",
       "      <td>True</td>\n",
       "      <td>...</td>\n",
       "      <td>7.0</td>\n",
       "      <td>48.0</td>\n",
       "      <td>08A</td>\n",
       "      <td>1194423.0</td>\n",
       "      <td>1844888.0</td>\n",
       "      <td>2017.0</td>\n",
       "      <td>08/14/2017 04:00:25 PM</td>\n",
       "      <td>41.729299</td>\n",
       "      <td>-87.563364</td>\n",
       "      <td>(41.729299431, -87.563363564)</td>\n",
       "    </tr>\n",
       "    <tr>\n",
       "      <th>1</th>\n",
       "      <td>11046780.0</td>\n",
       "      <td>JA381931</td>\n",
       "      <td>08/07/2017 09:30:00 PM</td>\n",
       "      <td>078XX S KINGSTON AVE</td>\n",
       "      <td>0486</td>\n",
       "      <td>BATTERY</td>\n",
       "      <td>DOMESTIC BATTERY SIMPLE</td>\n",
       "      <td>APARTMENT</td>\n",
       "      <td>False</td>\n",
       "      <td>True</td>\n",
       "      <td>...</td>\n",
       "      <td>7.0</td>\n",
       "      <td>43.0</td>\n",
       "      <td>08B</td>\n",
       "      <td>1194550.0</td>\n",
       "      <td>1853469.0</td>\n",
       "      <td>2017.0</td>\n",
       "      <td>08/14/2017 04:00:25 PM</td>\n",
       "      <td>41.752843</td>\n",
       "      <td>-87.562617</td>\n",
       "      <td>(41.752843296, -87.562616815)</td>\n",
       "    </tr>\n",
       "  </tbody>\n",
       "</table>\n",
       "<p>2 rows × 22 columns</p>\n",
       "</div>"
      ],
      "text/plain": [
       "           ID CaseNumber                    Date                 Block  IUCR  \\\n",
       "0  11046781.0   JA381948  08/07/2017 12:00:00 PM     091XX S ESSEX AVE  0560   \n",
       "1  11046780.0   JA381931  08/07/2017 09:30:00 PM  078XX S KINGSTON AVE  0486   \n",
       "\n",
       "  PrimaryType              Description LocationDescription  Arrest  Domestic  \\\n",
       "0     ASSAULT                   SIMPLE           APARTMENT   False      True   \n",
       "1     BATTERY  DOMESTIC BATTERY SIMPLE           APARTMENT   False      True   \n",
       "\n",
       "               ...                Ward  CommunityArea  FBICode  XCoordinate  \\\n",
       "0              ...                 7.0           48.0      08A    1194423.0   \n",
       "1              ...                 7.0           43.0      08B    1194550.0   \n",
       "\n",
       "  YCoordinate    Year               UpdatedOn   Latitude  Longitude  \\\n",
       "0   1844888.0  2017.0  08/14/2017 04:00:25 PM  41.729299 -87.563364   \n",
       "1   1853469.0  2017.0  08/14/2017 04:00:25 PM  41.752843 -87.562617   \n",
       "\n",
       "                        Location  \n",
       "0  (41.729299431, -87.563363564)  \n",
       "1  (41.752843296, -87.562616815)  \n",
       "\n",
       "[2 rows x 22 columns]"
      ]
     },
     "execution_count": 9,
     "metadata": {},
     "output_type": "execute_result"
    }
   ],
   "source": [
    "# strip out white space from column names\n",
    "df = df.rename(columns={c: c.replace(' ', '') for c in df.columns})\n",
    "df.head(2)"
   ]
  },
  {
   "cell_type": "code",
   "execution_count": 10,
   "metadata": {
    "collapsed": false
   },
   "outputs": [
    {
     "data": {
      "text/plain": [
       "Index(['ID', 'CaseNumber', 'Date', 'Block', 'IUCR', 'PrimaryType',\n",
       "       'Description', 'LocationDescription', 'Arrest', 'Domestic', 'Beat',\n",
       "       'District', 'Ward', 'CommunityArea', 'FBICode', 'XCoordinate',\n",
       "       'YCoordinate', 'Year', 'UpdatedOn', 'Latitude', 'Longitude',\n",
       "       'Location'],\n",
       "      dtype='object')"
      ]
     },
     "execution_count": 10,
     "metadata": {},
     "output_type": "execute_result"
    }
   ],
   "source": [
    "# list columns\n",
    "df.columns"
   ]
  },
  {
   "cell_type": "code",
   "execution_count": 11,
   "metadata": {
    "collapsed": false
   },
   "outputs": [
    {
     "data": {
      "text/plain": [
       "ID                     float64\n",
       "CaseNumber              object\n",
       "Date                    object\n",
       "Block                   object\n",
       "IUCR                    object\n",
       "PrimaryType             object\n",
       "Description             object\n",
       "LocationDescription     object\n",
       "Arrest                    bool\n",
       "Domestic                  bool\n",
       "Beat                   float64\n",
       "District               float64\n",
       "Ward                   float64\n",
       "CommunityArea          float64\n",
       "FBICode                 object\n",
       "XCoordinate            float64\n",
       "YCoordinate            float64\n",
       "Year                   float64\n",
       "UpdatedOn               object\n",
       "Latitude               float64\n",
       "Longitude              float64\n",
       "Location                object\n",
       "dtype: object"
      ]
     },
     "execution_count": 11,
     "metadata": {},
     "output_type": "execute_result"
    }
   ],
   "source": [
    "# infer data types\n",
    "df.dtypes"
   ]
  },
  {
   "cell_type": "code",
   "execution_count": 12,
   "metadata": {
    "collapsed": true
   },
   "outputs": [],
   "source": [
    "def unique_column_values(df):\n",
    "    for column in df.columns:\n",
    "        print(\"{} | {} | {}\".format(\n",
    "            df[column].name,\n",
    "            len(df[column].unique()),\n",
    "            df[column].dtype))"
   ]
  },
  {
   "cell_type": "code",
   "execution_count": 13,
   "metadata": {
    "collapsed": false
   },
   "outputs": [
    {
     "name": "stdout",
     "output_type": "stream",
     "text": [
      "Name | Unique # | Type\n",
      "ID | 157802 | float64\n",
      "CaseNumber | 157772 | object\n",
      "Date | 69367 | object\n",
      "Block | 24878 | object\n",
      "IUCR | 314 | object\n",
      "PrimaryType | 32 | object\n",
      "Description | 293 | object\n",
      "LocationDescription | 122 | object\n",
      "Arrest | 2 | bool\n",
      "Domestic | 2 | bool\n",
      "Beat | 274 | float64\n",
      "District | 23 | float64\n",
      "Ward | 51 | float64\n",
      "CommunityArea | 78 | float64\n",
      "FBICode | 26 | object\n",
      "XCoordinate | 43151 | float64\n",
      "YCoordinate | 56811 | float64\n",
      "Year | 1 | float64\n",
      "UpdatedOn | 405 | object\n",
      "Latitude | 86922 | float64\n",
      "Longitude | 86915 | float64\n",
      "Location | 86933 | object\n",
      "Wall time: 1.48 s\n"
     ]
    }
   ],
   "source": [
    "%%time\n",
    "# print unique column values counts\n",
    "print(\"Name | Unique # | Type\")\n",
    "unique_column_values(df)"
   ]
  },
  {
   "cell_type": "code",
   "execution_count": 14,
   "metadata": {
    "collapsed": true
   },
   "outputs": [],
   "source": [
    "# reduce data set\n",
    "select_columns = ['Date', 'Block', 'PrimaryType','Description', 'LocationDescription', \n",
    "                  'Arrest', 'Domestic', 'Latitude', 'Longitude']"
   ]
  },
  {
   "cell_type": "code",
   "execution_count": 15,
   "metadata": {
    "collapsed": false
   },
   "outputs": [
    {
     "name": "stdout",
     "output_type": "stream",
     "text": [
      "157,802 total records\n"
     ]
    },
    {
     "data": {
      "text/html": [
       "<div>\n",
       "<style>\n",
       "    .dataframe thead tr:only-child th {\n",
       "        text-align: right;\n",
       "    }\n",
       "\n",
       "    .dataframe thead th {\n",
       "        text-align: left;\n",
       "    }\n",
       "\n",
       "    .dataframe tbody tr th {\n",
       "        vertical-align: top;\n",
       "    }\n",
       "</style>\n",
       "<table border=\"1\" class=\"dataframe\">\n",
       "  <thead>\n",
       "    <tr style=\"text-align: right;\">\n",
       "      <th></th>\n",
       "      <th>Date</th>\n",
       "      <th>Block</th>\n",
       "      <th>PrimaryType</th>\n",
       "      <th>Description</th>\n",
       "      <th>LocationDescription</th>\n",
       "      <th>Arrest</th>\n",
       "      <th>Domestic</th>\n",
       "      <th>Latitude</th>\n",
       "      <th>Longitude</th>\n",
       "    </tr>\n",
       "  </thead>\n",
       "  <tbody>\n",
       "    <tr>\n",
       "      <th>0</th>\n",
       "      <td>08/07/2017 12:00:00 PM</td>\n",
       "      <td>091XX S ESSEX AVE</td>\n",
       "      <td>ASSAULT</td>\n",
       "      <td>SIMPLE</td>\n",
       "      <td>APARTMENT</td>\n",
       "      <td>False</td>\n",
       "      <td>True</td>\n",
       "      <td>41.729299</td>\n",
       "      <td>-87.563364</td>\n",
       "    </tr>\n",
       "    <tr>\n",
       "      <th>1</th>\n",
       "      <td>08/07/2017 09:30:00 PM</td>\n",
       "      <td>078XX S KINGSTON AVE</td>\n",
       "      <td>BATTERY</td>\n",
       "      <td>DOMESTIC BATTERY SIMPLE</td>\n",
       "      <td>APARTMENT</td>\n",
       "      <td>False</td>\n",
       "      <td>True</td>\n",
       "      <td>41.752843</td>\n",
       "      <td>-87.562617</td>\n",
       "    </tr>\n",
       "  </tbody>\n",
       "</table>\n",
       "</div>"
      ],
      "text/plain": [
       "                     Date                 Block PrimaryType  \\\n",
       "0  08/07/2017 12:00:00 PM     091XX S ESSEX AVE     ASSAULT   \n",
       "1  08/07/2017 09:30:00 PM  078XX S KINGSTON AVE     BATTERY   \n",
       "\n",
       "               Description LocationDescription  Arrest  Domestic   Latitude  \\\n",
       "0                   SIMPLE           APARTMENT   False      True  41.729299   \n",
       "1  DOMESTIC BATTERY SIMPLE           APARTMENT   False      True  41.752843   \n",
       "\n",
       "   Longitude  \n",
       "0 -87.563364  \n",
       "1 -87.562617  "
      ]
     },
     "execution_count": 15,
     "metadata": {},
     "output_type": "execute_result"
    }
   ],
   "source": [
    "df = df[select_columns]\n",
    "print(\"{:,} total records\".format(len(df)))\n",
    "df.head(2)"
   ]
  },
  {
   "cell_type": "code",
   "execution_count": 16,
   "metadata": {
    "collapsed": false
   },
   "outputs": [
    {
     "name": "stdout",
     "output_type": "stream",
     "text": [
      "157,543 total records\n"
     ]
    },
    {
     "data": {
      "text/html": [
       "<div>\n",
       "<style>\n",
       "    .dataframe thead tr:only-child th {\n",
       "        text-align: right;\n",
       "    }\n",
       "\n",
       "    .dataframe thead th {\n",
       "        text-align: left;\n",
       "    }\n",
       "\n",
       "    .dataframe tbody tr th {\n",
       "        vertical-align: top;\n",
       "    }\n",
       "</style>\n",
       "<table border=\"1\" class=\"dataframe\">\n",
       "  <thead>\n",
       "    <tr style=\"text-align: right;\">\n",
       "      <th></th>\n",
       "      <th>Date</th>\n",
       "      <th>Block</th>\n",
       "      <th>PrimaryType</th>\n",
       "      <th>Description</th>\n",
       "      <th>LocationDescription</th>\n",
       "      <th>Arrest</th>\n",
       "      <th>Domestic</th>\n",
       "      <th>Latitude</th>\n",
       "      <th>Longitude</th>\n",
       "    </tr>\n",
       "  </thead>\n",
       "  <tbody>\n",
       "    <tr>\n",
       "      <th>0</th>\n",
       "      <td>08/07/2017 12:00:00 PM</td>\n",
       "      <td>091XX S ESSEX AVE</td>\n",
       "      <td>ASSAULT</td>\n",
       "      <td>SIMPLE</td>\n",
       "      <td>APARTMENT</td>\n",
       "      <td>False</td>\n",
       "      <td>True</td>\n",
       "      <td>41.729299</td>\n",
       "      <td>-87.563364</td>\n",
       "    </tr>\n",
       "    <tr>\n",
       "      <th>1</th>\n",
       "      <td>08/07/2017 09:30:00 PM</td>\n",
       "      <td>078XX S KINGSTON AVE</td>\n",
       "      <td>BATTERY</td>\n",
       "      <td>DOMESTIC BATTERY SIMPLE</td>\n",
       "      <td>APARTMENT</td>\n",
       "      <td>False</td>\n",
       "      <td>True</td>\n",
       "      <td>41.752843</td>\n",
       "      <td>-87.562617</td>\n",
       "    </tr>\n",
       "  </tbody>\n",
       "</table>\n",
       "</div>"
      ],
      "text/plain": [
       "                     Date                 Block PrimaryType  \\\n",
       "0  08/07/2017 12:00:00 PM     091XX S ESSEX AVE     ASSAULT   \n",
       "1  08/07/2017 09:30:00 PM  078XX S KINGSTON AVE     BATTERY   \n",
       "\n",
       "               Description LocationDescription  Arrest  Domestic   Latitude  \\\n",
       "0                   SIMPLE           APARTMENT   False      True  41.729299   \n",
       "1  DOMESTIC BATTERY SIMPLE           APARTMENT   False      True  41.752843   \n",
       "\n",
       "   Longitude  \n",
       "0 -87.563364  \n",
       "1 -87.562617  "
      ]
     },
     "execution_count": 16,
     "metadata": {},
     "output_type": "execute_result"
    }
   ],
   "source": [
    "# drop duplicates\n",
    "df = df.drop_duplicates() #.dropna()\n",
    "print(\"{:,} total records\".format(len(df)))\n",
    "df.head(2)"
   ]
  },
  {
   "cell_type": "code",
   "execution_count": 17,
   "metadata": {
    "collapsed": false
   },
   "outputs": [
    {
     "name": "stdout",
     "output_type": "stream",
     "text": [
      "30,314 arrests\n"
     ]
    },
    {
     "data": {
      "text/html": [
       "<div>\n",
       "<style>\n",
       "    .dataframe thead tr:only-child th {\n",
       "        text-align: right;\n",
       "    }\n",
       "\n",
       "    .dataframe thead th {\n",
       "        text-align: left;\n",
       "    }\n",
       "\n",
       "    .dataframe tbody tr th {\n",
       "        vertical-align: top;\n",
       "    }\n",
       "</style>\n",
       "<table border=\"1\" class=\"dataframe\">\n",
       "  <thead>\n",
       "    <tr style=\"text-align: right;\">\n",
       "      <th></th>\n",
       "      <th>Date</th>\n",
       "      <th>Block</th>\n",
       "      <th>PrimaryType</th>\n",
       "      <th>Description</th>\n",
       "      <th>LocationDescription</th>\n",
       "      <th>Arrest</th>\n",
       "      <th>Domestic</th>\n",
       "      <th>Latitude</th>\n",
       "      <th>Longitude</th>\n",
       "    </tr>\n",
       "  </thead>\n",
       "  <tbody>\n",
       "    <tr>\n",
       "      <th>2</th>\n",
       "      <td>08/07/2017 09:15:00 PM</td>\n",
       "      <td>012XX W 79TH ST</td>\n",
       "      <td>ROBBERY</td>\n",
       "      <td>STRONGARM - NO WEAPON</td>\n",
       "      <td>PARK PROPERTY</td>\n",
       "      <td>True</td>\n",
       "      <td>False</td>\n",
       "      <td>41.750471</td>\n",
       "      <td>-87.655560</td>\n",
       "    </tr>\n",
       "    <tr>\n",
       "      <th>8</th>\n",
       "      <td>08/07/2017 11:09:00 PM</td>\n",
       "      <td>103XX S WENTWORTH AVE</td>\n",
       "      <td>WEAPONS VIOLATION</td>\n",
       "      <td>UNLAWFUL POSS OF HANDGUN</td>\n",
       "      <td>STREET</td>\n",
       "      <td>True</td>\n",
       "      <td>False</td>\n",
       "      <td>41.706647</td>\n",
       "      <td>-87.628261</td>\n",
       "    </tr>\n",
       "    <tr>\n",
       "      <th>9</th>\n",
       "      <td>08/07/2017 10:53:00 PM</td>\n",
       "      <td>050XX S LAFLIN ST</td>\n",
       "      <td>BATTERY</td>\n",
       "      <td>SIMPLE</td>\n",
       "      <td>OTHER</td>\n",
       "      <td>True</td>\n",
       "      <td>False</td>\n",
       "      <td>41.802233</td>\n",
       "      <td>-87.662372</td>\n",
       "    </tr>\n",
       "    <tr>\n",
       "      <th>12</th>\n",
       "      <td>08/07/2017 10:42:00 PM</td>\n",
       "      <td>003XX W GRAND AVE</td>\n",
       "      <td>NARCOTICS</td>\n",
       "      <td>POSS: HEROIN(WHITE)</td>\n",
       "      <td>SIDEWALK</td>\n",
       "      <td>True</td>\n",
       "      <td>False</td>\n",
       "      <td>41.891553</td>\n",
       "      <td>-87.636537</td>\n",
       "    </tr>\n",
       "    <tr>\n",
       "      <th>13</th>\n",
       "      <td>08/07/2017 11:29:00 PM</td>\n",
       "      <td>056XX S BISHOP ST</td>\n",
       "      <td>NARCOTICS</td>\n",
       "      <td>MANU/DELIVER:CRACK</td>\n",
       "      <td>SIDEWALK</td>\n",
       "      <td>True</td>\n",
       "      <td>False</td>\n",
       "      <td>41.791601</td>\n",
       "      <td>-87.660880</td>\n",
       "    </tr>\n",
       "  </tbody>\n",
       "</table>\n",
       "</div>"
      ],
      "text/plain": [
       "                      Date                  Block        PrimaryType  \\\n",
       "2   08/07/2017 09:15:00 PM        012XX W 79TH ST            ROBBERY   \n",
       "8   08/07/2017 11:09:00 PM  103XX S WENTWORTH AVE  WEAPONS VIOLATION   \n",
       "9   08/07/2017 10:53:00 PM      050XX S LAFLIN ST            BATTERY   \n",
       "12  08/07/2017 10:42:00 PM      003XX W GRAND AVE          NARCOTICS   \n",
       "13  08/07/2017 11:29:00 PM      056XX S BISHOP ST          NARCOTICS   \n",
       "\n",
       "                 Description LocationDescription  Arrest  Domestic   Latitude  \\\n",
       "2      STRONGARM - NO WEAPON       PARK PROPERTY    True     False  41.750471   \n",
       "8   UNLAWFUL POSS OF HANDGUN              STREET    True     False  41.706647   \n",
       "9                     SIMPLE               OTHER    True     False  41.802233   \n",
       "12       POSS: HEROIN(WHITE)            SIDEWALK    True     False  41.891553   \n",
       "13        MANU/DELIVER:CRACK            SIDEWALK    True     False  41.791601   \n",
       "\n",
       "    Longitude  \n",
       "2  -87.655560  \n",
       "8  -87.628261  \n",
       "9  -87.662372  \n",
       "12 -87.636537  \n",
       "13 -87.660880  "
      ]
     },
     "execution_count": 17,
     "metadata": {},
     "output_type": "execute_result"
    }
   ],
   "source": [
    "# count arrests\n",
    "arrests_df = df[df.Arrest==True]\n",
    "print(\"{:,} arrests\".format(len(arrests_df)))\n",
    "arrests_df.head()"
   ]
  },
  {
   "cell_type": "code",
   "execution_count": 18,
   "metadata": {
    "collapsed": false
   },
   "outputs": [
    {
     "name": "stdout",
     "output_type": "stream",
     "text": [
      "25,873 domestic crime reports\n"
     ]
    },
    {
     "data": {
      "text/html": [
       "<div>\n",
       "<style>\n",
       "    .dataframe thead tr:only-child th {\n",
       "        text-align: right;\n",
       "    }\n",
       "\n",
       "    .dataframe thead th {\n",
       "        text-align: left;\n",
       "    }\n",
       "\n",
       "    .dataframe tbody tr th {\n",
       "        vertical-align: top;\n",
       "    }\n",
       "</style>\n",
       "<table border=\"1\" class=\"dataframe\">\n",
       "  <thead>\n",
       "    <tr style=\"text-align: right;\">\n",
       "      <th></th>\n",
       "      <th>Date</th>\n",
       "      <th>Block</th>\n",
       "      <th>PrimaryType</th>\n",
       "      <th>Description</th>\n",
       "      <th>LocationDescription</th>\n",
       "      <th>Arrest</th>\n",
       "      <th>Domestic</th>\n",
       "      <th>Latitude</th>\n",
       "      <th>Longitude</th>\n",
       "    </tr>\n",
       "  </thead>\n",
       "  <tbody>\n",
       "    <tr>\n",
       "      <th>0</th>\n",
       "      <td>08/07/2017 12:00:00 PM</td>\n",
       "      <td>091XX S ESSEX AVE</td>\n",
       "      <td>ASSAULT</td>\n",
       "      <td>SIMPLE</td>\n",
       "      <td>APARTMENT</td>\n",
       "      <td>False</td>\n",
       "      <td>True</td>\n",
       "      <td>41.729299</td>\n",
       "      <td>-87.563364</td>\n",
       "    </tr>\n",
       "    <tr>\n",
       "      <th>1</th>\n",
       "      <td>08/07/2017 09:30:00 PM</td>\n",
       "      <td>078XX S KINGSTON AVE</td>\n",
       "      <td>BATTERY</td>\n",
       "      <td>DOMESTIC BATTERY SIMPLE</td>\n",
       "      <td>APARTMENT</td>\n",
       "      <td>False</td>\n",
       "      <td>True</td>\n",
       "      <td>41.752843</td>\n",
       "      <td>-87.562617</td>\n",
       "    </tr>\n",
       "    <tr>\n",
       "      <th>4</th>\n",
       "      <td>08/07/2017 11:25:00 AM</td>\n",
       "      <td>069XX S STATE ST</td>\n",
       "      <td>OTHER OFFENSE</td>\n",
       "      <td>HARASSMENT BY TELEPHONE</td>\n",
       "      <td>STREET</td>\n",
       "      <td>False</td>\n",
       "      <td>True</td>\n",
       "      <td>41.768728</td>\n",
       "      <td>-87.624946</td>\n",
       "    </tr>\n",
       "    <tr>\n",
       "      <th>6</th>\n",
       "      <td>08/07/2017 12:00:00 PM</td>\n",
       "      <td>026XX S CALIFORNIA AVE</td>\n",
       "      <td>BATTERY</td>\n",
       "      <td>DOMESTIC BATTERY SIMPLE</td>\n",
       "      <td>STREET</td>\n",
       "      <td>False</td>\n",
       "      <td>True</td>\n",
       "      <td>41.844163</td>\n",
       "      <td>-87.695199</td>\n",
       "    </tr>\n",
       "    <tr>\n",
       "      <th>7</th>\n",
       "      <td>08/07/2017 09:00:00 AM</td>\n",
       "      <td>035XX N KOSTNER AVE</td>\n",
       "      <td>OTHER OFFENSE</td>\n",
       "      <td>TELEPHONE THREAT</td>\n",
       "      <td>RESIDENCE</td>\n",
       "      <td>False</td>\n",
       "      <td>True</td>\n",
       "      <td>41.945256</td>\n",
       "      <td>-87.737203</td>\n",
       "    </tr>\n",
       "  </tbody>\n",
       "</table>\n",
       "</div>"
      ],
      "text/plain": [
       "                     Date                   Block    PrimaryType  \\\n",
       "0  08/07/2017 12:00:00 PM       091XX S ESSEX AVE        ASSAULT   \n",
       "1  08/07/2017 09:30:00 PM    078XX S KINGSTON AVE        BATTERY   \n",
       "4  08/07/2017 11:25:00 AM        069XX S STATE ST  OTHER OFFENSE   \n",
       "6  08/07/2017 12:00:00 PM  026XX S CALIFORNIA AVE        BATTERY   \n",
       "7  08/07/2017 09:00:00 AM     035XX N KOSTNER AVE  OTHER OFFENSE   \n",
       "\n",
       "               Description LocationDescription  Arrest  Domestic   Latitude  \\\n",
       "0                   SIMPLE           APARTMENT   False      True  41.729299   \n",
       "1  DOMESTIC BATTERY SIMPLE           APARTMENT   False      True  41.752843   \n",
       "4  HARASSMENT BY TELEPHONE              STREET   False      True  41.768728   \n",
       "6  DOMESTIC BATTERY SIMPLE              STREET   False      True  41.844163   \n",
       "7         TELEPHONE THREAT           RESIDENCE   False      True  41.945256   \n",
       "\n",
       "   Longitude  \n",
       "0 -87.563364  \n",
       "1 -87.562617  \n",
       "4 -87.624946  \n",
       "6 -87.695199  \n",
       "7 -87.737203  "
      ]
     },
     "execution_count": 18,
     "metadata": {},
     "output_type": "execute_result"
    }
   ],
   "source": [
    "# domestic violance\n",
    "domestic_df = df[df.Domestic==True]\n",
    "print(\"{:,} domestic crime reports\".format(len(domestic_df)))\n",
    "domestic_df.head()"
   ]
  },
  {
   "cell_type": "code",
   "execution_count": 19,
   "metadata": {
    "collapsed": false
   },
   "outputs": [
    {
     "name": "stdout",
     "output_type": "stream",
     "text": [
      "<class 'dask.dataframe.core.DataFrame'>\n",
      "Columns: 9 entries, Date to Longitude\n",
      "dtypes: object(5), bool(2), float64(2)"
     ]
    }
   ],
   "source": [
    "df.info()"
   ]
  }
 ],
 "metadata": {
  "anaconda-cloud": {},
  "kernelspec": {
   "display_name": "Python [conda root]",
   "language": "python",
   "name": "conda-root-py"
  },
  "language_info": {
   "codemirror_mode": {
    "name": "ipython",
    "version": 3
   },
   "file_extension": ".py",
   "mimetype": "text/x-python",
   "name": "python",
   "nbconvert_exporter": "python",
   "pygments_lexer": "ipython3",
   "version": "3.5.2"
  }
 },
 "nbformat": 4,
 "nbformat_minor": 1
}
