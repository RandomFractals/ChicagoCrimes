{
 "cells": [
  {
   "cell_type": "code",
   "execution_count": 1,
   "metadata": {
    "collapsed": true
   },
   "outputs": [],
   "source": [
    "import dask.dataframe as dd"
   ]
  },
  {
   "cell_type": "code",
   "execution_count": 2,
   "metadata": {
    "collapsed": true
   },
   "outputs": [],
   "source": [
    "# load csv data into dask df\n",
    "filename = '../data/Chicago-crimes-2017.csv'\n",
    "df = dd.read_csv(filename, dtype='str')"
   ]
  },
  {
   "cell_type": "code",
   "execution_count": 37,
   "metadata": {
    "collapsed": false
   },
   "outputs": [
    {
     "name": "stdout",
     "output_type": "stream",
     "text": [
      "125,770 total records in 1 partitions\n"
     ]
    }
   ],
   "source": [
    "# log records count and load data partitions\n",
    "print(\"{:,} total records in {} partitions\".format(len(df), df.npartitions))"
   ]
  },
  {
   "cell_type": "code",
   "execution_count": 6,
   "metadata": {
    "collapsed": false
   },
   "outputs": [
    {
     "data": {
      "text/plain": [
       "(dd.Scalar<size-ag..., dtype=int32>, dask.dataframe.core.Scalar)"
      ]
     },
     "execution_count": 6,
     "metadata": {},
     "output_type": "execute_result"
    }
   ],
   "source": [
    "# data size\n",
    "df_size = df.size\n",
    "df_size, type(df_size)"
   ]
  },
  {
   "cell_type": "code",
   "execution_count": 17,
   "metadata": {
    "collapsed": false
   },
   "outputs": [
    {
     "name": "stdout",
     "output_type": "stream",
     "text": [
      "Wall time: 1.19 s\n"
     ]
    },
    {
     "data": {
      "text/plain": [
       "2862926"
      ]
     },
     "execution_count": 17,
     "metadata": {},
     "output_type": "execute_result"
    }
   ],
   "source": [
    "%%time\n",
    "df_size.compute()"
   ]
  },
  {
   "cell_type": "code",
   "execution_count": 39,
   "metadata": {
    "collapsed": false
   },
   "outputs": [
    {
     "name": "stdout",
     "output_type": "stream",
     "text": [
      "Wall time: 2.78 s\n"
     ]
    }
   ],
   "source": [
    "%%time\n",
    "# persist in memory\n",
    "df = df.persist()\n",
    "df.size.compute()"
   ]
  },
  {
   "cell_type": "code",
   "execution_count": 42,
   "metadata": {
    "collapsed": false
   },
   "outputs": [
    {
     "name": "stdout",
     "output_type": "stream",
     "text": [
      "DataFrame size: 1,257,700\n",
      "Wall time: 15.6 ms\n"
     ]
    }
   ],
   "source": [
    "%%time\n",
    "print(\"DataFrame size: {:,}\".format(df.size.compute()))"
   ]
  },
  {
   "cell_type": "code",
   "execution_count": 19,
   "metadata": {
    "collapsed": false
   },
   "outputs": [
    {
     "data": {
      "text/html": [
       "<div>\n",
       "<style>\n",
       "    .dataframe thead tr:only-child th {\n",
       "        text-align: right;\n",
       "    }\n",
       "\n",
       "    .dataframe thead th {\n",
       "        text-align: left;\n",
       "    }\n",
       "\n",
       "    .dataframe tbody tr th {\n",
       "        vertical-align: top;\n",
       "    }\n",
       "</style>\n",
       "<table border=\"1\" class=\"dataframe\">\n",
       "  <thead>\n",
       "    <tr style=\"text-align: right;\">\n",
       "      <th></th>\n",
       "      <th>ID</th>\n",
       "      <th>CaseNumber</th>\n",
       "      <th>Date</th>\n",
       "      <th>Block</th>\n",
       "      <th>IUCR</th>\n",
       "      <th>PrimaryType</th>\n",
       "      <th>Description</th>\n",
       "      <th>LocationDescription</th>\n",
       "      <th>Arrest</th>\n",
       "      <th>Domestic</th>\n",
       "      <th>...</th>\n",
       "      <th>Ward</th>\n",
       "      <th>CommunityArea</th>\n",
       "      <th>FBICode</th>\n",
       "      <th>XCoordinate</th>\n",
       "      <th>YCoordinate</th>\n",
       "      <th>Year</th>\n",
       "      <th>UpdatedOn</th>\n",
       "      <th>Latitude</th>\n",
       "      <th>Longitude</th>\n",
       "      <th>Location</th>\n",
       "    </tr>\n",
       "  </thead>\n",
       "  <tbody>\n",
       "    <tr>\n",
       "      <th>0</th>\n",
       "      <td>11007009</td>\n",
       "      <td>JA335947</td>\n",
       "      <td>7/4/2017 23:50</td>\n",
       "      <td>005XX W PEARSON ST</td>\n",
       "      <td>460</td>\n",
       "      <td>BATTERY</td>\n",
       "      <td>SIMPLE</td>\n",
       "      <td>RESIDENTIAL YARD (FRONT/BACK)</td>\n",
       "      <td>FALSE</td>\n",
       "      <td>FALSE</td>\n",
       "      <td>...</td>\n",
       "      <td>27</td>\n",
       "      <td>8</td>\n",
       "      <td>08B</td>\n",
       "      <td>1172479</td>\n",
       "      <td>1905946</td>\n",
       "      <td>2017</td>\n",
       "      <td>7/11/2017 15:48</td>\n",
       "      <td>41.89735911</td>\n",
       "      <td>-87.64195001</td>\n",
       "      <td>(41.897359112, -87.641950014)</td>\n",
       "    </tr>\n",
       "    <tr>\n",
       "      <th>1</th>\n",
       "      <td>11005864</td>\n",
       "      <td>JA334658</td>\n",
       "      <td>7/4/2017 23:46</td>\n",
       "      <td>053XX W HIRSCH ST</td>\n",
       "      <td>460</td>\n",
       "      <td>BATTERY</td>\n",
       "      <td>SIMPLE</td>\n",
       "      <td>SIDEWALK</td>\n",
       "      <td>FALSE</td>\n",
       "      <td>FALSE</td>\n",
       "      <td>...</td>\n",
       "      <td>37</td>\n",
       "      <td>25</td>\n",
       "      <td>08B</td>\n",
       "      <td>1140517</td>\n",
       "      <td>1908799</td>\n",
       "      <td>2017</td>\n",
       "      <td>7/11/2017 15:48</td>\n",
       "      <td>41.90583487</td>\n",
       "      <td>-87.75927314</td>\n",
       "      <td>(41.905834871, -87.759273141)</td>\n",
       "    </tr>\n",
       "  </tbody>\n",
       "</table>\n",
       "<p>2 rows × 22 columns</p>\n",
       "</div>"
      ],
      "text/plain": [
       "         ID CaseNumber            Date               Block IUCR PrimaryType  \\\n",
       "0  11007009   JA335947  7/4/2017 23:50  005XX W PEARSON ST  460     BATTERY   \n",
       "1  11005864   JA334658  7/4/2017 23:46   053XX W HIRSCH ST  460     BATTERY   \n",
       "\n",
       "  Description            LocationDescription Arrest Domestic  \\\n",
       "0      SIMPLE  RESIDENTIAL YARD (FRONT/BACK)  FALSE    FALSE   \n",
       "1      SIMPLE                       SIDEWALK  FALSE    FALSE   \n",
       "\n",
       "               ...               Ward CommunityArea FBICode XCoordinate  \\\n",
       "0              ...                 27             8     08B     1172479   \n",
       "1              ...                 37            25     08B     1140517   \n",
       "\n",
       "  YCoordinate  Year        UpdatedOn     Latitude     Longitude  \\\n",
       "0     1905946  2017  7/11/2017 15:48  41.89735911  -87.64195001   \n",
       "1     1908799  2017  7/11/2017 15:48  41.90583487  -87.75927314   \n",
       "\n",
       "                        Location  \n",
       "0  (41.897359112, -87.641950014)  \n",
       "1  (41.905834871, -87.759273141)  \n",
       "\n",
       "[2 rows x 22 columns]"
      ]
     },
     "execution_count": 19,
     "metadata": {},
     "output_type": "execute_result"
    }
   ],
   "source": [
    "# get top 2 records\n",
    "df.head(2)"
   ]
  },
  {
   "cell_type": "code",
   "execution_count": 4,
   "metadata": {
    "collapsed": false
   },
   "outputs": [
    {
     "data": {
      "text/html": [
       "<div>\n",
       "<style>\n",
       "    .dataframe thead tr:only-child th {\n",
       "        text-align: right;\n",
       "    }\n",
       "\n",
       "    .dataframe thead th {\n",
       "        text-align: left;\n",
       "    }\n",
       "\n",
       "    .dataframe tbody tr th {\n",
       "        vertical-align: top;\n",
       "    }\n",
       "</style>\n",
       "<table border=\"1\" class=\"dataframe\">\n",
       "  <thead>\n",
       "    <tr style=\"text-align: right;\">\n",
       "      <th></th>\n",
       "      <th>ID</th>\n",
       "      <th>Case Number</th>\n",
       "      <th>Date</th>\n",
       "      <th>Block</th>\n",
       "      <th>IUCR</th>\n",
       "      <th>Primary Type</th>\n",
       "      <th>Description</th>\n",
       "      <th>Location Description</th>\n",
       "      <th>Arrest</th>\n",
       "      <th>Domestic</th>\n",
       "      <th>...</th>\n",
       "      <th>Ward</th>\n",
       "      <th>Community Area</th>\n",
       "      <th>FBI Code</th>\n",
       "      <th>X Coordinate</th>\n",
       "      <th>Y Coordinate</th>\n",
       "      <th>Year</th>\n",
       "      <th>Updated On</th>\n",
       "      <th>Latitude</th>\n",
       "      <th>Longitude</th>\n",
       "      <th>Location</th>\n",
       "    </tr>\n",
       "  </thead>\n",
       "  <tbody>\n",
       "    <tr>\n",
       "      <th>130131</th>\n",
       "      <td>10802448</td>\n",
       "      <td>JA101652</td>\n",
       "      <td>1/1/2017 0:00</td>\n",
       "      <td>006XX W 62ND ST</td>\n",
       "      <td>1310</td>\n",
       "      <td>CRIMINAL DAMAGE</td>\n",
       "      <td>TO PROPERTY</td>\n",
       "      <td>RESIDENCE-GARAGE</td>\n",
       "      <td>FALSE</td>\n",
       "      <td>FALSE</td>\n",
       "      <td>...</td>\n",
       "      <td>16</td>\n",
       "      <td>68</td>\n",
       "      <td>14</td>\n",
       "      <td>1173000</td>\n",
       "      <td>1863775</td>\n",
       "      <td>2017</td>\n",
       "      <td>2/14/2017 15:49</td>\n",
       "      <td>41.78162679</td>\n",
       "      <td>-87.64128444</td>\n",
       "      <td>(41.781626794, -87.641284443)</td>\n",
       "    </tr>\n",
       "    <tr>\n",
       "      <th>130132</th>\n",
       "      <td>10802691</td>\n",
       "      <td>JA101951</td>\n",
       "      <td>1/1/2017 0:00</td>\n",
       "      <td>035XX N CLARK ST</td>\n",
       "      <td>890</td>\n",
       "      <td>THEFT</td>\n",
       "      <td>FROM BUILDING</td>\n",
       "      <td>BAR OR TAVERN</td>\n",
       "      <td>FALSE</td>\n",
       "      <td>FALSE</td>\n",
       "      <td>...</td>\n",
       "      <td>44</td>\n",
       "      <td>6</td>\n",
       "      <td>6</td>\n",
       "      <td>NaN</td>\n",
       "      <td>NaN</td>\n",
       "      <td>2017</td>\n",
       "      <td>1/8/2017 15:48</td>\n",
       "      <td>NaN</td>\n",
       "      <td>NaN</td>\n",
       "      <td>NaN</td>\n",
       "    </tr>\n",
       "  </tbody>\n",
       "</table>\n",
       "<p>2 rows × 22 columns</p>\n",
       "</div>"
      ],
      "text/plain": [
       "              ID Case Number           Date             Block  IUCR  \\\n",
       "130131  10802448    JA101652  1/1/2017 0:00   006XX W 62ND ST  1310   \n",
       "130132  10802691    JA101951  1/1/2017 0:00  035XX N CLARK ST   890   \n",
       "\n",
       "           Primary Type    Description Location Description Arrest Domestic  \\\n",
       "130131  CRIMINAL DAMAGE    TO PROPERTY     RESIDENCE-GARAGE  FALSE    FALSE   \n",
       "130132            THEFT  FROM BUILDING        BAR OR TAVERN  FALSE    FALSE   \n",
       "\n",
       "                    ...               Ward Community Area FBI Code  \\\n",
       "130131              ...                 16             68       14   \n",
       "130132              ...                 44              6        6   \n",
       "\n",
       "       X Coordinate Y Coordinate  Year       Updated On     Latitude  \\\n",
       "130131      1173000      1863775  2017  2/14/2017 15:49  41.78162679   \n",
       "130132          NaN          NaN  2017   1/8/2017 15:48          NaN   \n",
       "\n",
       "           Longitude                       Location  \n",
       "130131  -87.64128444  (41.781626794, -87.641284443)  \n",
       "130132           NaN                            NaN  \n",
       "\n",
       "[2 rows x 22 columns]"
      ]
     },
     "execution_count": 4,
     "metadata": {},
     "output_type": "execute_result"
    }
   ],
   "source": [
    "# get last 2 records\n",
    "df.tail(2)"
   ]
  },
  {
   "cell_type": "code",
   "execution_count": 10,
   "metadata": {
    "collapsed": false
   },
   "outputs": [
    {
     "data": {
      "text/html": [
       "<div>\n",
       "<style>\n",
       "    .dataframe thead tr:only-child th {\n",
       "        text-align: right;\n",
       "    }\n",
       "\n",
       "    .dataframe thead th {\n",
       "        text-align: left;\n",
       "    }\n",
       "\n",
       "    .dataframe tbody tr th {\n",
       "        vertical-align: top;\n",
       "    }\n",
       "</style>\n",
       "<table border=\"1\" class=\"dataframe\">\n",
       "  <thead>\n",
       "    <tr style=\"text-align: right;\">\n",
       "      <th></th>\n",
       "      <th>ID</th>\n",
       "      <th>CaseNumber</th>\n",
       "      <th>Date</th>\n",
       "      <th>Block</th>\n",
       "      <th>IUCR</th>\n",
       "      <th>PrimaryType</th>\n",
       "      <th>Description</th>\n",
       "      <th>LocationDescription</th>\n",
       "      <th>Arrest</th>\n",
       "      <th>Domestic</th>\n",
       "      <th>...</th>\n",
       "      <th>Ward</th>\n",
       "      <th>CommunityArea</th>\n",
       "      <th>FBICode</th>\n",
       "      <th>XCoordinate</th>\n",
       "      <th>YCoordinate</th>\n",
       "      <th>Year</th>\n",
       "      <th>UpdatedOn</th>\n",
       "      <th>Latitude</th>\n",
       "      <th>Longitude</th>\n",
       "      <th>Location</th>\n",
       "    </tr>\n",
       "  </thead>\n",
       "  <tbody>\n",
       "    <tr>\n",
       "      <th>0</th>\n",
       "      <td>11007009</td>\n",
       "      <td>JA335947</td>\n",
       "      <td>7/4/2017 23:50</td>\n",
       "      <td>005XX W PEARSON ST</td>\n",
       "      <td>460</td>\n",
       "      <td>BATTERY</td>\n",
       "      <td>SIMPLE</td>\n",
       "      <td>RESIDENTIAL YARD (FRONT/BACK)</td>\n",
       "      <td>FALSE</td>\n",
       "      <td>FALSE</td>\n",
       "      <td>...</td>\n",
       "      <td>27</td>\n",
       "      <td>8</td>\n",
       "      <td>08B</td>\n",
       "      <td>1172479</td>\n",
       "      <td>1905946</td>\n",
       "      <td>2017</td>\n",
       "      <td>7/11/2017 15:48</td>\n",
       "      <td>41.89735911</td>\n",
       "      <td>-87.64195001</td>\n",
       "      <td>(41.897359112, -87.641950014)</td>\n",
       "    </tr>\n",
       "    <tr>\n",
       "      <th>1</th>\n",
       "      <td>11005864</td>\n",
       "      <td>JA334658</td>\n",
       "      <td>7/4/2017 23:46</td>\n",
       "      <td>053XX W HIRSCH ST</td>\n",
       "      <td>460</td>\n",
       "      <td>BATTERY</td>\n",
       "      <td>SIMPLE</td>\n",
       "      <td>SIDEWALK</td>\n",
       "      <td>FALSE</td>\n",
       "      <td>FALSE</td>\n",
       "      <td>...</td>\n",
       "      <td>37</td>\n",
       "      <td>25</td>\n",
       "      <td>08B</td>\n",
       "      <td>1140517</td>\n",
       "      <td>1908799</td>\n",
       "      <td>2017</td>\n",
       "      <td>7/11/2017 15:48</td>\n",
       "      <td>41.90583487</td>\n",
       "      <td>-87.75927314</td>\n",
       "      <td>(41.905834871, -87.759273141)</td>\n",
       "    </tr>\n",
       "  </tbody>\n",
       "</table>\n",
       "<p>2 rows × 22 columns</p>\n",
       "</div>"
      ],
      "text/plain": [
       "         ID CaseNumber            Date               Block IUCR PrimaryType  \\\n",
       "0  11007009   JA335947  7/4/2017 23:50  005XX W PEARSON ST  460     BATTERY   \n",
       "1  11005864   JA334658  7/4/2017 23:46   053XX W HIRSCH ST  460     BATTERY   \n",
       "\n",
       "  Description            LocationDescription Arrest Domestic  \\\n",
       "0      SIMPLE  RESIDENTIAL YARD (FRONT/BACK)  FALSE    FALSE   \n",
       "1      SIMPLE                       SIDEWALK  FALSE    FALSE   \n",
       "\n",
       "               ...               Ward CommunityArea FBICode XCoordinate  \\\n",
       "0              ...                 27             8     08B     1172479   \n",
       "1              ...                 37            25     08B     1140517   \n",
       "\n",
       "  YCoordinate  Year        UpdatedOn     Latitude     Longitude  \\\n",
       "0     1905946  2017  7/11/2017 15:48  41.89735911  -87.64195001   \n",
       "1     1908799  2017  7/11/2017 15:48  41.90583487  -87.75927314   \n",
       "\n",
       "                        Location  \n",
       "0  (41.897359112, -87.641950014)  \n",
       "1  (41.905834871, -87.759273141)  \n",
       "\n",
       "[2 rows x 22 columns]"
      ]
     },
     "execution_count": 10,
     "metadata": {},
     "output_type": "execute_result"
    }
   ],
   "source": [
    "# strip out white space from column names\n",
    "df = df.rename(columns={c: c.replace(' ', '') for c in df.columns})\n",
    "df.head(2)"
   ]
  },
  {
   "cell_type": "code",
   "execution_count": 6,
   "metadata": {
    "collapsed": false
   },
   "outputs": [
    {
     "data": {
      "text/plain": [
       "Index(['ID', 'CaseNumber', 'Date', 'Block', 'IUCR', 'PrimaryType',\n",
       "       'Description', 'LocationDescription', 'Arrest', 'Domestic', 'Beat',\n",
       "       'District', 'Ward', 'CommunityArea', 'FBICode', 'XCoordinate',\n",
       "       'YCoordinate', 'Year', 'UpdatedOn', 'Latitude', 'Longitude',\n",
       "       'Location'],\n",
       "      dtype='object')"
      ]
     },
     "execution_count": 6,
     "metadata": {},
     "output_type": "execute_result"
    }
   ],
   "source": [
    "# list columns\n",
    "df.columns"
   ]
  },
  {
   "cell_type": "code",
   "execution_count": 8,
   "metadata": {
    "collapsed": false
   },
   "outputs": [
    {
     "data": {
      "text/plain": [
       "ID                     object\n",
       "CaseNumber             object\n",
       "Date                   object\n",
       "Block                  object\n",
       "IUCR                   object\n",
       "PrimaryType            object\n",
       "Description            object\n",
       "LocationDescription    object\n",
       "Arrest                 object\n",
       "Domestic               object\n",
       "Beat                   object\n",
       "District               object\n",
       "Ward                   object\n",
       "CommunityArea          object\n",
       "FBICode                object\n",
       "XCoordinate            object\n",
       "YCoordinate            object\n",
       "Year                   object\n",
       "UpdatedOn              object\n",
       "Latitude               object\n",
       "Longitude              object\n",
       "Location               object\n",
       "dtype: object"
      ]
     },
     "execution_count": 8,
     "metadata": {},
     "output_type": "execute_result"
    }
   ],
   "source": [
    "# infer data types\n",
    "df.dtypes"
   ]
  },
  {
   "cell_type": "code",
   "execution_count": 11,
   "metadata": {
    "collapsed": true
   },
   "outputs": [],
   "source": [
    "def unique_column_values(df):\n",
    "    for column in df.columns:\n",
    "        print(\"{} | {} | {}\".format(\n",
    "            df[column].name,\n",
    "            len(df[column].unique()),\n",
    "            df[column].dtype))"
   ]
  },
  {
   "cell_type": "code",
   "execution_count": 15,
   "metadata": {
    "collapsed": false
   },
   "outputs": [
    {
     "name": "stdout",
     "output_type": "stream",
     "text": [
      "Name | Unique # | Type\n",
      "ID | 130133 | object\n",
      "Case Number | 130105 | object\n",
      "Date | 57788 | object\n",
      "Block | 23684 | object\n",
      "IUCR | 306 | object\n",
      "Primary Type | 32 | object\n",
      "Description | 285 | object\n",
      "Location Description | 120 | object\n",
      "Arrest | 2 | object\n",
      "Domestic | 2 | object\n",
      "Beat | 274 | object\n",
      "District | 23 | object\n",
      "Ward | 51 | object\n",
      "Community Area | 78 | object\n",
      "FBI Code | 26 | object\n",
      "X Coordinate | 40181 | object\n",
      "Y Coordinate | 51396 | object\n",
      "Year | 1 | object\n",
      "Updated On | 337 | object\n",
      "Latitude | 74941 | object\n",
      "Longitude | 74907 | object\n",
      "Location | 75026 | object\n",
      "Wall time: 23.4 s\n"
     ]
    }
   ],
   "source": [
    "%%time\n",
    "# print unique column values counts\n",
    "print(\"Name | Unique # | Type\")\n",
    "unique_column_values(df)"
   ]
  },
  {
   "cell_type": "code",
   "execution_count": 20,
   "metadata": {
    "collapsed": true
   },
   "outputs": [],
   "source": [
    "# reduce data set\n",
    "select_columns = ['Date', 'Block', 'Primary Type','Description', 'Location Description', \n",
    "                  'Arrest', 'Domestic', 'Year', 'Latitude', 'Longitude' ]"
   ]
  },
  {
   "cell_type": "code",
   "execution_count": 28,
   "metadata": {
    "collapsed": false
   },
   "outputs": [
    {
     "name": "stdout",
     "output_type": "stream",
     "text": [
      "130,133 total records\n"
     ]
    },
    {
     "data": {
      "text/html": [
       "<div>\n",
       "<style>\n",
       "    .dataframe thead tr:only-child th {\n",
       "        text-align: right;\n",
       "    }\n",
       "\n",
       "    .dataframe thead th {\n",
       "        text-align: left;\n",
       "    }\n",
       "\n",
       "    .dataframe tbody tr th {\n",
       "        vertical-align: top;\n",
       "    }\n",
       "</style>\n",
       "<table border=\"1\" class=\"dataframe\">\n",
       "  <thead>\n",
       "    <tr style=\"text-align: right;\">\n",
       "      <th></th>\n",
       "      <th>Date</th>\n",
       "      <th>Block</th>\n",
       "      <th>Primary Type</th>\n",
       "      <th>Description</th>\n",
       "      <th>Location Description</th>\n",
       "      <th>Arrest</th>\n",
       "      <th>Domestic</th>\n",
       "      <th>Year</th>\n",
       "      <th>Latitude</th>\n",
       "      <th>Longitude</th>\n",
       "    </tr>\n",
       "  </thead>\n",
       "  <tbody>\n",
       "    <tr>\n",
       "      <th>0</th>\n",
       "      <td>7/4/2017 23:50</td>\n",
       "      <td>005XX W PEARSON ST</td>\n",
       "      <td>BATTERY</td>\n",
       "      <td>SIMPLE</td>\n",
       "      <td>RESIDENTIAL YARD (FRONT/BACK)</td>\n",
       "      <td>FALSE</td>\n",
       "      <td>FALSE</td>\n",
       "      <td>2017</td>\n",
       "      <td>41.89735911</td>\n",
       "      <td>-87.64195001</td>\n",
       "    </tr>\n",
       "    <tr>\n",
       "      <th>1</th>\n",
       "      <td>7/4/2017 23:46</td>\n",
       "      <td>053XX W HIRSCH ST</td>\n",
       "      <td>BATTERY</td>\n",
       "      <td>SIMPLE</td>\n",
       "      <td>SIDEWALK</td>\n",
       "      <td>FALSE</td>\n",
       "      <td>FALSE</td>\n",
       "      <td>2017</td>\n",
       "      <td>41.90583487</td>\n",
       "      <td>-87.75927314</td>\n",
       "    </tr>\n",
       "  </tbody>\n",
       "</table>\n",
       "</div>"
      ],
      "text/plain": [
       "             Date               Block Primary Type Description  \\\n",
       "0  7/4/2017 23:50  005XX W PEARSON ST      BATTERY      SIMPLE   \n",
       "1  7/4/2017 23:46   053XX W HIRSCH ST      BATTERY      SIMPLE   \n",
       "\n",
       "            Location Description Arrest Domestic  Year     Latitude  \\\n",
       "0  RESIDENTIAL YARD (FRONT/BACK)  FALSE    FALSE  2017  41.89735911   \n",
       "1                       SIDEWALK  FALSE    FALSE  2017  41.90583487   \n",
       "\n",
       "      Longitude  \n",
       "0  -87.64195001  \n",
       "1  -87.75927314  "
      ]
     },
     "execution_count": 28,
     "metadata": {},
     "output_type": "execute_result"
    }
   ],
   "source": [
    "df = df[select_columns]\n",
    "print(\"{:,} total records\".format(len(df)))\n",
    "df.head(2)"
   ]
  },
  {
   "cell_type": "code",
   "execution_count": 31,
   "metadata": {
    "collapsed": false
   },
   "outputs": [
    {
     "name": "stdout",
     "output_type": "stream",
     "text": [
      "125,770 total records\n"
     ]
    },
    {
     "data": {
      "text/html": [
       "<div>\n",
       "<style>\n",
       "    .dataframe thead tr:only-child th {\n",
       "        text-align: right;\n",
       "    }\n",
       "\n",
       "    .dataframe thead th {\n",
       "        text-align: left;\n",
       "    }\n",
       "\n",
       "    .dataframe tbody tr th {\n",
       "        vertical-align: top;\n",
       "    }\n",
       "</style>\n",
       "<table border=\"1\" class=\"dataframe\">\n",
       "  <thead>\n",
       "    <tr style=\"text-align: right;\">\n",
       "      <th></th>\n",
       "      <th>Date</th>\n",
       "      <th>Block</th>\n",
       "      <th>Primary Type</th>\n",
       "      <th>Description</th>\n",
       "      <th>Location Description</th>\n",
       "      <th>Arrest</th>\n",
       "      <th>Domestic</th>\n",
       "      <th>Year</th>\n",
       "      <th>Latitude</th>\n",
       "      <th>Longitude</th>\n",
       "    </tr>\n",
       "  </thead>\n",
       "  <tbody>\n",
       "    <tr>\n",
       "      <th>0</th>\n",
       "      <td>7/4/2017 23:50</td>\n",
       "      <td>005XX W PEARSON ST</td>\n",
       "      <td>BATTERY</td>\n",
       "      <td>SIMPLE</td>\n",
       "      <td>RESIDENTIAL YARD (FRONT/BACK)</td>\n",
       "      <td>FALSE</td>\n",
       "      <td>FALSE</td>\n",
       "      <td>2017</td>\n",
       "      <td>41.89735911</td>\n",
       "      <td>-87.64195001</td>\n",
       "    </tr>\n",
       "    <tr>\n",
       "      <th>1</th>\n",
       "      <td>7/4/2017 23:46</td>\n",
       "      <td>053XX W HIRSCH ST</td>\n",
       "      <td>BATTERY</td>\n",
       "      <td>SIMPLE</td>\n",
       "      <td>SIDEWALK</td>\n",
       "      <td>FALSE</td>\n",
       "      <td>FALSE</td>\n",
       "      <td>2017</td>\n",
       "      <td>41.90583487</td>\n",
       "      <td>-87.75927314</td>\n",
       "    </tr>\n",
       "  </tbody>\n",
       "</table>\n",
       "</div>"
      ],
      "text/plain": [
       "             Date               Block Primary Type Description  \\\n",
       "0  7/4/2017 23:50  005XX W PEARSON ST      BATTERY      SIMPLE   \n",
       "1  7/4/2017 23:46   053XX W HIRSCH ST      BATTERY      SIMPLE   \n",
       "\n",
       "            Location Description Arrest Domestic  Year     Latitude  \\\n",
       "0  RESIDENTIAL YARD (FRONT/BACK)  FALSE    FALSE  2017  41.89735911   \n",
       "1                       SIDEWALK  FALSE    FALSE  2017  41.90583487   \n",
       "\n",
       "      Longitude  \n",
       "0  -87.64195001  \n",
       "1  -87.75927314  "
      ]
     },
     "execution_count": 31,
     "metadata": {},
     "output_type": "execute_result"
    }
   ],
   "source": [
    "# drop duplicates\n",
    "df = df.drop_duplicates().dropna()\n",
    "print(\"{:,} total records\".format(len(df)))\n",
    "df.head(2)"
   ]
  },
  {
   "cell_type": "code",
   "execution_count": 32,
   "metadata": {
    "collapsed": false
   },
   "outputs": [
    {
     "data": {
      "text/plain": [
       "dd.Scalar<series-..., dtype=int32>"
      ]
     },
     "execution_count": 32,
     "metadata": {},
     "output_type": "execute_result"
    }
   ],
   "source": [
    "# count arrests\n",
    "arrests_df = df[df.Arrest=='TRUE']\n",
    "arrests_df.Arrest.count()"
   ]
  },
  {
   "cell_type": "code",
   "execution_count": 35,
   "metadata": {
    "collapsed": false
   },
   "outputs": [
    {
     "name": "stdout",
     "output_type": "stream",
     "text": [
      "24,832 arrests\n"
     ]
    },
    {
     "data": {
      "text/html": [
       "<div>\n",
       "<style>\n",
       "    .dataframe thead tr:only-child th {\n",
       "        text-align: right;\n",
       "    }\n",
       "\n",
       "    .dataframe thead th {\n",
       "        text-align: left;\n",
       "    }\n",
       "\n",
       "    .dataframe tbody tr th {\n",
       "        vertical-align: top;\n",
       "    }\n",
       "</style>\n",
       "<table border=\"1\" class=\"dataframe\">\n",
       "  <thead>\n",
       "    <tr style=\"text-align: right;\">\n",
       "      <th></th>\n",
       "      <th>Date</th>\n",
       "      <th>Block</th>\n",
       "      <th>Primary Type</th>\n",
       "      <th>Description</th>\n",
       "      <th>Location Description</th>\n",
       "      <th>Arrest</th>\n",
       "      <th>Domestic</th>\n",
       "      <th>Year</th>\n",
       "      <th>Latitude</th>\n",
       "      <th>Longitude</th>\n",
       "    </tr>\n",
       "  </thead>\n",
       "  <tbody>\n",
       "    <tr>\n",
       "      <th>7</th>\n",
       "      <td>7/4/2017 23:43</td>\n",
       "      <td>005XX S PULASKI RD</td>\n",
       "      <td>CRIMINAL TRESPASS</td>\n",
       "      <td>TO STATE SUP LAND</td>\n",
       "      <td>CTA STATION</td>\n",
       "      <td>TRUE</td>\n",
       "      <td>FALSE</td>\n",
       "      <td>2017</td>\n",
       "      <td>41.87390705</td>\n",
       "      <td>-87.72543009</td>\n",
       "    </tr>\n",
       "    <tr>\n",
       "      <th>8</th>\n",
       "      <td>7/4/2017 23:42</td>\n",
       "      <td>049XX W RACE AVE</td>\n",
       "      <td>WEAPONS VIOLATION</td>\n",
       "      <td>UNLAWFUL POSS OF HANDGUN</td>\n",
       "      <td>SIDEWALK</td>\n",
       "      <td>TRUE</td>\n",
       "      <td>FALSE</td>\n",
       "      <td>2017</td>\n",
       "      <td>41.89044778</td>\n",
       "      <td>-87.74891071</td>\n",
       "    </tr>\n",
       "  </tbody>\n",
       "</table>\n",
       "</div>"
      ],
      "text/plain": [
       "             Date               Block       Primary Type  \\\n",
       "7  7/4/2017 23:43  005XX S PULASKI RD  CRIMINAL TRESPASS   \n",
       "8  7/4/2017 23:42    049XX W RACE AVE  WEAPONS VIOLATION   \n",
       "\n",
       "                Description Location Description Arrest Domestic  Year  \\\n",
       "7         TO STATE SUP LAND          CTA STATION   TRUE    FALSE  2017   \n",
       "8  UNLAWFUL POSS OF HANDGUN             SIDEWALK   TRUE    FALSE  2017   \n",
       "\n",
       "      Latitude     Longitude  \n",
       "7  41.87390705  -87.72543009  \n",
       "8  41.89044778  -87.74891071  "
      ]
     },
     "execution_count": 35,
     "metadata": {},
     "output_type": "execute_result"
    }
   ],
   "source": [
    "#arrests_df.compute()\n",
    "print(\"{:,} arrests\".format(len(arrests_df)))\n",
    "arrests_df.head(2)"
   ]
  },
  {
   "cell_type": "code",
   "execution_count": 43,
   "metadata": {
    "collapsed": false
   },
   "outputs": [
    {
     "name": "stdout",
     "output_type": "stream",
     "text": [
      "20,949 domestic violance reports\n"
     ]
    },
    {
     "data": {
      "text/html": [
       "<div>\n",
       "<style>\n",
       "    .dataframe thead tr:only-child th {\n",
       "        text-align: right;\n",
       "    }\n",
       "\n",
       "    .dataframe thead th {\n",
       "        text-align: left;\n",
       "    }\n",
       "\n",
       "    .dataframe tbody tr th {\n",
       "        vertical-align: top;\n",
       "    }\n",
       "</style>\n",
       "<table border=\"1\" class=\"dataframe\">\n",
       "  <thead>\n",
       "    <tr style=\"text-align: right;\">\n",
       "      <th></th>\n",
       "      <th>Date</th>\n",
       "      <th>Block</th>\n",
       "      <th>Primary Type</th>\n",
       "      <th>Description</th>\n",
       "      <th>Location Description</th>\n",
       "      <th>Arrest</th>\n",
       "      <th>Domestic</th>\n",
       "      <th>Year</th>\n",
       "      <th>Latitude</th>\n",
       "      <th>Longitude</th>\n",
       "    </tr>\n",
       "  </thead>\n",
       "  <tbody>\n",
       "    <tr>\n",
       "      <th>4</th>\n",
       "      <td>7/4/2017 23:45</td>\n",
       "      <td>027XX N HAMPDEN CT</td>\n",
       "      <td>BATTERY</td>\n",
       "      <td>DOMESTIC BATTERY SIMPLE</td>\n",
       "      <td>APARTMENT</td>\n",
       "      <td>FALSE</td>\n",
       "      <td>TRUE</td>\n",
       "      <td>2017</td>\n",
       "      <td>41.93137342</td>\n",
       "      <td>-87.64188416</td>\n",
       "    </tr>\n",
       "    <tr>\n",
       "      <th>9</th>\n",
       "      <td>7/4/2017 23:40</td>\n",
       "      <td>032XX N OPAL AVE</td>\n",
       "      <td>BATTERY</td>\n",
       "      <td>DOMESTIC BATTERY SIMPLE</td>\n",
       "      <td>STREET</td>\n",
       "      <td>FALSE</td>\n",
       "      <td>TRUE</td>\n",
       "      <td>2017</td>\n",
       "      <td>41.93842561</td>\n",
       "      <td>-87.82265066</td>\n",
       "    </tr>\n",
       "    <tr>\n",
       "      <th>10</th>\n",
       "      <td>7/4/2017 23:39</td>\n",
       "      <td>079XX S KINGSTON AVE</td>\n",
       "      <td>BATTERY</td>\n",
       "      <td>DOMESTIC BATTERY SIMPLE</td>\n",
       "      <td>APARTMENT</td>\n",
       "      <td>TRUE</td>\n",
       "      <td>TRUE</td>\n",
       "      <td>2017</td>\n",
       "      <td>41.75106476</td>\n",
       "      <td>-87.56258312</td>\n",
       "    </tr>\n",
       "    <tr>\n",
       "      <th>17</th>\n",
       "      <td>7/4/2017 23:31</td>\n",
       "      <td>070XX S PEORIA ST</td>\n",
       "      <td>THEFT</td>\n",
       "      <td>OVER $500</td>\n",
       "      <td>SIDEWALK</td>\n",
       "      <td>FALSE</td>\n",
       "      <td>TRUE</td>\n",
       "      <td>2017</td>\n",
       "      <td>41.7662868</td>\n",
       "      <td>-87.6468744</td>\n",
       "    </tr>\n",
       "    <tr>\n",
       "      <th>18</th>\n",
       "      <td>7/4/2017 23:30</td>\n",
       "      <td>081XX S MARSHFIELD AVE</td>\n",
       "      <td>BATTERY</td>\n",
       "      <td>AGGRAVATED DOMESTIC BATTERY: KNIFE/CUTTING INST</td>\n",
       "      <td>APARTMENT</td>\n",
       "      <td>FALSE</td>\n",
       "      <td>TRUE</td>\n",
       "      <td>2017</td>\n",
       "      <td>41.74589103</td>\n",
       "      <td>-87.66453806</td>\n",
       "    </tr>\n",
       "  </tbody>\n",
       "</table>\n",
       "</div>"
      ],
      "text/plain": [
       "              Date                   Block Primary Type  \\\n",
       "4   7/4/2017 23:45      027XX N HAMPDEN CT      BATTERY   \n",
       "9   7/4/2017 23:40        032XX N OPAL AVE      BATTERY   \n",
       "10  7/4/2017 23:39    079XX S KINGSTON AVE      BATTERY   \n",
       "17  7/4/2017 23:31       070XX S PEORIA ST        THEFT   \n",
       "18  7/4/2017 23:30  081XX S MARSHFIELD AVE      BATTERY   \n",
       "\n",
       "                                        Description Location Description  \\\n",
       "4                           DOMESTIC BATTERY SIMPLE            APARTMENT   \n",
       "9                           DOMESTIC BATTERY SIMPLE               STREET   \n",
       "10                          DOMESTIC BATTERY SIMPLE            APARTMENT   \n",
       "17                                        OVER $500             SIDEWALK   \n",
       "18  AGGRAVATED DOMESTIC BATTERY: KNIFE/CUTTING INST            APARTMENT   \n",
       "\n",
       "   Arrest Domestic  Year     Latitude     Longitude  \n",
       "4   FALSE     TRUE  2017  41.93137342  -87.64188416  \n",
       "9   FALSE     TRUE  2017  41.93842561  -87.82265066  \n",
       "10   TRUE     TRUE  2017  41.75106476  -87.56258312  \n",
       "17  FALSE     TRUE  2017   41.7662868   -87.6468744  \n",
       "18  FALSE     TRUE  2017  41.74589103  -87.66453806  "
      ]
     },
     "execution_count": 43,
     "metadata": {},
     "output_type": "execute_result"
    }
   ],
   "source": [
    "# domestic violance\n",
    "domestic_df = df[df.Domestic=='TRUE']\n",
    "print(\"{:,} domestic violance reports\".format(len(domestic_df)))\n",
    "domestic_df.head()"
   ]
  },
  {
   "cell_type": "code",
   "execution_count": null,
   "metadata": {
    "collapsed": true
   },
   "outputs": [],
   "source": []
  }
 ],
 "metadata": {
  "anaconda-cloud": {},
  "kernelspec": {
   "display_name": "Python [conda root]",
   "language": "python",
   "name": "conda-root-py"
  },
  "language_info": {
   "codemirror_mode": {
    "name": "ipython",
    "version": 3
   },
   "file_extension": ".py",
   "mimetype": "text/x-python",
   "name": "python",
   "nbconvert_exporter": "python",
   "pygments_lexer": "ipython3",
   "version": "3.5.2"
  }
 },
 "nbformat": 4,
 "nbformat_minor": 1
}
