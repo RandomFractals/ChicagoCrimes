{
 "cells": [
  {
   "cell_type": "code",
   "execution_count": 1,
   "metadata": {
    "collapsed": true
   },
   "outputs": [],
   "source": [
    "import dask.dataframe as dd\n",
    "import numpy as np \n",
    "import pandas as pd\n",
    "import matplotlib.pyplot as plt\n",
    "import seaborn as sns"
   ]
  },
  {
   "cell_type": "code",
   "execution_count": 2,
   "metadata": {
    "collapsed": false
   },
   "outputs": [],
   "source": [
    "%matplotlib inline\n",
    "#%config InlineBackend.figure_format = 'svg'\n",
    "\n",
    "# set neat seaborn whitegrid styles for matplotlib charts\n",
    "plt.style.use('seaborn')\n",
    "sns.set_style('whitegrid')"
   ]
  },
  {
   "cell_type": "code",
   "execution_count": 3,
   "metadata": {
    "collapsed": false
   },
   "outputs": [
    {
     "name": "stdout",
     "output_type": "stream",
     "text": [
      "Loading data file: ../data/crimes-2001-to-present.snappy.parq\n",
      "Crime data loaded into memory.\n",
      "Wall time: 13.1 s\n"
     ]
    }
   ],
   "source": [
    "%%time\n",
    "# set data file path\n",
    "data_file_name = '../data/crimes-2001-to-present.snappy.parq'\n",
    "print('Loading data file: {}'.format(data_file_name))\n",
    "\n",
    "# load crimes parquet data into dask df\n",
    "crimes = dd.read_parquet(data_file_name, index='Date')\n",
    "\n",
    "# load all data into memory\n",
    "crimes = crimes.persist()\n",
    "print('Crime data loaded into memory.')"
   ]
  },
  {
   "cell_type": "code",
   "execution_count": 4,
   "metadata": {
    "collapsed": false
   },
   "outputs": [
    {
     "name": "stdout",
     "output_type": "stream",
     "text": [
      "Chicago Crime data stats:\n",
      "---------------------------------------\n",
      "6,343,952 total records in 1 partitions\n",
      "DataFrame size: 50,751,616\n",
      "Wall time: 4.88 ms\n"
     ]
    }
   ],
   "source": [
    "%%time\n",
    "# log records count and load data partitions\n",
    "print('Chicago Crime data stats:')\n",
    "print('---------------------------------------')\n",
    "print('{:,} total records in {} partitions'.format(len(crimes), crimes.npartitions))\n",
    "print('DataFrame size: {:,}'.format(crimes.size.compute()))"
   ]
  },
  {
   "cell_type": "code",
   "execution_count": 5,
   "metadata": {
    "collapsed": false
   },
   "outputs": [
    {
     "data": {
      "text/html": [
       "<div><strong>Dask DataFrame Structure:</strong></div>\n",
       "<div>\n",
       "<style>\n",
       "    .dataframe thead tr:only-child th {\n",
       "        text-align: right;\n",
       "    }\n",
       "\n",
       "    .dataframe thead th {\n",
       "        text-align: left;\n",
       "    }\n",
       "\n",
       "    .dataframe tbody tr th {\n",
       "        vertical-align: top;\n",
       "    }\n",
       "</style>\n",
       "<table border=\"1\" class=\"dataframe\">\n",
       "  <thead>\n",
       "    <tr style=\"text-align: right;\">\n",
       "      <th></th>\n",
       "      <th>Block</th>\n",
       "      <th>PrimaryType</th>\n",
       "      <th>Description</th>\n",
       "      <th>LocationDescription</th>\n",
       "      <th>Arrest</th>\n",
       "      <th>Domestic</th>\n",
       "      <th>Latitude</th>\n",
       "      <th>Longitude</th>\n",
       "    </tr>\n",
       "    <tr>\n",
       "      <th>npartitions=1</th>\n",
       "      <th></th>\n",
       "      <th></th>\n",
       "      <th></th>\n",
       "      <th></th>\n",
       "      <th></th>\n",
       "      <th></th>\n",
       "      <th></th>\n",
       "      <th></th>\n",
       "    </tr>\n",
       "  </thead>\n",
       "  <tbody>\n",
       "    <tr>\n",
       "      <th>2001-01-01 00:00:00</th>\n",
       "      <td>object</td>\n",
       "      <td>object</td>\n",
       "      <td>object</td>\n",
       "      <td>object</td>\n",
       "      <td>bool</td>\n",
       "      <td>bool</td>\n",
       "      <td>float64</td>\n",
       "      <td>float64</td>\n",
       "    </tr>\n",
       "    <tr>\n",
       "      <th>2017-06-15 23:59:00</th>\n",
       "      <td>...</td>\n",
       "      <td>...</td>\n",
       "      <td>...</td>\n",
       "      <td>...</td>\n",
       "      <td>...</td>\n",
       "      <td>...</td>\n",
       "      <td>...</td>\n",
       "      <td>...</td>\n",
       "    </tr>\n",
       "  </tbody>\n",
       "</table>\n",
       "</div>\n",
       "<div>Dask Name: read-parquet, 1 tasks</div>"
      ],
      "text/plain": [
       "Dask DataFrame Structure:\n",
       "                      Block PrimaryType Description LocationDescription Arrest Domestic Latitude Longitude\n",
       "npartitions=1                                                                                             \n",
       "2001-01-01 00:00:00  object      object      object              object   bool     bool  float64   float64\n",
       "2017-06-15 23:59:00     ...         ...         ...                 ...    ...      ...      ...       ...\n",
       "Dask Name: read-parquet, 1 tasks"
      ]
     },
     "execution_count": 5,
     "metadata": {},
     "output_type": "execute_result"
    }
   ],
   "source": [
    "# check data frame structure\n",
    "crimes"
   ]
  },
  {
   "cell_type": "code",
   "execution_count": 6,
   "metadata": {
    "collapsed": false
   },
   "outputs": [
    {
     "name": "stdout",
     "output_type": "stream",
     "text": [
      "Wall time: 1.95 ms\n"
     ]
    },
    {
     "data": {
      "text/html": [
       "<div>\n",
       "<style>\n",
       "    .dataframe thead tr:only-child th {\n",
       "        text-align: right;\n",
       "    }\n",
       "\n",
       "    .dataframe thead th {\n",
       "        text-align: left;\n",
       "    }\n",
       "\n",
       "    .dataframe tbody tr th {\n",
       "        vertical-align: top;\n",
       "    }\n",
       "</style>\n",
       "<table border=\"1\" class=\"dataframe\">\n",
       "  <thead>\n",
       "    <tr style=\"text-align: right;\">\n",
       "      <th></th>\n",
       "      <th>Block</th>\n",
       "      <th>PrimaryType</th>\n",
       "      <th>Description</th>\n",
       "      <th>LocationDescription</th>\n",
       "      <th>Arrest</th>\n",
       "      <th>Domestic</th>\n",
       "      <th>Latitude</th>\n",
       "      <th>Longitude</th>\n",
       "    </tr>\n",
       "    <tr>\n",
       "      <th>Date</th>\n",
       "      <th></th>\n",
       "      <th></th>\n",
       "      <th></th>\n",
       "      <th></th>\n",
       "      <th></th>\n",
       "      <th></th>\n",
       "      <th></th>\n",
       "      <th></th>\n",
       "    </tr>\n",
       "  </thead>\n",
       "  <tbody>\n",
       "    <tr>\n",
       "      <th>2001-09-15 02:00:00</th>\n",
       "      <td>013XX W POLK ST</td>\n",
       "      <td>BATTERY</td>\n",
       "      <td>SIMPLE</td>\n",
       "      <td>STREET</td>\n",
       "      <td>False</td>\n",
       "      <td>False</td>\n",
       "      <td>NaN</td>\n",
       "      <td>NaN</td>\n",
       "    </tr>\n",
       "    <tr>\n",
       "      <th>2001-11-02 18:30:00</th>\n",
       "      <td>002XX W CONGRESS PW</td>\n",
       "      <td>THEFT</td>\n",
       "      <td>OVER $500</td>\n",
       "      <td>OTHER</td>\n",
       "      <td>False</td>\n",
       "      <td>False</td>\n",
       "      <td>NaN</td>\n",
       "      <td>NaN</td>\n",
       "    </tr>\n",
       "    <tr>\n",
       "      <th>2001-12-15 02:00:00</th>\n",
       "      <td>011XX N STATE ST</td>\n",
       "      <td>BATTERY</td>\n",
       "      <td>SIMPLE</td>\n",
       "      <td>STREET</td>\n",
       "      <td>False</td>\n",
       "      <td>False</td>\n",
       "      <td>NaN</td>\n",
       "      <td>NaN</td>\n",
       "    </tr>\n",
       "    <tr>\n",
       "      <th>2002-09-26 13:30:00</th>\n",
       "      <td>034XX W 79TH ST</td>\n",
       "      <td>BATTERY</td>\n",
       "      <td>SIMPLE</td>\n",
       "      <td>STREET</td>\n",
       "      <td>False</td>\n",
       "      <td>False</td>\n",
       "      <td>NaN</td>\n",
       "      <td>NaN</td>\n",
       "    </tr>\n",
       "    <tr>\n",
       "      <th>2002-10-01 19:00:00</th>\n",
       "      <td>022XX W NORTH AVE</td>\n",
       "      <td>MOTOR VEHICLE THEFT</td>\n",
       "      <td>AUTOMOBILE</td>\n",
       "      <td>STREET</td>\n",
       "      <td>False</td>\n",
       "      <td>False</td>\n",
       "      <td>NaN</td>\n",
       "      <td>NaN</td>\n",
       "    </tr>\n",
       "  </tbody>\n",
       "</table>\n",
       "</div>"
      ],
      "text/plain": [
       "                                   Block          PrimaryType Description  \\\n",
       "Date                                                                        \n",
       "2001-09-15 02:00:00      013XX W POLK ST              BATTERY      SIMPLE   \n",
       "2001-11-02 18:30:00  002XX W CONGRESS PW                THEFT   OVER $500   \n",
       "2001-12-15 02:00:00     011XX N STATE ST              BATTERY      SIMPLE   \n",
       "2002-09-26 13:30:00      034XX W 79TH ST              BATTERY      SIMPLE   \n",
       "2002-10-01 19:00:00    022XX W NORTH AVE  MOTOR VEHICLE THEFT  AUTOMOBILE   \n",
       "\n",
       "                    LocationDescription  Arrest  Domestic  Latitude  Longitude  \n",
       "Date                                                                            \n",
       "2001-09-15 02:00:00              STREET   False     False       NaN        NaN  \n",
       "2001-11-02 18:30:00               OTHER   False     False       NaN        NaN  \n",
       "2001-12-15 02:00:00              STREET   False     False       NaN        NaN  \n",
       "2002-09-26 13:30:00              STREET   False     False       NaN        NaN  \n",
       "2002-10-01 19:00:00              STREET   False     False       NaN        NaN  "
      ]
     },
     "execution_count": 6,
     "metadata": {},
     "output_type": "execute_result"
    }
   ],
   "source": [
    "%%time\n",
    "# preview crimes data with Date index\n",
    "crimes.head(5)"
   ]
  },
  {
   "cell_type": "code",
   "execution_count": 7,
   "metadata": {
    "collapsed": false
   },
   "outputs": [
    {
     "name": "stdout",
     "output_type": "stream",
     "text": [
      "                                     Arrest  Domestic    Total\n",
      "PrimaryType                                                   \n",
      "THEFT                              159868.0   30461.0  1322117\n",
      "BATTERY                            266032.0  488841.0  1160354\n",
      "CRIMINAL DAMAGE                     51857.0   54703.0   728750\n",
      "NARCOTICS                          680928.0     243.0   685180\n",
      "OTHER OFFENSE                       69425.0  114427.0   393897\n",
      "ASSAULT                             91871.0   84316.0   389711\n",
      "BURGLARY                            21240.0    2427.0   369599\n",
      "MOTOR VEHICLE THEFT                 27588.0    1112.0   298838\n",
      "ROBBERY                             23472.0    3854.0   240230\n",
      "DECEPTIVE PRACTICE                  42505.0    2737.0   232990\n",
      "CRIMINAL TRESPASS                  136053.0    5760.0   183442\n",
      "PROSTITUTION                        65932.0       6.0    66192\n",
      "WEAPONS VIOLATION                   50773.0     223.0    63144\n",
      "PUBLIC PEACE VIOLATION              29407.0    2136.0    45773\n",
      "OFFENSE INVOLVING CHILDREN           9037.0   21666.0    41631\n",
      "CRIM SEXUAL ASSAULT                  3979.0    3214.0    24480\n",
      "SEX OFFENSE                          7373.0    1815.0    23286\n",
      "GAMBLING                            13998.0       3.0    14101\n",
      "LIQUOR LAW VIOLATION                13571.0       8.0    13697\n",
      "INTERFERENCE WITH PUBLIC OFFICER    12215.0      67.0    13376\n",
      "ARSON                                1397.0     553.0    10592\n",
      "HOMICIDE                             3959.0     550.0     8342\n",
      "KIDNAPPING                            723.0    1761.0     6407\n",
      "INTIMIDATION                          670.0     479.0     3700\n",
      "STALKING                              508.0    1317.0     3105\n",
      "OBSCENITY                             367.0      57.0      443\n",
      "PUBLIC INDECENCY                      145.0       1.0      146\n",
      "OTHER NARCOTIC VIOLATION               81.0       0.0      113\n",
      "CONCEALED CARRY LICENSE VIOLATION      98.0       0.0      111\n",
      "NON-CRIMINAL                            8.0       1.0      104\n",
      "NON - CRIMINAL                          6.0       0.0       38\n",
      "HUMAN TRAFFICKING                       4.0       3.0       33\n",
      "RITUALISM                               3.0       5.0       23\n",
      "NON-CRIMINAL (SUBJECT SPECIFIED)        2.0       5.0        6\n",
      "DOMESTIC VIOLENCE                       1.0       1.0        1\n",
      "Wall time: 1.69 s\n"
     ]
    }
   ],
   "source": [
    "%%time\n",
    "\n",
    "# get crime types\n",
    "crime_types = crimes[['PrimaryType']]\n",
    "\n",
    "# get crime counts by primary type\n",
    "crime_type_total = crime_types.groupby('PrimaryType').size().compute()\n",
    "\n",
    "# get arrests and domestic counts for each primary crime type\n",
    "crime_type_counts = crimes[['PrimaryType', 'Arrest', 'Domestic']]\\\n",
    ".groupby('PrimaryType').sum().compute()\n",
    "\n",
    "# add crime type totals column\n",
    "crime_type_counts['Total'] = crime_type_total\n",
    "\n",
    "# print all crime stats (arrests, domestic + total)\n",
    "print(crime_type_counts.sort_values(by='Total', ascending=False))"
   ]
  },
  {
   "cell_type": "code",
   "execution_count": 8,
   "metadata": {
    "collapsed": false
   },
   "outputs": [
    {
     "data": {
      "text/plain": [
       "<matplotlib.figure.Figure at 0x9661f780>"
      ]
     },
     "metadata": {},
     "output_type": "display_data"
    },
    {
     "data": {
      "image/png": "[encoded data removed]",
      "text/plain": [
       "<matplotlib.figure.Figure at 0xcd4a048>"
      ]
     },
     "metadata": {},
     "output_type": "display_data"
    }
   ],
   "source": [
    "# plot crimes by primary type counts\n",
    "plt.figure(figsize=(8,10))\n",
    "crime_type_counts.sort_values(by='Total', ascending=True).plot(kind='barh')\n",
    "\n",
    "plt.title('All Chicago Crime reports by Type')\n",
    "plt.ylabel('Crime Type')\n",
    "plt.xlabel('Number of Crime reports')\n",
    "plt.tight_layout()\n",
    "plt.show()"
   ]
  },
  {
   "cell_type": "code",
   "execution_count": null,
   "metadata": {
    "collapsed": true
   },
   "outputs": [],
   "source": []
  },
  {
   "cell_type": "code",
   "execution_count": null,
   "metadata": {
    "collapsed": true
   },
   "outputs": [],
   "source": []
  }
 ],
 "metadata": {
  "anaconda-cloud": {},
  "kernelspec": {
   "display_name": "Python [conda root]",
   "language": "python",
   "name": "conda-root-py"
  },
  "language_info": {
   "codemirror_mode": {
    "name": "ipython",
    "version": 3
   },
   "file_extension": ".py",
   "mimetype": "text/x-python",
   "name": "python",
   "nbconvert_exporter": "python",
   "pygments_lexer": "ipython3",
   "version": "3.5.2"
  }
 },
 "nbformat": 4,
 "nbformat_minor": 1
}
