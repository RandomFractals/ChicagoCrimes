{
 "cells": [
  {
   "cell_type": "code",
   "execution_count": 1,
   "metadata": {},
   "outputs": [],
   "source": [
    "import codecs, json\n",
    "import dask.dataframe as dd\n",
    "import numpy as np\n",
    "import pandas as pd\n",
    "import pyarrow as pa\n",
    "import pyarrow.parquet as pq"
   ]
  },
  {
   "cell_type": "code",
   "execution_count": 2,
   "metadata": {},
   "outputs": [],
   "source": [
    "# pyarrow parquet write test\n",
    "df = pd.DataFrame({'one': [-1, np.nan, 2.5],\n",
    "              'two': ['foo', 'bar', 'baz'],\n",
    "              'three': [True, False, True]})\n",
    "table = pa.Table.from_pandas(df)\n",
    "pq.write_table(table, '../raw_data/example.parquet')"
   ]
  },
  {
   "cell_type": "code",
   "execution_count": 3,
   "metadata": {},
   "outputs": [
    {
     "data": {
      "text/html": [
       "<div>\n",
       "<style>\n",
       "    .dataframe thead tr:only-child th {\n",
       "        text-align: right;\n",
       "    }\n",
       "\n",
       "    .dataframe thead th {\n",
       "        text-align: left;\n",
       "    }\n",
       "\n",
       "    .dataframe tbody tr th {\n",
       "        vertical-align: top;\n",
       "    }\n",
       "</style>\n",
       "<table border=\"1\" class=\"dataframe\">\n",
       "  <thead>\n",
       "    <tr style=\"text-align: right;\">\n",
       "      <th></th>\n",
       "      <th>one</th>\n",
       "      <th>three</th>\n",
       "      <th>two</th>\n",
       "    </tr>\n",
       "  </thead>\n",
       "  <tbody>\n",
       "    <tr>\n",
       "      <th>0</th>\n",
       "      <td>-1.0</td>\n",
       "      <td>True</td>\n",
       "      <td>foo</td>\n",
       "    </tr>\n",
       "    <tr>\n",
       "      <th>1</th>\n",
       "      <td>NaN</td>\n",
       "      <td>False</td>\n",
       "      <td>bar</td>\n",
       "    </tr>\n",
       "    <tr>\n",
       "      <th>2</th>\n",
       "      <td>2.5</td>\n",
       "      <td>True</td>\n",
       "      <td>baz</td>\n",
       "    </tr>\n",
       "  </tbody>\n",
       "</table>\n",
       "</div>"
      ],
      "text/plain": [
       "   one  three  two\n",
       "0 -1.0   True  foo\n",
       "1  NaN  False  bar\n",
       "2  2.5   True  baz"
      ]
     },
     "execution_count": 3,
     "metadata": {},
     "output_type": "execute_result"
    }
   ],
   "source": [
    "# pyarrow parquet read test\n",
    "table2 = pq.read_table('../raw_data/example.parquet')\n",
    "df2 = table2.to_pandas()\n",
    "df2"
   ]
  },
  {
   "cell_type": "code",
   "execution_count": 4,
   "metadata": {},
   "outputs": [
    {
     "name": "stdout",
     "output_type": "stream",
     "text": [
      "Loading crime data from: ../data/crimes-2017.snappy.parq\n",
      "Crime data loaded into memory.\n",
      "Crime data stats:\n",
      "---------------------------------------\n",
      "172,030 total records in 1 partitions\n",
      "DataFrame size: 2,408,420\n",
      "Wall time: 4.73 s\n"
     ]
    }
   ],
   "source": [
    "%%time\n",
    "# set data file path\n",
    "parquet_data_folder = '../data/crimes-2017.snappy.parq'\n",
    "print('Loading crime data from: {}'.format(parquet_data_folder))\n",
    "\n",
    "# load crimes parquet data into dask df\n",
    "crimes = dd.read_parquet(parquet_data_folder, index='Date')\n",
    "\n",
    "# load all data into memory\n",
    "crimes = crimes.persist()\n",
    "print('Crime data loaded into memory.')\n",
    "\n",
    "# log records count and data frame stats\n",
    "print('Crime data stats:')\n",
    "print('---------------------------------------')\n",
    "print('{:,} total records in {} partitions'.format(len(crimes), crimes.npartitions))\n",
    "print('DataFrame size: {:,}'.format(crimes.size.compute()))"
   ]
  },
  {
   "cell_type": "code",
   "execution_count": 5,
   "metadata": {},
   "outputs": [
    {
     "name": "stdout",
     "output_type": "stream",
     "text": [
      "Chicago homicides data preview:\n",
      "--------------------------------------------------------------------------\n",
      "                    PrimaryType                 Block          Description  \\\n",
      "Date                                                                         \n",
      "2017-01-01 05:19:00    HOMICIDE      046XX N BROADWAY  FIRST DEGREE MURDER   \n",
      "2017-01-01 06:18:00    HOMICIDE     046XX W MONROE ST  FIRST DEGREE MURDER   \n",
      "2017-01-02 09:14:00    HOMICIDE    025XX N LOWELL AVE  FIRST DEGREE MURDER   \n",
      "2017-01-03 12:20:00    HOMICIDE   034XX W FULTON BLVD  FIRST DEGREE MURDER   \n",
      "2017-01-03 23:52:00    HOMICIDE  032XX W LEXINGTON ST  FIRST DEGREE MURDER   \n",
      "\n",
      "                    LocationDescription CommunityArea  Arrest  Domestic  \\\n",
      "Date                                                                      \n",
      "2017-01-01 05:19:00              TAVERN           3.0    True     False   \n",
      "2017-01-01 06:18:00              STREET          25.0   False     False   \n",
      "2017-01-02 09:14:00              STREET          20.0    True     False   \n",
      "2017-01-03 12:20:00              STREET          27.0   False     False   \n",
      "2017-01-03 23:52:00               ALLEY          27.0   False     False   \n",
      "\n",
      "                      Latitude  Longitude  \n",
      "Date                                       \n",
      "2017-01-01 05:19:00  41.966082 -87.657908  \n",
      "2017-01-01 06:18:00  41.879291 -87.741599  \n",
      "2017-01-02 09:14:00  41.926841 -87.735416  \n",
      "2017-01-03 12:20:00  41.886341 -87.712000  \n",
      "2017-01-03 23:52:00  41.871868 -87.706610  \n",
      "...\n",
      "Total Homicides: 441\n"
     ]
    }
   ],
   "source": [
    "# get crime geo data for mapping homicides\n",
    "crime_geo = crimes[['PrimaryType',\n",
    "                    'Block',\n",
    "                    'Description',\n",
    "                    'LocationDescription',\n",
    "                    'CommunityArea',\n",
    "                    'Arrest',\n",
    "                    'Domestic',\n",
    "                    'Latitude', \n",
    "                    'Longitude']].dropna()\n",
    "\n",
    "# get homicides\n",
    "homicides = crime_geo[(crime_geo['PrimaryType']=='HOMICIDE')].compute()\n",
    "print('Chicago homicides data preview:')\n",
    "print('--------------------------------------------------------------------------')\n",
    "print(homicides.head())\n",
    "print('...')\n",
    "print('Total Homicides:', len(homicides))"
   ]
  },
  {
   "cell_type": "code",
   "execution_count": 6,
   "metadata": {},
   "outputs": [
    {
     "name": "stdout",
     "output_type": "stream",
     "text": [
      "[[41.966081546999995, -87.657908498], [41.879290642, -87.74159851299999], [41.926840967, -87.735415625], [41.886340706999995, -87.711999596], [41.871868444, -87.706610311]]\n"
     ]
    }
   ],
   "source": [
    "# get homicides coordinates for heatmap data\n",
    "homicides_geo = homicides[['Latitude', 'Longitude']].values.tolist() # to_records()\n",
    "print(homicides_geo[0:5])"
   ]
  },
  {
   "cell_type": "code",
   "execution_count": 7,
   "metadata": {},
   "outputs": [],
   "source": [
    "#json.dumps(homicides_geo)\n",
    "def to_json_file(file_path, data):\n",
    "    json.dump(data, \n",
    "          codecs.open(file_path, 'w', encoding='utf-8'), \n",
    "          separators=(',', ':'), sort_keys=False, indent=0)"
   ]
  },
  {
   "cell_type": "code",
   "execution_count": 8,
   "metadata": {},
   "outputs": [],
   "source": [
    "# create homicides json data file for the map\n",
    "to_json_file('../data/chicago-homicides-2017.json', homicides_geo)"
   ]
  },
  {
   "cell_type": "code",
   "execution_count": 9,
   "metadata": {},
   "outputs": [
    {
     "name": "stdout",
     "output_type": "stream",
     "text": [
      "All Crimes: 165567\n"
     ]
    }
   ],
   "source": [
    "print('All Crimes:', len(crime_geo))"
   ]
  },
  {
   "cell_type": "code",
   "execution_count": 10,
   "metadata": {},
   "outputs": [
    {
     "name": "stdout",
     "output_type": "stream",
     "text": [
      "Wall time: 4.38 s\n"
     ]
    }
   ],
   "source": [
    "%%time\n",
    "# output all crimes coordinates to see how large it gets in raw json\n",
    "to_json_file('../data/chicago-crimes-2017.json', \n",
    "             crime_geo[['Latitude', 'Longitude']].compute().values.tolist())"
   ]
  },
  {
   "cell_type": "code",
   "execution_count": 12,
   "metadata": {},
   "outputs": [
    {
     "data": {
      "text/html": [
       "<div><strong>Dask DataFrame Structure:</strong></div>\n",
       "<div>\n",
       "<style>\n",
       "    .dataframe thead tr:only-child th {\n",
       "        text-align: right;\n",
       "    }\n",
       "\n",
       "    .dataframe thead th {\n",
       "        text-align: left;\n",
       "    }\n",
       "\n",
       "    .dataframe tbody tr th {\n",
       "        vertical-align: top;\n",
       "    }\n",
       "</style>\n",
       "<table border=\"1\" class=\"dataframe\">\n",
       "  <thead>\n",
       "    <tr style=\"text-align: right;\">\n",
       "      <th></th>\n",
       "      <th>Latitude</th>\n",
       "      <th>Longitude</th>\n",
       "    </tr>\n",
       "    <tr>\n",
       "      <th>npartitions=1</th>\n",
       "      <th></th>\n",
       "      <th></th>\n",
       "    </tr>\n",
       "  </thead>\n",
       "  <tbody>\n",
       "    <tr>\n",
       "      <th>2017-01-01 00:00:00</th>\n",
       "      <td>float64</td>\n",
       "      <td>float64</td>\n",
       "    </tr>\n",
       "    <tr>\n",
       "      <th>2017-08-25 23:59:00</th>\n",
       "      <td>...</td>\n",
       "      <td>...</td>\n",
       "    </tr>\n",
       "  </tbody>\n",
       "</table>\n",
       "</div>\n",
       "<div>Dask Name: getitem, 4 tasks</div>"
      ],
      "text/plain": [
       "Dask DataFrame Structure:\n",
       "                    Latitude Longitude\n",
       "npartitions=1                         \n",
       "2017-01-01 00:00:00  float64   float64\n",
       "2017-08-25 23:59:00      ...       ...\n",
       "Dask Name: getitem, 4 tasks"
      ]
     },
     "execution_count": 12,
     "metadata": {},
     "output_type": "execute_result"
    }
   ],
   "source": [
    "# gets crime coordinates with date dask df for animated crimes map replay\n",
    "crime_coordinates = crime_geo[['Latitude', 'Longitude']].\n",
    "crime_coordinates"
   ]
  },
  {
   "cell_type": "code",
   "execution_count": 15,
   "metadata": {},
   "outputs": [],
   "source": [
    "crime_coordinates.to_csv('../data/chicago-crimes-2017-*.csv')"
   ]
  },
  {
   "cell_type": "code",
   "execution_count": null,
   "metadata": {},
   "outputs": [],
   "source": []
  }
 ],
 "metadata": {
  "anaconda-cloud": {},
  "kernelspec": {
   "display_name": "Python [default]",
   "language": "python",
   "name": "python3"
  },
  "language_info": {
   "codemirror_mode": {
    "name": "ipython",
    "version": 3
   },
   "file_extension": ".py",
   "mimetype": "text/x-python",
   "name": "python",
   "nbconvert_exporter": "python",
   "pygments_lexer": "ipython3",
   "version": "3.5.2"
  }
 },
 "nbformat": 4,
 "nbformat_minor": 1
}
