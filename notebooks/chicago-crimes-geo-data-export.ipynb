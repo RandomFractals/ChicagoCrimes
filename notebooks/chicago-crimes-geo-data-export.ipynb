{
 "cells": [
  {
   "cell_type": "code",
   "execution_count": 1,
   "metadata": {},
   "outputs": [],
   "source": [
    "import codecs, json\n",
    "import dask.dataframe as dd\n",
    "import numpy as np\n",
    "import pandas as pd\n",
    "import pyarrow as pa\n",
    "import pyarrow.parquet as pq"
   ]
  },
  {
   "cell_type": "code",
   "execution_count": 2,
   "metadata": {},
   "outputs": [],
   "source": [
    "# pyarrow parquet write test\n",
    "df = pd.DataFrame({'one': [-1, np.nan, 2.5],\n",
    "              'two': ['foo', 'bar', 'baz'],\n",
    "              'three': [True, False, True]})\n",
    "table = pa.Table.from_pandas(df)\n",
    "pq.write_table(table, '../raw_data/example.parquet')"
   ]
  },
  {
   "cell_type": "code",
   "execution_count": 3,
   "metadata": {},
   "outputs": [
    {
     "data": {
      "text/html": [
       "<div>\n",
       "<style>\n",
       "    .dataframe thead tr:only-child th {\n",
       "        text-align: right;\n",
       "    }\n",
       "\n",
       "    .dataframe thead th {\n",
       "        text-align: left;\n",
       "    }\n",
       "\n",
       "    .dataframe tbody tr th {\n",
       "        vertical-align: top;\n",
       "    }\n",
       "</style>\n",
       "<table border=\"1\" class=\"dataframe\">\n",
       "  <thead>\n",
       "    <tr style=\"text-align: right;\">\n",
       "      <th></th>\n",
       "      <th>one</th>\n",
       "      <th>three</th>\n",
       "      <th>two</th>\n",
       "    </tr>\n",
       "  </thead>\n",
       "  <tbody>\n",
       "    <tr>\n",
       "      <th>0</th>\n",
       "      <td>-1.0</td>\n",
       "      <td>True</td>\n",
       "      <td>foo</td>\n",
       "    </tr>\n",
       "    <tr>\n",
       "      <th>1</th>\n",
       "      <td>NaN</td>\n",
       "      <td>False</td>\n",
       "      <td>bar</td>\n",
       "    </tr>\n",
       "    <tr>\n",
       "      <th>2</th>\n",
       "      <td>2.5</td>\n",
       "      <td>True</td>\n",
       "      <td>baz</td>\n",
       "    </tr>\n",
       "  </tbody>\n",
       "</table>\n",
       "</div>"
      ],
      "text/plain": [
       "   one  three  two\n",
       "0 -1.0   True  foo\n",
       "1  NaN  False  bar\n",
       "2  2.5   True  baz"
      ]
     },
     "execution_count": 3,
     "metadata": {},
     "output_type": "execute_result"
    }
   ],
   "source": [
    "# pyarrow parquet read test\n",
    "table2 = pq.read_table('../raw_data/example.parquet')\n",
    "df2 = table2.to_pandas()\n",
    "df2"
   ]
  },
  {
   "cell_type": "code",
   "execution_count": 4,
   "metadata": {},
   "outputs": [
    {
     "name": "stdout",
     "output_type": "stream",
     "text": [
      "Loading crime data from: ../data/crimes-2001-to-present.snappy.parq\n",
      "Crime data loaded into memory.\n",
      "Crime data stats:\n",
      "---------------------------------------\n",
      "6,401,616 total records in 1 partitions\n",
      "DataFrame size: 89,622,624\n",
      "Wall time: 12.9 s\n"
     ]
    }
   ],
   "source": [
    "%%time\n",
    "# set data file path\n",
    "parquet_data_folder = '../data/crimes-2001-to-present.snappy.parq' #crimes-2017.snappy.parq'\n",
    "print('Loading crime data from: {}'.format(parquet_data_folder))\n",
    "\n",
    "# load crimes parquet data into dask df\n",
    "crimes = dd.read_parquet(parquet_data_folder, index='Date')\n",
    "\n",
    "# load all data into memory\n",
    "crimes = crimes.persist()\n",
    "print('Crime data loaded into memory.')\n",
    "\n",
    "# log records count and data frame stats\n",
    "print('Crime data stats:')\n",
    "print('---------------------------------------')\n",
    "print('{:,} total records in {} partitions'.format(len(crimes), crimes.npartitions))\n",
    "print('DataFrame size: {:,}'.format(crimes.size.compute()))"
   ]
  },
  {
   "cell_type": "code",
   "execution_count": 6,
   "metadata": {},
   "outputs": [
    {
     "name": "stdout",
     "output_type": "stream",
     "text": [
      "Chicago homicides data preview:\n",
      "--------------------------------------------------------------------------\n",
      "                    PrimaryType                  Block          Description  \\\n",
      "Date                                                                          \n",
      "2001-01-01 10:40:00    HOMICIDE      024XX W MONROE ST  FIRST DEGREE MURDER   \n",
      "2001-01-01 15:10:00    HOMICIDE  023XX N MILWAUKEE AVE  FIRST DEGREE MURDER   \n",
      "2001-01-06 08:54:00    HOMICIDE    017XX S ASHLAND AVE  FIRST DEGREE MURDER   \n",
      "2001-01-06 13:30:00    HOMICIDE      117XX S MORGAN ST  FIRST DEGREE MURDER   \n",
      "2001-01-06 23:38:00    HOMICIDE  058XX W FULLERTON AVE  FIRST DEGREE MURDER   \n",
      "\n",
      "                    LocationDescription CommunityArea  Arrest  Domestic  \\\n",
      "Date                                                                      \n",
      "2001-01-01 10:40:00       CHA STAIRWELL          28.0   False     False   \n",
      "2001-01-01 15:10:00                AUTO          22.0   False     False   \n",
      "2001-01-06 08:54:00                AUTO          31.0   False     False   \n",
      "2001-01-06 13:30:00               ALLEY          53.0    True     False   \n",
      "2001-01-06 23:38:00              STREET          19.0    True     False   \n",
      "\n",
      "                      Latitude  Longitude  \n",
      "Date                                       \n",
      "2001-01-01 10:40:00  41.880225 -87.688249  \n",
      "2001-01-01 15:10:00  41.924488 -87.699933  \n",
      "2001-01-06 08:54:00  41.858474 -87.666167  \n",
      "2001-01-06 13:30:00  41.680744 -87.646876  \n",
      "2001-01-06 23:38:00  41.923901 -87.771157  \n",
      "...\n",
      "Total Homicides: 8060\n"
     ]
    }
   ],
   "source": [
    "# get crime geo data for mapping homicides\n",
    "crime_geo = crimes[['PrimaryType',\n",
    "                    'Block',\n",
    "                    'Description',\n",
    "                    'LocationDescription',\n",
    "                    'CommunityArea',\n",
    "                    'Arrest',\n",
    "                    'Domestic',\n",
    "                    'Latitude', \n",
    "                    'Longitude']].dropna()\n",
    "\n",
    "# get homicides\n",
    "homicides = crime_geo[(crime_geo['PrimaryType']=='HOMICIDE')].compute()\n",
    "print('Chicago homicides data preview:')\n",
    "print('--------------------------------------------------------------------------')\n",
    "print(homicides.head())\n",
    "print('...')\n",
    "print('Total Homicides:', len(homicides))"
   ]
  },
  {
   "cell_type": "code",
   "execution_count": 8,
   "metadata": {},
   "outputs": [
    {
     "name": "stdout",
     "output_type": "stream",
     "text": [
      "[[41.880224549, -87.68824895200001], [41.924488265, -87.699933231], [41.858473695, -87.666167161], [41.680743671, -87.646876459], [41.923901330999996, -87.771156586]]\n"
     ]
    }
   ],
   "source": [
    "# get homicides coordinates for heatmap data\n",
    "homicides_geo = homicides[['Latitude', 'Longitude']].values.tolist() # to_records()\n",
    "print(homicides_geo[0:5])"
   ]
  },
  {
   "cell_type": "code",
   "execution_count": 11,
   "metadata": {},
   "outputs": [],
   "source": [
    "#json.dumps(homicides_geo)"
   ]
  },
  {
   "cell_type": "code",
   "execution_count": 12,
   "metadata": {},
   "outputs": [],
   "source": [
    "# create homicides json data file for the map\n",
    "file_path = '../data/chicago-homicides.json'\n",
    "json.dump(homicides_geo, \n",
    "          codecs.open(file_path, 'w', encoding='utf-8'), \n",
    "          separators=(',', ':'), sort_keys=False, indent=0)"
   ]
  },
  {
   "cell_type": "code",
   "execution_count": null,
   "metadata": {},
   "outputs": [],
   "source": []
  }
 ],
 "metadata": {
  "anaconda-cloud": {},
  "kernelspec": {
   "display_name": "Python [default]",
   "language": "python",
   "name": "python3"
  },
  "language_info": {
   "codemirror_mode": {
    "name": "ipython",
    "version": 3
   },
   "file_extension": ".py",
   "mimetype": "text/x-python",
   "name": "python",
   "nbconvert_exporter": "python",
   "pygments_lexer": "ipython3",
   "version": "3.5.2"
  }
 },
 "nbformat": 4,
 "nbformat_minor": 1
}
