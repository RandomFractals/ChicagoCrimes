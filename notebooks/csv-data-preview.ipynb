{
 "cells": [
  {
   "cell_type": "code",
   "execution_count": 1,
   "metadata": {
    "collapsed": true
   },
   "outputs": [],
   "source": [
    "import numpy as np\n",
    "import pandas as pd\n",
    "import dask.dataframe as dd\n",
    "import matplotlib.pyplot as plt\n",
    "import matplotlib.ticker as ticker\n",
    "import seaborn as sns"
   ]
  },
  {
   "cell_type": "code",
   "execution_count": 2,
   "metadata": {
    "collapsed": true
   },
   "outputs": [],
   "source": [
    "%matplotlib inline\n",
    "#%config InlineBackend.figure_format = 'svg'\n",
    "\n",
    "# set neat seaborn whitegrid styles for matplotlib charts\n",
    "plt.style.use('seaborn')\n",
    "sns.set_style('whitegrid')"
   ]
  },
  {
   "cell_type": "code",
   "execution_count": 3,
   "metadata": {
    "collapsed": false
   },
   "outputs": [],
   "source": [
    "# load csv data into dask df\n",
    "file_name = '../data/Crimes_-_2017.csv'\n",
    "crimes = dd.read_csv(file_name, \n",
    "                 error_bad_lines=False,\n",
    "                 assume_missing=True)"
   ]
  },
  {
   "cell_type": "code",
   "execution_count": 4,
   "metadata": {
    "collapsed": false
   },
   "outputs": [
    {
     "name": "stdout",
     "output_type": "stream",
     "text": [
      "160,182 total records in 1 partitions\n",
      "Wall time: 1.07 s\n"
     ]
    }
   ],
   "source": [
    "%%time\n",
    "# log records count and load data partitions\n",
    "print('{:,} total records in {} partitions'\\\n",
    "      .format(len(crimes), crimes.npartitions))"
   ]
  },
  {
   "cell_type": "code",
   "execution_count": 5,
   "metadata": {
    "collapsed": false
   },
   "outputs": [
    {
     "name": "stdout",
     "output_type": "stream",
     "text": [
      "Wall time: 9.77 ms\n"
     ]
    },
    {
     "data": {
      "text/html": [
       "<div><strong>Dask DataFrame Structure:</strong></div>\n",
       "<div>\n",
       "<style>\n",
       "    .dataframe thead tr:only-child th {\n",
       "        text-align: right;\n",
       "    }\n",
       "\n",
       "    .dataframe thead th {\n",
       "        text-align: left;\n",
       "    }\n",
       "\n",
       "    .dataframe tbody tr th {\n",
       "        vertical-align: top;\n",
       "    }\n",
       "</style>\n",
       "<table border=\"1\" class=\"dataframe\">\n",
       "  <thead>\n",
       "    <tr style=\"text-align: right;\">\n",
       "      <th></th>\n",
       "      <th>ID</th>\n",
       "      <th>Case Number</th>\n",
       "      <th>Date</th>\n",
       "      <th>Block</th>\n",
       "      <th>IUCR</th>\n",
       "      <th>Primary Type</th>\n",
       "      <th>Description</th>\n",
       "      <th>Location Description</th>\n",
       "      <th>Arrest</th>\n",
       "      <th>Domestic</th>\n",
       "      <th>Beat</th>\n",
       "      <th>District</th>\n",
       "      <th>Ward</th>\n",
       "      <th>Community Area</th>\n",
       "      <th>FBI Code</th>\n",
       "      <th>X Coordinate</th>\n",
       "      <th>Y Coordinate</th>\n",
       "      <th>Year</th>\n",
       "      <th>Updated On</th>\n",
       "      <th>Latitude</th>\n",
       "      <th>Longitude</th>\n",
       "      <th>Location</th>\n",
       "    </tr>\n",
       "    <tr>\n",
       "      <th>npartitions=1</th>\n",
       "      <th></th>\n",
       "      <th></th>\n",
       "      <th></th>\n",
       "      <th></th>\n",
       "      <th></th>\n",
       "      <th></th>\n",
       "      <th></th>\n",
       "      <th></th>\n",
       "      <th></th>\n",
       "      <th></th>\n",
       "      <th></th>\n",
       "      <th></th>\n",
       "      <th></th>\n",
       "      <th></th>\n",
       "      <th></th>\n",
       "      <th></th>\n",
       "      <th></th>\n",
       "      <th></th>\n",
       "      <th></th>\n",
       "      <th></th>\n",
       "      <th></th>\n",
       "      <th></th>\n",
       "    </tr>\n",
       "  </thead>\n",
       "  <tbody>\n",
       "    <tr>\n",
       "      <th>None</th>\n",
       "      <td>float64</td>\n",
       "      <td>object</td>\n",
       "      <td>object</td>\n",
       "      <td>object</td>\n",
       "      <td>object</td>\n",
       "      <td>object</td>\n",
       "      <td>object</td>\n",
       "      <td>object</td>\n",
       "      <td>bool</td>\n",
       "      <td>bool</td>\n",
       "      <td>float64</td>\n",
       "      <td>float64</td>\n",
       "      <td>float64</td>\n",
       "      <td>float64</td>\n",
       "      <td>object</td>\n",
       "      <td>float64</td>\n",
       "      <td>float64</td>\n",
       "      <td>float64</td>\n",
       "      <td>object</td>\n",
       "      <td>float64</td>\n",
       "      <td>float64</td>\n",
       "      <td>object</td>\n",
       "    </tr>\n",
       "    <tr>\n",
       "      <th>None</th>\n",
       "      <td>...</td>\n",
       "      <td>...</td>\n",
       "      <td>...</td>\n",
       "      <td>...</td>\n",
       "      <td>...</td>\n",
       "      <td>...</td>\n",
       "      <td>...</td>\n",
       "      <td>...</td>\n",
       "      <td>...</td>\n",
       "      <td>...</td>\n",
       "      <td>...</td>\n",
       "      <td>...</td>\n",
       "      <td>...</td>\n",
       "      <td>...</td>\n",
       "      <td>...</td>\n",
       "      <td>...</td>\n",
       "      <td>...</td>\n",
       "      <td>...</td>\n",
       "      <td>...</td>\n",
       "      <td>...</td>\n",
       "      <td>...</td>\n",
       "      <td>...</td>\n",
       "    </tr>\n",
       "  </tbody>\n",
       "</table>\n",
       "</div>\n",
       "<div>Dask Name: drop-duplicates-agg, 5 tasks</div>"
      ],
      "text/plain": [
       "Dask DataFrame Structure:\n",
       "                    ID Case Number    Date   Block    IUCR Primary Type Description Location Description Arrest Domestic     Beat District     Ward Community Area FBI Code X Coordinate Y Coordinate     Year Updated On Latitude Longitude Location\n",
       "npartitions=1                                                                                                                                                                                                                                        \n",
       "None           float64      object  object  object  object       object      object               object   bool     bool  float64  float64  float64        float64   object      float64      float64  float64     object  float64   float64   object\n",
       "None               ...         ...     ...     ...     ...          ...         ...                  ...    ...      ...      ...      ...      ...            ...      ...          ...          ...      ...        ...      ...       ...      ...\n",
       "Dask Name: drop-duplicates-agg, 5 tasks"
      ]
     },
     "execution_count": 5,
     "metadata": {},
     "output_type": "execute_result"
    }
   ],
   "source": [
    "%%time\n",
    "# drop duplicates\n",
    "crimes.drop_duplicates(subset=['ID', 'Case Number'], inplace=True)"
   ]
  },
  {
   "cell_type": "code",
   "execution_count": 6,
   "metadata": {
    "collapsed": false
   },
   "outputs": [
    {
     "name": "stdout",
     "output_type": "stream",
     "text": [
      "Wall time: 1.07 s\n"
     ]
    }
   ],
   "source": [
    "%%time\n",
    "# persist in memory\n",
    "crimes = crimes.persist()"
   ]
  },
  {
   "cell_type": "code",
   "execution_count": 7,
   "metadata": {
    "collapsed": false
   },
   "outputs": [
    {
     "name": "stdout",
     "output_type": "stream",
     "text": [
      "DataFrame size: 3,524,004\n",
      "Wall time: 4.88 ms\n"
     ]
    }
   ],
   "source": [
    "%%time\n",
    "print(\"DataFrame size: {:,}\".format(crimes.size.compute()))"
   ]
  },
  {
   "cell_type": "code",
   "execution_count": 8,
   "metadata": {
    "collapsed": false
   },
   "outputs": [
    {
     "data": {
      "text/html": [
       "<div>\n",
       "<style>\n",
       "    .dataframe thead tr:only-child th {\n",
       "        text-align: right;\n",
       "    }\n",
       "\n",
       "    .dataframe thead th {\n",
       "        text-align: left;\n",
       "    }\n",
       "\n",
       "    .dataframe tbody tr th {\n",
       "        vertical-align: top;\n",
       "    }\n",
       "</style>\n",
       "<table border=\"1\" class=\"dataframe\">\n",
       "  <thead>\n",
       "    <tr style=\"text-align: right;\">\n",
       "      <th></th>\n",
       "      <th>ID</th>\n",
       "      <th>Case Number</th>\n",
       "      <th>Date</th>\n",
       "      <th>Block</th>\n",
       "      <th>IUCR</th>\n",
       "      <th>Primary Type</th>\n",
       "      <th>Description</th>\n",
       "      <th>Location Description</th>\n",
       "      <th>Arrest</th>\n",
       "      <th>Domestic</th>\n",
       "      <th>...</th>\n",
       "      <th>Ward</th>\n",
       "      <th>Community Area</th>\n",
       "      <th>FBI Code</th>\n",
       "      <th>X Coordinate</th>\n",
       "      <th>Y Coordinate</th>\n",
       "      <th>Year</th>\n",
       "      <th>Updated On</th>\n",
       "      <th>Latitude</th>\n",
       "      <th>Longitude</th>\n",
       "      <th>Location</th>\n",
       "    </tr>\n",
       "  </thead>\n",
       "  <tbody>\n",
       "    <tr>\n",
       "      <th>0</th>\n",
       "      <td>23507.0</td>\n",
       "      <td>JA385764</td>\n",
       "      <td>08/10/2017 04:04:00 PM</td>\n",
       "      <td>041XX S WALLACE ST</td>\n",
       "      <td>0110</td>\n",
       "      <td>HOMICIDE</td>\n",
       "      <td>FIRST DEGREE MURDER</td>\n",
       "      <td>HOUSE</td>\n",
       "      <td>True</td>\n",
       "      <td>False</td>\n",
       "      <td>...</td>\n",
       "      <td>11.0</td>\n",
       "      <td>61.0</td>\n",
       "      <td>01A</td>\n",
       "      <td>1172991.0</td>\n",
       "      <td>1877172.0</td>\n",
       "      <td>2017.0</td>\n",
       "      <td>08/17/2017 03:54:34 PM</td>\n",
       "      <td>41.818390</td>\n",
       "      <td>-87.640922</td>\n",
       "      <td>(41.818389748, -87.640921789)</td>\n",
       "    </tr>\n",
       "    <tr>\n",
       "      <th>1</th>\n",
       "      <td>23506.0</td>\n",
       "      <td>JA384949</td>\n",
       "      <td>08/10/2017 02:22:00 AM</td>\n",
       "      <td>012XX N GREENVIEW AVE</td>\n",
       "      <td>0110</td>\n",
       "      <td>HOMICIDE</td>\n",
       "      <td>FIRST DEGREE MURDER</td>\n",
       "      <td>AUTO</td>\n",
       "      <td>False</td>\n",
       "      <td>False</td>\n",
       "      <td>...</td>\n",
       "      <td>1.0</td>\n",
       "      <td>24.0</td>\n",
       "      <td>01A</td>\n",
       "      <td>1166164.0</td>\n",
       "      <td>1908438.0</td>\n",
       "      <td>2017.0</td>\n",
       "      <td>08/17/2017 03:54:34 PM</td>\n",
       "      <td>41.904335</td>\n",
       "      <td>-87.665073</td>\n",
       "      <td>(41.904334636, -87.665072774)</td>\n",
       "    </tr>\n",
       "  </tbody>\n",
       "</table>\n",
       "<p>2 rows × 22 columns</p>\n",
       "</div>"
      ],
      "text/plain": [
       "        ID Case Number                    Date                  Block  IUCR  \\\n",
       "0  23507.0    JA385764  08/10/2017 04:04:00 PM     041XX S WALLACE ST  0110   \n",
       "1  23506.0    JA384949  08/10/2017 02:22:00 AM  012XX N GREENVIEW AVE  0110   \n",
       "\n",
       "  Primary Type          Description Location Description  Arrest  Domestic  \\\n",
       "0     HOMICIDE  FIRST DEGREE MURDER                HOUSE    True     False   \n",
       "1     HOMICIDE  FIRST DEGREE MURDER                 AUTO   False     False   \n",
       "\n",
       "               ...                Ward  Community Area  FBI Code  \\\n",
       "0              ...                11.0            61.0       01A   \n",
       "1              ...                 1.0            24.0       01A   \n",
       "\n",
       "   X Coordinate Y Coordinate    Year              Updated On   Latitude  \\\n",
       "0     1172991.0    1877172.0  2017.0  08/17/2017 03:54:34 PM  41.818390   \n",
       "1     1166164.0    1908438.0  2017.0  08/17/2017 03:54:34 PM  41.904335   \n",
       "\n",
       "   Longitude                       Location  \n",
       "0 -87.640922  (41.818389748, -87.640921789)  \n",
       "1 -87.665073  (41.904334636, -87.665072774)  \n",
       "\n",
       "[2 rows x 22 columns]"
      ]
     },
     "execution_count": 8,
     "metadata": {},
     "output_type": "execute_result"
    }
   ],
   "source": [
    "# get top 2 records\n",
    "crimes.head(2)"
   ]
  },
  {
   "cell_type": "code",
   "execution_count": 9,
   "metadata": {
    "collapsed": false
   },
   "outputs": [
    {
     "data": {
      "text/html": [
       "<div>\n",
       "<style>\n",
       "    .dataframe thead tr:only-child th {\n",
       "        text-align: right;\n",
       "    }\n",
       "\n",
       "    .dataframe thead th {\n",
       "        text-align: left;\n",
       "    }\n",
       "\n",
       "    .dataframe tbody tr th {\n",
       "        vertical-align: top;\n",
       "    }\n",
       "</style>\n",
       "<table border=\"1\" class=\"dataframe\">\n",
       "  <thead>\n",
       "    <tr style=\"text-align: right;\">\n",
       "      <th></th>\n",
       "      <th>ID</th>\n",
       "      <th>Case Number</th>\n",
       "      <th>Date</th>\n",
       "      <th>Block</th>\n",
       "      <th>IUCR</th>\n",
       "      <th>Primary Type</th>\n",
       "      <th>Description</th>\n",
       "      <th>Location Description</th>\n",
       "      <th>Arrest</th>\n",
       "      <th>Domestic</th>\n",
       "      <th>...</th>\n",
       "      <th>Ward</th>\n",
       "      <th>Community Area</th>\n",
       "      <th>FBI Code</th>\n",
       "      <th>X Coordinate</th>\n",
       "      <th>Y Coordinate</th>\n",
       "      <th>Year</th>\n",
       "      <th>Updated On</th>\n",
       "      <th>Latitude</th>\n",
       "      <th>Longitude</th>\n",
       "      <th>Location</th>\n",
       "    </tr>\n",
       "  </thead>\n",
       "  <tbody>\n",
       "    <tr>\n",
       "      <th>160180</th>\n",
       "      <td>10802618.0</td>\n",
       "      <td>JA100607</td>\n",
       "      <td>01/01/2017 01:00:00 PM</td>\n",
       "      <td>003XX S HOYNE AVE</td>\n",
       "      <td>0820</td>\n",
       "      <td>THEFT</td>\n",
       "      <td>$500 AND UNDER</td>\n",
       "      <td>STREET</td>\n",
       "      <td>False</td>\n",
       "      <td>False</td>\n",
       "      <td>...</td>\n",
       "      <td>2.0</td>\n",
       "      <td>28.0</td>\n",
       "      <td>06</td>\n",
       "      <td>NaN</td>\n",
       "      <td>NaN</td>\n",
       "      <td>2017.0</td>\n",
       "      <td>01/08/2017 03:48:20 PM</td>\n",
       "      <td>NaN</td>\n",
       "      <td>NaN</td>\n",
       "      <td>NaN</td>\n",
       "    </tr>\n",
       "    <tr>\n",
       "      <th>160181</th>\n",
       "      <td>10802303.0</td>\n",
       "      <td>JA101463</td>\n",
       "      <td>01/01/2017 07:00:00 PM</td>\n",
       "      <td>011XX E BOWEN AVE</td>\n",
       "      <td>0910</td>\n",
       "      <td>MOTOR VEHICLE THEFT</td>\n",
       "      <td>AUTOMOBILE</td>\n",
       "      <td>STREET</td>\n",
       "      <td>False</td>\n",
       "      <td>False</td>\n",
       "      <td>...</td>\n",
       "      <td>4.0</td>\n",
       "      <td>36.0</td>\n",
       "      <td>07</td>\n",
       "      <td>NaN</td>\n",
       "      <td>NaN</td>\n",
       "      <td>2017.0</td>\n",
       "      <td>01/08/2017 03:48:20 PM</td>\n",
       "      <td>NaN</td>\n",
       "      <td>NaN</td>\n",
       "      <td>NaN</td>\n",
       "    </tr>\n",
       "  </tbody>\n",
       "</table>\n",
       "<p>2 rows × 22 columns</p>\n",
       "</div>"
      ],
      "text/plain": [
       "                ID Case Number                    Date              Block  \\\n",
       "160180  10802618.0    JA100607  01/01/2017 01:00:00 PM  003XX S HOYNE AVE   \n",
       "160181  10802303.0    JA101463  01/01/2017 07:00:00 PM  011XX E BOWEN AVE   \n",
       "\n",
       "        IUCR         Primary Type     Description Location Description  \\\n",
       "160180  0820                THEFT  $500 AND UNDER               STREET   \n",
       "160181  0910  MOTOR VEHICLE THEFT      AUTOMOBILE               STREET   \n",
       "\n",
       "        Arrest  Domestic    ...     Ward  Community Area  FBI Code  \\\n",
       "160180   False     False    ...      2.0            28.0        06   \n",
       "160181   False     False    ...      4.0            36.0        07   \n",
       "\n",
       "        X Coordinate Y Coordinate    Year              Updated On  Latitude  \\\n",
       "160180           NaN          NaN  2017.0  01/08/2017 03:48:20 PM       NaN   \n",
       "160181           NaN          NaN  2017.0  01/08/2017 03:48:20 PM       NaN   \n",
       "\n",
       "       Longitude  Location  \n",
       "160180       NaN       NaN  \n",
       "160181       NaN       NaN  \n",
       "\n",
       "[2 rows x 22 columns]"
      ]
     },
     "execution_count": 9,
     "metadata": {},
     "output_type": "execute_result"
    }
   ],
   "source": [
    "# get last 2 records\n",
    "crimes.tail(2)"
   ]
  },
  {
   "cell_type": "code",
   "execution_count": 10,
   "metadata": {
    "collapsed": false
   },
   "outputs": [
    {
     "data": {
      "text/html": [
       "<div>\n",
       "<style>\n",
       "    .dataframe thead tr:only-child th {\n",
       "        text-align: right;\n",
       "    }\n",
       "\n",
       "    .dataframe thead th {\n",
       "        text-align: left;\n",
       "    }\n",
       "\n",
       "    .dataframe tbody tr th {\n",
       "        vertical-align: top;\n",
       "    }\n",
       "</style>\n",
       "<table border=\"1\" class=\"dataframe\">\n",
       "  <thead>\n",
       "    <tr style=\"text-align: right;\">\n",
       "      <th></th>\n",
       "      <th>ID</th>\n",
       "      <th>CaseNumber</th>\n",
       "      <th>Date</th>\n",
       "      <th>Block</th>\n",
       "      <th>IUCR</th>\n",
       "      <th>PrimaryType</th>\n",
       "      <th>Description</th>\n",
       "      <th>LocationDescription</th>\n",
       "      <th>Arrest</th>\n",
       "      <th>Domestic</th>\n",
       "      <th>...</th>\n",
       "      <th>Ward</th>\n",
       "      <th>CommunityArea</th>\n",
       "      <th>FBICode</th>\n",
       "      <th>XCoordinate</th>\n",
       "      <th>YCoordinate</th>\n",
       "      <th>Year</th>\n",
       "      <th>UpdatedOn</th>\n",
       "      <th>Latitude</th>\n",
       "      <th>Longitude</th>\n",
       "      <th>Location</th>\n",
       "    </tr>\n",
       "  </thead>\n",
       "  <tbody>\n",
       "    <tr>\n",
       "      <th>0</th>\n",
       "      <td>23507.0</td>\n",
       "      <td>JA385764</td>\n",
       "      <td>08/10/2017 04:04:00 PM</td>\n",
       "      <td>041XX S WALLACE ST</td>\n",
       "      <td>0110</td>\n",
       "      <td>HOMICIDE</td>\n",
       "      <td>FIRST DEGREE MURDER</td>\n",
       "      <td>HOUSE</td>\n",
       "      <td>True</td>\n",
       "      <td>False</td>\n",
       "      <td>...</td>\n",
       "      <td>11.0</td>\n",
       "      <td>61.0</td>\n",
       "      <td>01A</td>\n",
       "      <td>1172991.0</td>\n",
       "      <td>1877172.0</td>\n",
       "      <td>2017.0</td>\n",
       "      <td>08/17/2017 03:54:34 PM</td>\n",
       "      <td>41.818390</td>\n",
       "      <td>-87.640922</td>\n",
       "      <td>(41.818389748, -87.640921789)</td>\n",
       "    </tr>\n",
       "    <tr>\n",
       "      <th>1</th>\n",
       "      <td>23506.0</td>\n",
       "      <td>JA384949</td>\n",
       "      <td>08/10/2017 02:22:00 AM</td>\n",
       "      <td>012XX N GREENVIEW AVE</td>\n",
       "      <td>0110</td>\n",
       "      <td>HOMICIDE</td>\n",
       "      <td>FIRST DEGREE MURDER</td>\n",
       "      <td>AUTO</td>\n",
       "      <td>False</td>\n",
       "      <td>False</td>\n",
       "      <td>...</td>\n",
       "      <td>1.0</td>\n",
       "      <td>24.0</td>\n",
       "      <td>01A</td>\n",
       "      <td>1166164.0</td>\n",
       "      <td>1908438.0</td>\n",
       "      <td>2017.0</td>\n",
       "      <td>08/17/2017 03:54:34 PM</td>\n",
       "      <td>41.904335</td>\n",
       "      <td>-87.665073</td>\n",
       "      <td>(41.904334636, -87.665072774)</td>\n",
       "    </tr>\n",
       "  </tbody>\n",
       "</table>\n",
       "<p>2 rows × 22 columns</p>\n",
       "</div>"
      ],
      "text/plain": [
       "        ID CaseNumber                    Date                  Block  IUCR  \\\n",
       "0  23507.0   JA385764  08/10/2017 04:04:00 PM     041XX S WALLACE ST  0110   \n",
       "1  23506.0   JA384949  08/10/2017 02:22:00 AM  012XX N GREENVIEW AVE  0110   \n",
       "\n",
       "  PrimaryType          Description LocationDescription  Arrest  Domestic  \\\n",
       "0    HOMICIDE  FIRST DEGREE MURDER               HOUSE    True     False   \n",
       "1    HOMICIDE  FIRST DEGREE MURDER                AUTO   False     False   \n",
       "\n",
       "               ...                Ward  CommunityArea  FBICode  XCoordinate  \\\n",
       "0              ...                11.0           61.0      01A    1172991.0   \n",
       "1              ...                 1.0           24.0      01A    1166164.0   \n",
       "\n",
       "  YCoordinate    Year               UpdatedOn   Latitude  Longitude  \\\n",
       "0   1877172.0  2017.0  08/17/2017 03:54:34 PM  41.818390 -87.640922   \n",
       "1   1908438.0  2017.0  08/17/2017 03:54:34 PM  41.904335 -87.665073   \n",
       "\n",
       "                        Location  \n",
       "0  (41.818389748, -87.640921789)  \n",
       "1  (41.904334636, -87.665072774)  \n",
       "\n",
       "[2 rows x 22 columns]"
      ]
     },
     "execution_count": 10,
     "metadata": {},
     "output_type": "execute_result"
    }
   ],
   "source": [
    "# strip out white space from column names\n",
    "crimes = crimes.rename(columns={c: c.replace(' ', '') for c in crimes.columns})\n",
    "crimes.head(2)"
   ]
  },
  {
   "cell_type": "code",
   "execution_count": 11,
   "metadata": {
    "collapsed": false
   },
   "outputs": [
    {
     "data": {
      "text/plain": [
       "Index(['ID', 'CaseNumber', 'Date', 'Block', 'IUCR', 'PrimaryType',\n",
       "       'Description', 'LocationDescription', 'Arrest', 'Domestic', 'Beat',\n",
       "       'District', 'Ward', 'CommunityArea', 'FBICode', 'XCoordinate',\n",
       "       'YCoordinate', 'Year', 'UpdatedOn', 'Latitude', 'Longitude',\n",
       "       'Location'],\n",
       "      dtype='object')"
      ]
     },
     "execution_count": 11,
     "metadata": {},
     "output_type": "execute_result"
    }
   ],
   "source": [
    "# list columns\n",
    "crimes.columns"
   ]
  },
  {
   "cell_type": "code",
   "execution_count": 12,
   "metadata": {
    "collapsed": false
   },
   "outputs": [
    {
     "data": {
      "text/plain": [
       "ID                     float64\n",
       "CaseNumber              object\n",
       "Date                    object\n",
       "Block                   object\n",
       "IUCR                    object\n",
       "PrimaryType             object\n",
       "Description             object\n",
       "LocationDescription     object\n",
       "Arrest                    bool\n",
       "Domestic                  bool\n",
       "Beat                   float64\n",
       "District               float64\n",
       "Ward                   float64\n",
       "CommunityArea          float64\n",
       "FBICode                 object\n",
       "XCoordinate            float64\n",
       "YCoordinate            float64\n",
       "Year                   float64\n",
       "UpdatedOn               object\n",
       "Latitude               float64\n",
       "Longitude              float64\n",
       "Location                object\n",
       "dtype: object"
      ]
     },
     "execution_count": 12,
     "metadata": {},
     "output_type": "execute_result"
    }
   ],
   "source": [
    "# infer data types\n",
    "crimes.dtypes"
   ]
  },
  {
   "cell_type": "code",
   "execution_count": 13,
   "metadata": {
    "collapsed": true
   },
   "outputs": [],
   "source": [
    "def unique_column_values(df):\n",
    "    for column in df.columns:\n",
    "        print(\"{} | {} | {}\".format(\n",
    "            df[column].name,\n",
    "            len(df[column].unique()),\n",
    "            df[column].dtype))"
   ]
  },
  {
   "cell_type": "code",
   "execution_count": 14,
   "metadata": {
    "collapsed": false
   },
   "outputs": [
    {
     "name": "stdout",
     "output_type": "stream",
     "text": [
      "Name | Unique # | Type\n",
      "ID | 160182 | float64\n",
      "CaseNumber | 160152 | object\n",
      "Date | 70364 | object\n",
      "Block | 24966 | object\n",
      "IUCR | 314 | object\n",
      "PrimaryType | 32 | object\n",
      "Description | 293 | object\n",
      "LocationDescription | 122 | object\n",
      "Arrest | 2 | bool\n",
      "Domestic | 2 | bool\n",
      "Beat | 274 | float64\n",
      "District | 23 | float64\n",
      "Ward | 51 | float64\n",
      "CommunityArea | 78 | float64\n",
      "FBICode | 26 | object\n",
      "XCoordinate | 43368 | float64\n",
      "YCoordinate | 57212 | float64\n",
      "Year | 1 | float64\n",
      "UpdatedOn | 411 | object\n",
      "Latitude | 87855 | float64\n",
      "Longitude | 87848 | float64\n",
      "Location | 87866 | object\n",
      "Wall time: 1.5 s\n"
     ]
    }
   ],
   "source": [
    "%%time\n",
    "# print unique column values counts\n",
    "print(\"Name | Unique # | Type\")\n",
    "unique_column_values(crimes)"
   ]
  },
  {
   "cell_type": "code",
   "execution_count": 15,
   "metadata": {
    "collapsed": true
   },
   "outputs": [],
   "source": [
    "# reduce data set\n",
    "select_columns = ['Date', 'Block', 'PrimaryType','Description', 'LocationDescription', \n",
    "                  'Arrest', 'Domestic', 'Latitude', 'Longitude']"
   ]
  },
  {
   "cell_type": "code",
   "execution_count": 16,
   "metadata": {
    "collapsed": false
   },
   "outputs": [
    {
     "name": "stdout",
     "output_type": "stream",
     "text": [
      "160,182 total records\n"
     ]
    },
    {
     "data": {
      "text/html": [
       "<div>\n",
       "<style>\n",
       "    .dataframe thead tr:only-child th {\n",
       "        text-align: right;\n",
       "    }\n",
       "\n",
       "    .dataframe thead th {\n",
       "        text-align: left;\n",
       "    }\n",
       "\n",
       "    .dataframe tbody tr th {\n",
       "        vertical-align: top;\n",
       "    }\n",
       "</style>\n",
       "<table border=\"1\" class=\"dataframe\">\n",
       "  <thead>\n",
       "    <tr style=\"text-align: right;\">\n",
       "      <th></th>\n",
       "      <th>Date</th>\n",
       "      <th>Block</th>\n",
       "      <th>PrimaryType</th>\n",
       "      <th>Description</th>\n",
       "      <th>LocationDescription</th>\n",
       "      <th>Arrest</th>\n",
       "      <th>Domestic</th>\n",
       "      <th>Latitude</th>\n",
       "      <th>Longitude</th>\n",
       "    </tr>\n",
       "  </thead>\n",
       "  <tbody>\n",
       "    <tr>\n",
       "      <th>0</th>\n",
       "      <td>08/10/2017 04:04:00 PM</td>\n",
       "      <td>041XX S WALLACE ST</td>\n",
       "      <td>HOMICIDE</td>\n",
       "      <td>FIRST DEGREE MURDER</td>\n",
       "      <td>HOUSE</td>\n",
       "      <td>True</td>\n",
       "      <td>False</td>\n",
       "      <td>41.818390</td>\n",
       "      <td>-87.640922</td>\n",
       "    </tr>\n",
       "    <tr>\n",
       "      <th>1</th>\n",
       "      <td>08/10/2017 02:22:00 AM</td>\n",
       "      <td>012XX N GREENVIEW AVE</td>\n",
       "      <td>HOMICIDE</td>\n",
       "      <td>FIRST DEGREE MURDER</td>\n",
       "      <td>AUTO</td>\n",
       "      <td>False</td>\n",
       "      <td>False</td>\n",
       "      <td>41.904335</td>\n",
       "      <td>-87.665073</td>\n",
       "    </tr>\n",
       "  </tbody>\n",
       "</table>\n",
       "</div>"
      ],
      "text/plain": [
       "                     Date                  Block PrimaryType  \\\n",
       "0  08/10/2017 04:04:00 PM     041XX S WALLACE ST    HOMICIDE   \n",
       "1  08/10/2017 02:22:00 AM  012XX N GREENVIEW AVE    HOMICIDE   \n",
       "\n",
       "           Description LocationDescription  Arrest  Domestic   Latitude  \\\n",
       "0  FIRST DEGREE MURDER               HOUSE    True     False  41.818390   \n",
       "1  FIRST DEGREE MURDER                AUTO   False     False  41.904335   \n",
       "\n",
       "   Longitude  \n",
       "0 -87.640922  \n",
       "1 -87.665073  "
      ]
     },
     "execution_count": 16,
     "metadata": {},
     "output_type": "execute_result"
    }
   ],
   "source": [
    "crimes = crimes[select_columns]\n",
    "print(\"{:,} total records\".format(len(crimes)))\n",
    "crimes.head(2)"
   ]
  },
  {
   "cell_type": "code",
   "execution_count": 17,
   "metadata": {
    "collapsed": false
   },
   "outputs": [
    {
     "name": "stdout",
     "output_type": "stream",
     "text": [
      "159,919 total records\n"
     ]
    },
    {
     "data": {
      "text/html": [
       "<div>\n",
       "<style>\n",
       "    .dataframe thead tr:only-child th {\n",
       "        text-align: right;\n",
       "    }\n",
       "\n",
       "    .dataframe thead th {\n",
       "        text-align: left;\n",
       "    }\n",
       "\n",
       "    .dataframe tbody tr th {\n",
       "        vertical-align: top;\n",
       "    }\n",
       "</style>\n",
       "<table border=\"1\" class=\"dataframe\">\n",
       "  <thead>\n",
       "    <tr style=\"text-align: right;\">\n",
       "      <th></th>\n",
       "      <th>Date</th>\n",
       "      <th>Block</th>\n",
       "      <th>PrimaryType</th>\n",
       "      <th>Description</th>\n",
       "      <th>LocationDescription</th>\n",
       "      <th>Arrest</th>\n",
       "      <th>Domestic</th>\n",
       "      <th>Latitude</th>\n",
       "      <th>Longitude</th>\n",
       "    </tr>\n",
       "  </thead>\n",
       "  <tbody>\n",
       "    <tr>\n",
       "      <th>0</th>\n",
       "      <td>08/10/2017 04:04:00 PM</td>\n",
       "      <td>041XX S WALLACE ST</td>\n",
       "      <td>HOMICIDE</td>\n",
       "      <td>FIRST DEGREE MURDER</td>\n",
       "      <td>HOUSE</td>\n",
       "      <td>True</td>\n",
       "      <td>False</td>\n",
       "      <td>41.818390</td>\n",
       "      <td>-87.640922</td>\n",
       "    </tr>\n",
       "    <tr>\n",
       "      <th>1</th>\n",
       "      <td>08/10/2017 02:22:00 AM</td>\n",
       "      <td>012XX N GREENVIEW AVE</td>\n",
       "      <td>HOMICIDE</td>\n",
       "      <td>FIRST DEGREE MURDER</td>\n",
       "      <td>AUTO</td>\n",
       "      <td>False</td>\n",
       "      <td>False</td>\n",
       "      <td>41.904335</td>\n",
       "      <td>-87.665073</td>\n",
       "    </tr>\n",
       "  </tbody>\n",
       "</table>\n",
       "</div>"
      ],
      "text/plain": [
       "                     Date                  Block PrimaryType  \\\n",
       "0  08/10/2017 04:04:00 PM     041XX S WALLACE ST    HOMICIDE   \n",
       "1  08/10/2017 02:22:00 AM  012XX N GREENVIEW AVE    HOMICIDE   \n",
       "\n",
       "           Description LocationDescription  Arrest  Domestic   Latitude  \\\n",
       "0  FIRST DEGREE MURDER               HOUSE    True     False  41.818390   \n",
       "1  FIRST DEGREE MURDER                AUTO   False     False  41.904335   \n",
       "\n",
       "   Longitude  \n",
       "0 -87.640922  \n",
       "1 -87.665073  "
      ]
     },
     "execution_count": 17,
     "metadata": {},
     "output_type": "execute_result"
    }
   ],
   "source": [
    "# drop duplicates\n",
    "crimes = crimes.drop_duplicates() #.dropna()\n",
    "print(\"{:,} total records\".format(len(crimes)))\n",
    "crimes.head(2)"
   ]
  },
  {
   "cell_type": "code",
   "execution_count": 18,
   "metadata": {
    "collapsed": false
   },
   "outputs": [
    {
     "name": "stdout",
     "output_type": "stream",
     "text": [
      "30,819 arrests\n"
     ]
    },
    {
     "data": {
      "text/html": [
       "<div>\n",
       "<style>\n",
       "    .dataframe thead tr:only-child th {\n",
       "        text-align: right;\n",
       "    }\n",
       "\n",
       "    .dataframe thead th {\n",
       "        text-align: left;\n",
       "    }\n",
       "\n",
       "    .dataframe tbody tr th {\n",
       "        vertical-align: top;\n",
       "    }\n",
       "</style>\n",
       "<table border=\"1\" class=\"dataframe\">\n",
       "  <thead>\n",
       "    <tr style=\"text-align: right;\">\n",
       "      <th></th>\n",
       "      <th>Date</th>\n",
       "      <th>Block</th>\n",
       "      <th>PrimaryType</th>\n",
       "      <th>Description</th>\n",
       "      <th>LocationDescription</th>\n",
       "      <th>Arrest</th>\n",
       "      <th>Domestic</th>\n",
       "      <th>Latitude</th>\n",
       "      <th>Longitude</th>\n",
       "    </tr>\n",
       "  </thead>\n",
       "  <tbody>\n",
       "    <tr>\n",
       "      <th>0</th>\n",
       "      <td>08/10/2017 04:04:00 PM</td>\n",
       "      <td>041XX S WALLACE ST</td>\n",
       "      <td>HOMICIDE</td>\n",
       "      <td>FIRST DEGREE MURDER</td>\n",
       "      <td>HOUSE</td>\n",
       "      <td>True</td>\n",
       "      <td>False</td>\n",
       "      <td>41.818390</td>\n",
       "      <td>-87.640922</td>\n",
       "    </tr>\n",
       "    <tr>\n",
       "      <th>34</th>\n",
       "      <td>07/31/2017 08:30:00 PM</td>\n",
       "      <td>0000X S CICERO AVE</td>\n",
       "      <td>OTHER OFFENSE</td>\n",
       "      <td>OTHER VEHICLE OFFENSE</td>\n",
       "      <td>STREET</td>\n",
       "      <td>True</td>\n",
       "      <td>False</td>\n",
       "      <td>NaN</td>\n",
       "      <td>NaN</td>\n",
       "    </tr>\n",
       "    <tr>\n",
       "      <th>38</th>\n",
       "      <td>07/14/2017 07:51:00 PM</td>\n",
       "      <td>044XX W JACKSON BLVD</td>\n",
       "      <td>OTHER OFFENSE</td>\n",
       "      <td>OTHER VEHICLE OFFENSE</td>\n",
       "      <td>STREET</td>\n",
       "      <td>True</td>\n",
       "      <td>False</td>\n",
       "      <td>NaN</td>\n",
       "      <td>NaN</td>\n",
       "    </tr>\n",
       "    <tr>\n",
       "      <th>70</th>\n",
       "      <td>08/10/2017 09:09:00 PM</td>\n",
       "      <td>081XX W HIGGINS RD</td>\n",
       "      <td>PROSTITUTION</td>\n",
       "      <td>SOLICIT FOR BUSINESS</td>\n",
       "      <td>HOTEL/MOTEL</td>\n",
       "      <td>True</td>\n",
       "      <td>False</td>\n",
       "      <td>41.985421</td>\n",
       "      <td>-87.829757</td>\n",
       "    </tr>\n",
       "    <tr>\n",
       "      <th>146</th>\n",
       "      <td>08/10/2017 09:00:00 PM</td>\n",
       "      <td>055XX N KENMORE AVE</td>\n",
       "      <td>BATTERY</td>\n",
       "      <td>DOMESTIC BATTERY SIMPLE</td>\n",
       "      <td>APARTMENT</td>\n",
       "      <td>True</td>\n",
       "      <td>True</td>\n",
       "      <td>41.982517</td>\n",
       "      <td>-87.656584</td>\n",
       "    </tr>\n",
       "  </tbody>\n",
       "</table>\n",
       "</div>"
      ],
      "text/plain": [
       "                       Date                 Block    PrimaryType  \\\n",
       "0    08/10/2017 04:04:00 PM    041XX S WALLACE ST       HOMICIDE   \n",
       "34   07/31/2017 08:30:00 PM    0000X S CICERO AVE  OTHER OFFENSE   \n",
       "38   07/14/2017 07:51:00 PM  044XX W JACKSON BLVD  OTHER OFFENSE   \n",
       "70   08/10/2017 09:09:00 PM    081XX W HIGGINS RD   PROSTITUTION   \n",
       "146  08/10/2017 09:00:00 PM   055XX N KENMORE AVE        BATTERY   \n",
       "\n",
       "                 Description LocationDescription  Arrest  Domestic   Latitude  \\\n",
       "0        FIRST DEGREE MURDER               HOUSE    True     False  41.818390   \n",
       "34     OTHER VEHICLE OFFENSE              STREET    True     False        NaN   \n",
       "38     OTHER VEHICLE OFFENSE              STREET    True     False        NaN   \n",
       "70      SOLICIT FOR BUSINESS         HOTEL/MOTEL    True     False  41.985421   \n",
       "146  DOMESTIC BATTERY SIMPLE           APARTMENT    True      True  41.982517   \n",
       "\n",
       "     Longitude  \n",
       "0   -87.640922  \n",
       "34         NaN  \n",
       "38         NaN  \n",
       "70  -87.829757  \n",
       "146 -87.656584  "
      ]
     },
     "execution_count": 18,
     "metadata": {},
     "output_type": "execute_result"
    }
   ],
   "source": [
    "# count arrests\n",
    "arrests = crimes[crimes.Arrest==True]\n",
    "print(\"{:,} arrests\".format(len(arrests)))\n",
    "arrests.head()"
   ]
  },
  {
   "cell_type": "code",
   "execution_count": 19,
   "metadata": {
    "collapsed": false
   },
   "outputs": [
    {
     "name": "stdout",
     "output_type": "stream",
     "text": [
      "26,261 domestic crime reports\n"
     ]
    },
    {
     "data": {
      "text/html": [
       "<div>\n",
       "<style>\n",
       "    .dataframe thead tr:only-child th {\n",
       "        text-align: right;\n",
       "    }\n",
       "\n",
       "    .dataframe thead th {\n",
       "        text-align: left;\n",
       "    }\n",
       "\n",
       "    .dataframe tbody tr th {\n",
       "        vertical-align: top;\n",
       "    }\n",
       "</style>\n",
       "<table border=\"1\" class=\"dataframe\">\n",
       "  <thead>\n",
       "    <tr style=\"text-align: right;\">\n",
       "      <th></th>\n",
       "      <th>Date</th>\n",
       "      <th>Block</th>\n",
       "      <th>PrimaryType</th>\n",
       "      <th>Description</th>\n",
       "      <th>LocationDescription</th>\n",
       "      <th>Arrest</th>\n",
       "      <th>Domestic</th>\n",
       "      <th>Latitude</th>\n",
       "      <th>Longitude</th>\n",
       "    </tr>\n",
       "  </thead>\n",
       "  <tbody>\n",
       "    <tr>\n",
       "      <th>2</th>\n",
       "      <td>08/04/2017 09:00:00 PM</td>\n",
       "      <td>017XX N MASON AVE</td>\n",
       "      <td>OTHER OFFENSE</td>\n",
       "      <td>HARASSMENT BY TELEPHONE</td>\n",
       "      <td>RESIDENCE</td>\n",
       "      <td>False</td>\n",
       "      <td>True</td>\n",
       "      <td>NaN</td>\n",
       "      <td>NaN</td>\n",
       "    </tr>\n",
       "    <tr>\n",
       "      <th>10</th>\n",
       "      <td>06/06/2017 08:32:00 AM</td>\n",
       "      <td>071XX S VINCENNES AVE</td>\n",
       "      <td>CRIMINAL DAMAGE</td>\n",
       "      <td>TO VEHICLE</td>\n",
       "      <td>STREET</td>\n",
       "      <td>False</td>\n",
       "      <td>True</td>\n",
       "      <td>NaN</td>\n",
       "      <td>NaN</td>\n",
       "    </tr>\n",
       "    <tr>\n",
       "      <th>11</th>\n",
       "      <td>07/25/2017 03:00:00 PM</td>\n",
       "      <td>064XX S DR MARTIN LUTHER KING JR DR</td>\n",
       "      <td>CRIMINAL DAMAGE</td>\n",
       "      <td>TO PROPERTY</td>\n",
       "      <td>APARTMENT</td>\n",
       "      <td>False</td>\n",
       "      <td>True</td>\n",
       "      <td>NaN</td>\n",
       "      <td>NaN</td>\n",
       "    </tr>\n",
       "    <tr>\n",
       "      <th>18</th>\n",
       "      <td>08/08/2017 11:00:00 PM</td>\n",
       "      <td>059XX S TROY ST</td>\n",
       "      <td>BATTERY</td>\n",
       "      <td>DOMESTIC BATTERY SIMPLE</td>\n",
       "      <td>APARTMENT</td>\n",
       "      <td>False</td>\n",
       "      <td>True</td>\n",
       "      <td>NaN</td>\n",
       "      <td>NaN</td>\n",
       "    </tr>\n",
       "    <tr>\n",
       "      <th>36</th>\n",
       "      <td>08/02/2017 09:30:00 PM</td>\n",
       "      <td>001XX S HALSTED ST</td>\n",
       "      <td>BATTERY</td>\n",
       "      <td>DOMESTIC BATTERY SIMPLE</td>\n",
       "      <td>OTHER</td>\n",
       "      <td>False</td>\n",
       "      <td>True</td>\n",
       "      <td>NaN</td>\n",
       "      <td>NaN</td>\n",
       "    </tr>\n",
       "  </tbody>\n",
       "</table>\n",
       "</div>"
      ],
      "text/plain": [
       "                      Date                                Block  \\\n",
       "2   08/04/2017 09:00:00 PM                    017XX N MASON AVE   \n",
       "10  06/06/2017 08:32:00 AM                071XX S VINCENNES AVE   \n",
       "11  07/25/2017 03:00:00 PM  064XX S DR MARTIN LUTHER KING JR DR   \n",
       "18  08/08/2017 11:00:00 PM                      059XX S TROY ST   \n",
       "36  08/02/2017 09:30:00 PM                   001XX S HALSTED ST   \n",
       "\n",
       "        PrimaryType              Description LocationDescription  Arrest  \\\n",
       "2     OTHER OFFENSE  HARASSMENT BY TELEPHONE           RESIDENCE   False   \n",
       "10  CRIMINAL DAMAGE               TO VEHICLE              STREET   False   \n",
       "11  CRIMINAL DAMAGE              TO PROPERTY           APARTMENT   False   \n",
       "18          BATTERY  DOMESTIC BATTERY SIMPLE           APARTMENT   False   \n",
       "36          BATTERY  DOMESTIC BATTERY SIMPLE               OTHER   False   \n",
       "\n",
       "    Domestic  Latitude  Longitude  \n",
       "2       True       NaN        NaN  \n",
       "10      True       NaN        NaN  \n",
       "11      True       NaN        NaN  \n",
       "18      True       NaN        NaN  \n",
       "36      True       NaN        NaN  "
      ]
     },
     "execution_count": 19,
     "metadata": {},
     "output_type": "execute_result"
    }
   ],
   "source": [
    "# domestic violance\n",
    "domestic = crimes[crimes.Domestic==True]\n",
    "print(\"{:,} domestic crime reports\".format(len(domestic)))\n",
    "domestic.head()"
   ]
  },
  {
   "cell_type": "code",
   "execution_count": 20,
   "metadata": {
    "collapsed": false
   },
   "outputs": [
    {
     "name": "stdout",
     "output_type": "stream",
     "text": [
      "<class 'dask.dataframe.core.DataFrame'>\n",
      "Columns: 9 entries, Date to Longitude\n",
      "dtypes: object(5), bool(2), float64(2)"
     ]
    }
   ],
   "source": [
    "crimes.info()"
   ]
  },
  {
   "cell_type": "code",
   "execution_count": 21,
   "metadata": {
    "collapsed": false
   },
   "outputs": [
    {
     "data": {
      "text/html": [
       "<div>\n",
       "<style>\n",
       "    .dataframe thead tr:only-child th {\n",
       "        text-align: right;\n",
       "    }\n",
       "\n",
       "    .dataframe thead th {\n",
       "        text-align: left;\n",
       "    }\n",
       "\n",
       "    .dataframe tbody tr th {\n",
       "        vertical-align: top;\n",
       "    }\n",
       "</style>\n",
       "<table border=\"1\" class=\"dataframe\">\n",
       "  <thead>\n",
       "    <tr style=\"text-align: right;\">\n",
       "      <th></th>\n",
       "      <th>Block</th>\n",
       "      <th>PrimaryType</th>\n",
       "      <th>Description</th>\n",
       "      <th>LocationDescription</th>\n",
       "      <th>Arrest</th>\n",
       "      <th>Domestic</th>\n",
       "      <th>Latitude</th>\n",
       "      <th>Longitude</th>\n",
       "    </tr>\n",
       "    <tr>\n",
       "      <th>Date</th>\n",
       "      <th></th>\n",
       "      <th></th>\n",
       "      <th></th>\n",
       "      <th></th>\n",
       "      <th></th>\n",
       "      <th></th>\n",
       "      <th></th>\n",
       "      <th></th>\n",
       "    </tr>\n",
       "  </thead>\n",
       "  <tbody>\n",
       "    <tr>\n",
       "      <th>01/01/2017 01:31:00 PM</th>\n",
       "      <td>077XX S UNION AVE</td>\n",
       "      <td>NARCOTICS</td>\n",
       "      <td>MANU/DELIVER:CRACK</td>\n",
       "      <td>RESIDENCE</td>\n",
       "      <td>True</td>\n",
       "      <td>False</td>\n",
       "      <td>41.753552</td>\n",
       "      <td>-87.641674</td>\n",
       "    </tr>\n",
       "    <tr>\n",
       "      <th>01/01/2017 01:58:00 PM</th>\n",
       "      <td>050XX W CHICAGO AVE</td>\n",
       "      <td>NARCOTICS</td>\n",
       "      <td>MANU/DELIVER: HALLUCINOGEN</td>\n",
       "      <td>TAVERN/LIQUOR STORE</td>\n",
       "      <td>True</td>\n",
       "      <td>False</td>\n",
       "      <td>NaN</td>\n",
       "      <td>NaN</td>\n",
       "    </tr>\n",
       "    <tr>\n",
       "      <th>01/01/2017 02:12:00 PM</th>\n",
       "      <td>083XX S COTTAGE GROVE AVE</td>\n",
       "      <td>NARCOTICS</td>\n",
       "      <td>POSS: CRACK</td>\n",
       "      <td>GAS STATION</td>\n",
       "      <td>True</td>\n",
       "      <td>False</td>\n",
       "      <td>41.743504</td>\n",
       "      <td>-87.605018</td>\n",
       "    </tr>\n",
       "    <tr>\n",
       "      <th>01/01/2017 02:24:00 PM</th>\n",
       "      <td>010XX N RIDGEWAY AVE</td>\n",
       "      <td>NARCOTICS</td>\n",
       "      <td>POSS: HEROIN(WHITE)</td>\n",
       "      <td>SIDEWALK</td>\n",
       "      <td>True</td>\n",
       "      <td>False</td>\n",
       "      <td>41.900070</td>\n",
       "      <td>-87.720124</td>\n",
       "    </tr>\n",
       "    <tr>\n",
       "      <th>01/01/2017 03:19:00 AM</th>\n",
       "      <td>055XX W WASHINGTON BLVD</td>\n",
       "      <td>NARCOTICS</td>\n",
       "      <td>POSS: CANNABIS 30GMS OR LESS</td>\n",
       "      <td>STREET</td>\n",
       "      <td>True</td>\n",
       "      <td>False</td>\n",
       "      <td>41.882252</td>\n",
       "      <td>-87.764442</td>\n",
       "    </tr>\n",
       "  </tbody>\n",
       "</table>\n",
       "</div>"
      ],
      "text/plain": [
       "                                            Block PrimaryType  \\\n",
       "Date                                                            \n",
       "01/01/2017 01:31:00 PM          077XX S UNION AVE   NARCOTICS   \n",
       "01/01/2017 01:58:00 PM        050XX W CHICAGO AVE   NARCOTICS   \n",
       "01/01/2017 02:12:00 PM  083XX S COTTAGE GROVE AVE   NARCOTICS   \n",
       "01/01/2017 02:24:00 PM       010XX N RIDGEWAY AVE   NARCOTICS   \n",
       "01/01/2017 03:19:00 AM    055XX W WASHINGTON BLVD   NARCOTICS   \n",
       "\n",
       "                                         Description  LocationDescription  \\\n",
       "Date                                                                        \n",
       "01/01/2017 01:31:00 PM            MANU/DELIVER:CRACK            RESIDENCE   \n",
       "01/01/2017 01:58:00 PM    MANU/DELIVER: HALLUCINOGEN  TAVERN/LIQUOR STORE   \n",
       "01/01/2017 02:12:00 PM                   POSS: CRACK          GAS STATION   \n",
       "01/01/2017 02:24:00 PM           POSS: HEROIN(WHITE)             SIDEWALK   \n",
       "01/01/2017 03:19:00 AM  POSS: CANNABIS 30GMS OR LESS               STREET   \n",
       "\n",
       "                        Arrest  Domestic   Latitude  Longitude  \n",
       "Date                                                            \n",
       "01/01/2017 01:31:00 PM    True     False  41.753552 -87.641674  \n",
       "01/01/2017 01:58:00 PM    True     False        NaN        NaN  \n",
       "01/01/2017 02:12:00 PM    True     False  41.743504 -87.605018  \n",
       "01/01/2017 02:24:00 PM    True     False  41.900070 -87.720124  \n",
       "01/01/2017 03:19:00 AM    True     False  41.882252 -87.764442  "
      ]
     },
     "execution_count": 21,
     "metadata": {},
     "output_type": "execute_result"
    }
   ],
   "source": [
    "# get narcotics crimes\n",
    "narcotics = crimes[crimes['PrimaryType']=='NARCOTICS']\n",
    "narcotics = narcotics.set_index('Date')\n",
    "narcotics.head()"
   ]
  },
  {
   "cell_type": "code",
   "execution_count": 22,
   "metadata": {
    "collapsed": false
   },
   "outputs": [
    {
     "name": "stdout",
     "output_type": "stream",
     "text": [
      "                                PrimaryType\n",
      "Description                                \n",
      "POSS: HEROIN(WHITE)                    1303\n",
      "POSS: CANNABIS 30GMS OR LESS            759\n",
      "POSS: CRACK                             632\n",
      "MANU/DELIVER: HEROIN (WHITE)            571\n",
      "FOUND SUSPECT NARCOTICS                 466\n",
      "MANU/DEL:CANNABIS 10GM OR LESS          398\n",
      "POSS: CANNABIS MORE THAN 30GMS          360\n",
      "MANU/DEL:CANNABIS OVER 10 GMS           359\n",
      "POSS: COCAINE                           291\n",
      "MANU/DELIVER:CRACK                      240\n",
      "...\n",
      "Total Narcotics Crime Descriptions: 40\n"
     ]
    }
   ],
   "source": [
    "# get narcotics crime description counts\n",
    "narcotics_crimes = narcotics[['PrimaryType', 'Description']]\\\n",
    ".groupby('Description').count().compute()\\\n",
    ".sort_values(by='PrimaryType', ascending=False)\n",
    "\n",
    "print(narcotics_crimes.head(10))\n",
    "print('...')\n",
    "print('Total Narcotics Crime Descriptions: {}'.format(len(narcotics_crimes)))"
   ]
  },
  {
   "cell_type": "code",
   "execution_count": 25,
   "metadata": {
    "collapsed": false
   },
   "outputs": [
    {
     "data": {
      "image/png": "[encoded data removed]",
      "text/plain": [
       "<matplotlib.figure.Figure at 0x16aba240>"
      ]
     },
     "metadata": {},
     "output_type": "display_data"
    }
   ],
   "source": [
    "# plot top 20 narcotics crimes\n",
    "narcotics_crimes[:20].sort_values(by='PrimaryType', ascending=True)\\\n",
    ".plot(kind='barh', figsize=(6,6), color='#cc0000')\n",
    "plt.title('Top 2017 Chicago Narcotics Crimes')\n",
    "plt.xlabel('Number of Crimes')\n",
    "plt.ylabel('Narcotics Crime Type')\n",
    "ax = plt.gca()\n",
    "ax.xaxis.set_major_formatter(ticker.StrMethodFormatter('{x:,.0f}'))\n",
    "plt.show()"
   ]
  },
  {
   "cell_type": "code",
   "execution_count": null,
   "metadata": {
    "collapsed": true
   },
   "outputs": [],
   "source": []
  }
 ],
 "metadata": {
  "anaconda-cloud": {},
  "kernelspec": {
   "display_name": "Python [conda root]",
   "language": "python",
   "name": "conda-root-py"
  },
  "language_info": {
   "codemirror_mode": {
    "name": "ipython",
    "version": 3
   },
   "file_extension": ".py",
   "mimetype": "text/x-python",
   "name": "python",
   "nbconvert_exporter": "python",
   "pygments_lexer": "ipython3",
   "version": "3.5.2"
  }
 },
 "nbformat": 4,
 "nbformat_minor": 1
}
